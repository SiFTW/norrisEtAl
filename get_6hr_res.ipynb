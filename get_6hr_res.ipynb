{
 "cells": [
  {
   "cell_type": "code",
   "execution_count": 74,
   "id": "4cf63686",
   "metadata": {},
   "outputs": [],
   "source": [
    "################################################\n",
    "### all the packages we need are defined here ##\n",
    "################################################\n",
    "using Logging\n",
    "using Dates\n",
    "using CSV\n",
    "using DataFrames\n",
    "using JLD2\n",
    "using FileIO\n",
    "using DataFrames\n",
    "using Plots \n",
    "using CSV\n",
    "using Distributions\n",
    "using Random\n",
    "using Tables\n",
    "using DelimitedFiles\n",
    "using BSON: @save, @load"
   ]
  },
  {
   "cell_type": "code",
   "execution_count": 5,
   "id": "5c498355",
   "metadata": {},
   "outputs": [],
   "source": [
    "mutable struct cell\n",
    "    generation::Int64\n",
    "    ID::Int64\n",
    "    motherCellID::Int64\n",
    "    founderCellID::Int64\n",
    "    ODEFile::String\n",
    "    fate::Int64 #0 = unknown, 1 = division, 2 = death\n",
    "    tBirth::Float64\n",
    "    tDeath::Float64\n",
    "    solutionObject #the entire solution object. If you don't need this comment it out for efficiency.\n",
    "    y0::Matrix{Float64} #initial conditions.\n",
    "    yCoord::Float64 #for plotting lineage trees\n",
    "    leftDaughterID::Int64\n",
    "    rightDaughterID::Int64\n",
    "    parameterList\n",
    "    parameterNameList::Vector{String}\n",
    "    cellsRepresented::Int64\n",
    "    #newSwitch::Int64\n",
    "end    "
   ]
  },
  {
   "cell_type": "code",
   "execution_count": 2,
   "id": "b7e0676b",
   "metadata": {},
   "outputs": [
    {
     "data": {
      "text/plain": [
       "createEmptyCellDF (generic function with 1 method)"
      ]
     },
     "execution_count": 2,
     "metadata": {},
     "output_type": "execute_result"
    }
   ],
   "source": [
    "function createEmptyCellDF()\n",
    "    cell_df=DataFrame()\n",
    "\n",
    "    @load \"SSDoutputs/allMutSims/DLBCL-LS1065/all_mut/processedCells/cell_1.jld2\" thisCell\n",
    "    sixhr_df = thisCell.solutionObject[(thisCell.solutionObject.timestamp .== 361.0), :]\n",
    "    sixhr_df = sixhr_df[!, 2:195]\n",
    "    # add patient ID\n",
    "    insertcols!(sixhr_df, 1, :patient_ID => \"DLBCL-LS1065\")\n",
    "    delete!(sixhr_df, [1])\n",
    "    return(sixhr_df)\n",
    "end"
   ]
  },
  {
   "cell_type": "code",
   "execution_count": 27,
   "id": "237ce279",
   "metadata": {},
   "outputs": [
    {
     "data": {
      "text/plain": [
       "getFounderCells (generic function with 1 method)"
      ]
     },
     "execution_count": 27,
     "metadata": {},
     "output_type": "execute_result"
    }
   ],
   "source": [
    "function getFounderCells(files, folder, sixhour_df, condition)\n",
    "    for file in files\n",
    "        count=length(files)\n",
    "        wrong=0\n",
    "        correctCell=\"cell_1.jld2\"\n",
    "        try\n",
    "            @load folder*\"/\"*file*\"/\"*condition*\"/processedCells/cell_1.jld2\" thisCell \n",
    "            if thisCell.founderCellID!=1 || thisCell.generation!=1\n",
    "                println(\"cell missmatch in patient: \"*file)\n",
    "                println(string(thisCell.founderCellID))\n",
    "                println(string(thisCell.generation))\n",
    "                thisPatFiles=readdir(folder*\"/\"*file*\"/\"*condition*\"/processedCells/\")\n",
    "                for thisPatFile in thisPatFiles\n",
    "                    @load folder*\"/\"*file*\"/\"*condition*\"/processedCells/\"*thisPatFile thisCell \n",
    "                    if thisCell.founderCellID==1 && thisCell.generation==1\n",
    "                        println(\"found true cell 1: \"*thisPatFile)\n",
    "                        correctCell=thisPatFile\n",
    "                        continue\n",
    "                    end\n",
    "                end\n",
    "                wrong=wrong+1\n",
    "            end\n",
    "       @load folder*\"/\"*file*\"/\"*condition*\"/processedCells/\"*correctCell thisCell \n",
    "        temp_df = thisCell.solutionObject[(thisCell.solutionObject.timestamp .== 361.0), :]\n",
    "        temp_df = temp_df[!, 2:195]\n",
    "        # add patient ID\n",
    "        insertcols!(temp_df, 1, :patient_ID => file)\n",
    "        append!(sixhour_df, temp_df)\n",
    "        catch\n",
    "            println(\"couldn't process patient: \"*file)\n",
    "        end\n",
    "    end\n",
    "    return(sixhour_df)\n",
    "end"
   ]
  },
  {
   "cell_type": "code",
   "execution_count": 53,
   "id": "f50a1f35",
   "metadata": {
    "scrolled": true
   },
   "outputs": [
    {
     "data": {
      "text/html": [
       "<div class=\"data-frame\"><p>0 rows × 195 columns (omitted printing of 187 columns)</p><table class=\"data-frame\"><thead><tr><th></th><th>patient_ID</th><th>cMyct</th><th>RelAnp50n</th><th>cRelnp50n</th><th>Bcl2t</th><th>Cycdt</th><th>tcRel</th><th>RelAnp52n</th></tr><tr><th></th><th title=\"String\">String</th><th title=\"Float64\">Float64</th><th title=\"Float64\">Float64</th><th title=\"Float64\">Float64</th><th title=\"Float64\">Float64</th><th title=\"Float64\">Float64</th><th title=\"Float64\">Float64</th><th title=\"Float64\">Float64</th></tr></thead><tbody></tbody></table></div>"
      ],
      "text/latex": [
       "\\begin{tabular}{r|ccccccccc}\n",
       "\t& patient\\_ID & cMyct & RelAnp50n & cRelnp50n & Bcl2t & Cycdt & tcRel & RelAnp52n & \\\\\n",
       "\t\\hline\n",
       "\t& String & Float64 & Float64 & Float64 & Float64 & Float64 & Float64 & Float64 & \\\\\n",
       "\t\\hline\n",
       "\\end{tabular}\n"
      ],
      "text/plain": [
       "\u001b[1m0×195 DataFrame\u001b[0m"
      ]
     },
     "execution_count": 53,
     "metadata": {},
     "output_type": "execute_result"
    }
   ],
   "source": [
    "C2_strict_multi_6h = createEmptyCellDF()"
   ]
  },
  {
   "cell_type": "code",
   "execution_count": 54,
   "id": "b99aa106",
   "metadata": {
    "scrolled": true
   },
   "outputs": [
    {
     "data": {
      "text/plain": [
       "248-element Vector{String}:\n",
       " \"P104\"\n",
       " \"P105\"\n",
       " \"P109\"\n",
       " \"P111\"\n",
       " \"P112\"\n",
       " \"P115\"\n",
       " \"P117\"\n",
       " \"P120\"\n",
       " \"P122\"\n",
       " \"P124\"\n",
       " \"P13\"\n",
       " \"P132\"\n",
       " \"P137\"\n",
       " ⋮\n",
       " \"P849\"\n",
       " \"P861\"\n",
       " \"P880\"\n",
       " \"P881\"\n",
       " \"P887\"\n",
       " \"P89\"\n",
       " \"P894\"\n",
       " \"P912\"\n",
       " \"P92\"\n",
       " \"P924\"\n",
       " \"P95\"\n",
       " \"P96\""
      ]
     },
     "execution_count": 54,
     "metadata": {},
     "output_type": "execute_result"
    }
   ],
   "source": [
    "files = readdir(\"SSDoutputs/C2_strict_sims/\")"
   ]
  },
  {
   "cell_type": "code",
   "execution_count": 55,
   "id": "213fea11",
   "metadata": {
    "scrolled": true
   },
   "outputs": [
    {
     "data": {
      "text/html": [
       "<div class=\"data-frame\"><p>248 rows × 195 columns (omitted printing of 187 columns)</p><table class=\"data-frame\"><thead><tr><th></th><th>patient_ID</th><th>cMyct</th><th>RelAnp50n</th><th>cRelnp50n</th><th>Bcl2t</th><th>Cycdt</th><th>tcRel</th><th>RelAnp52n</th></tr><tr><th></th><th title=\"String\">String</th><th title=\"Float64\">Float64</th><th title=\"Float64\">Float64</th><th title=\"Float64\">Float64</th><th title=\"Float64\">Float64</th><th title=\"Float64\">Float64</th><th title=\"Float64\">Float64</th><th title=\"Float64\">Float64</th></tr></thead><tbody><tr><th>1</th><td>P104</td><td>6.80557</td><td>15.7518</td><td>5.55172</td><td>88.5879</td><td>0.100765</td><td>0.0386653</td><td>1.46904</td></tr><tr><th>2</th><td>P105</td><td>10.4545</td><td>24.1281</td><td>10.4518</td><td>88.2749</td><td>0.144238</td><td>0.0441876</td><td>1.85993</td></tr><tr><th>3</th><td>P109</td><td>10.4528</td><td>24.1272</td><td>10.4453</td><td>88.2629</td><td>0.144226</td><td>0.0440745</td><td>1.86013</td></tr><tr><th>4</th><td>P111</td><td>6.80587</td><td>15.751</td><td>5.55325</td><td>64.4738</td><td>0.100768</td><td>0.0386937</td><td>1.46889</td></tr><tr><th>5</th><td>P112</td><td>10.4532</td><td>24.1287</td><td>10.4459</td><td>88.2643</td><td>0.144227</td><td>0.0440746</td><td>1.86023</td></tr><tr><th>6</th><td>P115</td><td>10.4532</td><td>24.1287</td><td>10.4459</td><td>88.2643</td><td>0.144227</td><td>0.0440746</td><td>1.86023</td></tr><tr><th>7</th><td>P117</td><td>6.80431</td><td>15.7506</td><td>5.54724</td><td>64.4627</td><td>0.100756</td><td>0.0385746</td><td>1.46915</td></tr><tr><th>8</th><td>P120</td><td>9.81549</td><td>22.2493</td><td>9.89401</td><td>84.8452</td><td>0.137409</td><td>0.0447539</td><td>2.04555</td></tr><tr><th>9</th><td>P122</td><td>8.41931</td><td>19.6415</td><td>7.62849</td><td>74.8121</td><td>0.120173</td><td>0.0413565</td><td>1.63945</td></tr><tr><th>10</th><td>P124</td><td>6.80531</td><td>15.7505</td><td>5.5513</td><td>52.4116</td><td>0.100764</td><td>0.0386653</td><td>1.46893</td></tr><tr><th>11</th><td>P13</td><td>12.6286</td><td>19.6407</td><td>7.62816</td><td>104.098</td><td>0.120172</td><td>0.0413565</td><td>1.63939</td></tr><tr><th>12</th><td>P132</td><td>10.4528</td><td>24.1273</td><td>10.4453</td><td>88.2628</td><td>0.144226</td><td>0.0440745</td><td>1.86013</td></tr><tr><th>13</th><td>P137</td><td>6.8054</td><td>15.7503</td><td>5.55121</td><td>124.762</td><td>0.100764</td><td>0.0386653</td><td>1.46891</td></tr><tr><th>14</th><td>P138</td><td>9.39685</td><td>21.8112</td><td>8.75125</td><td>81.5455</td><td>0.13338</td><td>0.042954</td><td>2.39629</td></tr><tr><th>15</th><td>P14</td><td>8.41836</td><td>19.6405</td><td>7.62512</td><td>104.09</td><td>0.120166</td><td>0.0413075</td><td>1.63951</td></tr><tr><th>16</th><td>P140</td><td>8.41831</td><td>19.641</td><td>7.62531</td><td>74.8058</td><td>0.120167</td><td>0.0413075</td><td>1.63955</td></tr><tr><th>17</th><td>P148</td><td>11.914</td><td>26.6801</td><td>12.9227</td><td>140.588</td><td>0.162428</td><td>0.0470169</td><td>2.29342</td></tr><tr><th>18</th><td>P149</td><td>8.41836</td><td>19.6405</td><td>7.62512</td><td>104.09</td><td>0.120166</td><td>0.0413075</td><td>1.63951</td></tr><tr><th>19</th><td>P151</td><td>6.80562</td><td>15.7508</td><td>5.55317</td><td>64.4727</td><td>0.100766</td><td>0.0386937</td><td>1.46887</td></tr><tr><th>20</th><td>P154</td><td>11.8484</td><td>27.078</td><td>12.1334</td><td>139.157</td><td>0.16309</td><td>0.0456298</td><td>2.7352</td></tr><tr><th>21</th><td>P155</td><td>6.80562</td><td>15.7508</td><td>5.55317</td><td>64.4727</td><td>0.100766</td><td>0.0386937</td><td>1.46887</td></tr><tr><th>22</th><td>P158</td><td>6.80527</td><td>15.7511</td><td>5.5515</td><td>124.761</td><td>0.100763</td><td>0.0386653</td><td>1.46898</td></tr><tr><th>23</th><td>P159</td><td>6.80527</td><td>15.7511</td><td>5.5515</td><td>124.761</td><td>0.100763</td><td>0.0386653</td><td>1.46898</td></tr><tr><th>24</th><td>P16</td><td>7.44887</td><td>17.2665</td><td>6.29026</td><td>68.8289</td><td>0.109511</td><td>0.0403152</td><td>2.14319</td></tr><tr><th>25</th><td>P163</td><td>10.4531</td><td>24.1275</td><td>10.4454</td><td>124.278</td><td>0.144227</td><td>0.0440745</td><td>1.86015</td></tr><tr><th>26</th><td>P169</td><td>6.80527</td><td>15.7511</td><td>5.5515</td><td>124.761</td><td>0.100763</td><td>0.0386653</td><td>1.46898</td></tr><tr><th>27</th><td>P17</td><td>8.41836</td><td>19.6405</td><td>7.62512</td><td>104.09</td><td>0.120166</td><td>0.0413075</td><td>1.63951</td></tr><tr><th>28</th><td>P172</td><td>6.80519</td><td>15.7506</td><td>5.55139</td><td>88.5858</td><td>0.100763</td><td>0.0386699</td><td>1.46894</td></tr><tr><th>29</th><td>P174</td><td>10.4532</td><td>24.1287</td><td>10.4459</td><td>88.2643</td><td>0.144227</td><td>0.0440746</td><td>1.86023</td></tr><tr><th>30</th><td>P184</td><td>11.9141</td><td>26.6798</td><td>12.9226</td><td>99.1385</td><td>0.162429</td><td>0.0470169</td><td>2.29339</td></tr><tr><th>&vellip;</th><td>&vellip;</td><td>&vellip;</td><td>&vellip;</td><td>&vellip;</td><td>&vellip;</td><td>&vellip;</td><td>&vellip;</td><td>&vellip;</td></tr></tbody></table></div>"
      ],
      "text/latex": [
       "\\begin{tabular}{r|ccccccccc}\n",
       "\t& patient\\_ID & cMyct & RelAnp50n & cRelnp50n & Bcl2t & Cycdt & tcRel & RelAnp52n & \\\\\n",
       "\t\\hline\n",
       "\t& String & Float64 & Float64 & Float64 & Float64 & Float64 & Float64 & Float64 & \\\\\n",
       "\t\\hline\n",
       "\t1 & P104 & 6.80557 & 15.7518 & 5.55172 & 88.5879 & 0.100765 & 0.0386653 & 1.46904 & $\\dots$ \\\\\n",
       "\t2 & P105 & 10.4545 & 24.1281 & 10.4518 & 88.2749 & 0.144238 & 0.0441876 & 1.85993 & $\\dots$ \\\\\n",
       "\t3 & P109 & 10.4528 & 24.1272 & 10.4453 & 88.2629 & 0.144226 & 0.0440745 & 1.86013 & $\\dots$ \\\\\n",
       "\t4 & P111 & 6.80587 & 15.751 & 5.55325 & 64.4738 & 0.100768 & 0.0386937 & 1.46889 & $\\dots$ \\\\\n",
       "\t5 & P112 & 10.4532 & 24.1287 & 10.4459 & 88.2643 & 0.144227 & 0.0440746 & 1.86023 & $\\dots$ \\\\\n",
       "\t6 & P115 & 10.4532 & 24.1287 & 10.4459 & 88.2643 & 0.144227 & 0.0440746 & 1.86023 & $\\dots$ \\\\\n",
       "\t7 & P117 & 6.80431 & 15.7506 & 5.54724 & 64.4627 & 0.100756 & 0.0385746 & 1.46915 & $\\dots$ \\\\\n",
       "\t8 & P120 & 9.81549 & 22.2493 & 9.89401 & 84.8452 & 0.137409 & 0.0447539 & 2.04555 & $\\dots$ \\\\\n",
       "\t9 & P122 & 8.41931 & 19.6415 & 7.62849 & 74.8121 & 0.120173 & 0.0413565 & 1.63945 & $\\dots$ \\\\\n",
       "\t10 & P124 & 6.80531 & 15.7505 & 5.5513 & 52.4116 & 0.100764 & 0.0386653 & 1.46893 & $\\dots$ \\\\\n",
       "\t11 & P13 & 12.6286 & 19.6407 & 7.62816 & 104.098 & 0.120172 & 0.0413565 & 1.63939 & $\\dots$ \\\\\n",
       "\t12 & P132 & 10.4528 & 24.1273 & 10.4453 & 88.2628 & 0.144226 & 0.0440745 & 1.86013 & $\\dots$ \\\\\n",
       "\t13 & P137 & 6.8054 & 15.7503 & 5.55121 & 124.762 & 0.100764 & 0.0386653 & 1.46891 & $\\dots$ \\\\\n",
       "\t14 & P138 & 9.39685 & 21.8112 & 8.75125 & 81.5455 & 0.13338 & 0.042954 & 2.39629 & $\\dots$ \\\\\n",
       "\t15 & P14 & 8.41836 & 19.6405 & 7.62512 & 104.09 & 0.120166 & 0.0413075 & 1.63951 & $\\dots$ \\\\\n",
       "\t16 & P140 & 8.41831 & 19.641 & 7.62531 & 74.8058 & 0.120167 & 0.0413075 & 1.63955 & $\\dots$ \\\\\n",
       "\t17 & P148 & 11.914 & 26.6801 & 12.9227 & 140.588 & 0.162428 & 0.0470169 & 2.29342 & $\\dots$ \\\\\n",
       "\t18 & P149 & 8.41836 & 19.6405 & 7.62512 & 104.09 & 0.120166 & 0.0413075 & 1.63951 & $\\dots$ \\\\\n",
       "\t19 & P151 & 6.80562 & 15.7508 & 5.55317 & 64.4727 & 0.100766 & 0.0386937 & 1.46887 & $\\dots$ \\\\\n",
       "\t20 & P154 & 11.8484 & 27.078 & 12.1334 & 139.157 & 0.16309 & 0.0456298 & 2.7352 & $\\dots$ \\\\\n",
       "\t21 & P155 & 6.80562 & 15.7508 & 5.55317 & 64.4727 & 0.100766 & 0.0386937 & 1.46887 & $\\dots$ \\\\\n",
       "\t22 & P158 & 6.80527 & 15.7511 & 5.5515 & 124.761 & 0.100763 & 0.0386653 & 1.46898 & $\\dots$ \\\\\n",
       "\t23 & P159 & 6.80527 & 15.7511 & 5.5515 & 124.761 & 0.100763 & 0.0386653 & 1.46898 & $\\dots$ \\\\\n",
       "\t24 & P16 & 7.44887 & 17.2665 & 6.29026 & 68.8289 & 0.109511 & 0.0403152 & 2.14319 & $\\dots$ \\\\\n",
       "\t25 & P163 & 10.4531 & 24.1275 & 10.4454 & 124.278 & 0.144227 & 0.0440745 & 1.86015 & $\\dots$ \\\\\n",
       "\t26 & P169 & 6.80527 & 15.7511 & 5.5515 & 124.761 & 0.100763 & 0.0386653 & 1.46898 & $\\dots$ \\\\\n",
       "\t27 & P17 & 8.41836 & 19.6405 & 7.62512 & 104.09 & 0.120166 & 0.0413075 & 1.63951 & $\\dots$ \\\\\n",
       "\t28 & P172 & 6.80519 & 15.7506 & 5.55139 & 88.5858 & 0.100763 & 0.0386699 & 1.46894 & $\\dots$ \\\\\n",
       "\t29 & P174 & 10.4532 & 24.1287 & 10.4459 & 88.2643 & 0.144227 & 0.0440746 & 1.86023 & $\\dots$ \\\\\n",
       "\t30 & P184 & 11.9141 & 26.6798 & 12.9226 & 99.1385 & 0.162429 & 0.0470169 & 2.29339 & $\\dots$ \\\\\n",
       "\t$\\dots$ & $\\dots$ & $\\dots$ & $\\dots$ & $\\dots$ & $\\dots$ & $\\dots$ & $\\dots$ & $\\dots$ &  \\\\\n",
       "\\end{tabular}\n"
      ],
      "text/plain": [
       "\u001b[1m248×195 DataFrame\u001b[0m\n",
       "\u001b[1m Row \u001b[0m│\u001b[1m patient_ID \u001b[0m\u001b[1m cMyct    \u001b[0m\u001b[1m RelAnp50n \u001b[0m\u001b[1m cRelnp50n \u001b[0m\u001b[1m Bcl2t    \u001b[0m\u001b[1m Cycdt    \u001b[0m\u001b[1m tcRel  \u001b[0m ⋯\n",
       "\u001b[1m     \u001b[0m│\u001b[90m String     \u001b[0m\u001b[90m Float64  \u001b[0m\u001b[90m Float64   \u001b[0m\u001b[90m Float64   \u001b[0m\u001b[90m Float64  \u001b[0m\u001b[90m Float64  \u001b[0m\u001b[90m Float64\u001b[0m ⋯\n",
       "─────┼──────────────────────────────────────────────────────────────────────────\n",
       "   1 │ P104         6.80557    15.7518    5.55172   88.5879  0.100765  0.03866 ⋯\n",
       "   2 │ P105        10.4545     24.1281   10.4518    88.2749  0.144238  0.04418\n",
       "   3 │ P109        10.4528     24.1272   10.4453    88.2629  0.144226  0.04407\n",
       "   4 │ P111         6.80587    15.751     5.55325   64.4738  0.100768  0.03869\n",
       "   5 │ P112        10.4532     24.1287   10.4459    88.2643  0.144227  0.04407 ⋯\n",
       "   6 │ P115        10.4532     24.1287   10.4459    88.2643  0.144227  0.04407\n",
       "   7 │ P117         6.80431    15.7506    5.54724   64.4627  0.100756  0.03857\n",
       "   8 │ P120         9.81549    22.2493    9.89401   84.8452  0.137409  0.04475\n",
       "   9 │ P122         8.41931    19.6415    7.62849   74.8121  0.120173  0.04135 ⋯\n",
       "  10 │ P124         6.80531    15.7505    5.5513    52.4116  0.100764  0.03866\n",
       "  11 │ P13         12.6286     19.6407    7.62816  104.098   0.120172  0.04135\n",
       "  ⋮  │     ⋮          ⋮          ⋮          ⋮         ⋮         ⋮          ⋮   ⋱\n",
       " 239 │ P880         6.80424    15.7504    5.54714   88.5746  0.100755  0.03857\n",
       " 240 │ P881        10.4532     24.1287   10.4459    88.2643  0.144227  0.04407 ⋯\n",
       " 241 │ P887         7.44899    17.2669    6.29042   95.1253  0.109511  0.04031\n",
       " 242 │ P89          8.41847    19.6418    7.6256   104.091   0.120168  0.04130\n",
       " 243 │ P894         8.41836    19.6405    7.62512  104.09    0.120166  0.04130\n",
       " 244 │ P912         7.44899    17.2669    6.29042   95.1253  0.109511  0.04031 ⋯\n",
       " 245 │ P92          6.8055     15.7516    5.55164   64.4704  0.100764  0.03866\n",
       " 246 │ P924         9.39685    21.8112    8.75125   81.5455  0.13338   0.04295\n",
       " 247 │ P95         10.4458     24.1278   10.3932   178.19    0.144185  0.03965\n",
       " 248 │ P96          7.44875    17.2663    6.29044   68.8285  0.10951   0.04032 ⋯\n",
       "\u001b[36m                                                189 columns and 227 rows omitted\u001b[0m"
      ]
     },
     "execution_count": 55,
     "metadata": {},
     "output_type": "execute_result"
    }
   ],
   "source": [
    "C2_strict_multi_6h = getFounderCells(files, \"SSDoutputs/C2_strict_sims/\", C2_strict_multi_6h, \"all_mut\")"
   ]
  },
  {
   "cell_type": "code",
   "execution_count": 10,
   "id": "97e7d8bd",
   "metadata": {
    "scrolled": true
   },
   "outputs": [
    {
     "data": {
      "text/html": [
       "<div class=\"data-frame\"><p>905 rows × 5 columns</p><table class=\"data-frame\"><thead><tr><th></th><th>PID</th><th>Gene</th><th>Alt</th><th>Param</th><th>Amount</th></tr><tr><th></th><th title=\"String7\">String7</th><th title=\"String15\">String15</th><th title=\"String31\">String31</th><th title=\"String31\">String31</th><th title=\"Float64\">Float64</th></tr></thead><tbody><tr><th>1</th><td>P50</td><td>PRDM1</td><td>PRDM1:S76*</td><td>k1_s_Blimp1-differentiation</td><td>0.5</td></tr><tr><th>2</th><td>P69</td><td>PRDM1</td><td>PRDM1:N172fs*17</td><td>k1_s_Blimp1-differentiation</td><td>0.5</td></tr><tr><th>3</th><td>P75</td><td>PRDM1</td><td>PRDM1:R442fs*64</td><td>k1_s_Blimp1-differentiation</td><td>0.5</td></tr><tr><th>4</th><td>P122</td><td>PRDM1</td><td>PRDM1:S504fs*2</td><td>k1_s_Blimp1-differentiation</td><td>0.5</td></tr><tr><th>5</th><td>P151</td><td>PRDM1</td><td>PRDM1:W49*</td><td>k1_s_Blimp1-differentiation</td><td>0.5</td></tr><tr><th>6</th><td>P216</td><td>PRDM1</td><td>PRDM1:S76*</td><td>k1_s_Blimp1-differentiation</td><td>0.5</td></tr><tr><th>7</th><td>P252</td><td>PRDM1</td><td>PRDM1:Y60*</td><td>k1_s_Blimp1-differentiation</td><td>0.5</td></tr><tr><th>8</th><td>P252</td><td>PRDM1</td><td>PRDM1:G438fs*68</td><td>k1_s_Blimp1-differentiation</td><td>0.5</td></tr><tr><th>9</th><td>P254</td><td>PRDM1</td><td>PRDM1:L83fs*9</td><td>k1_s_Blimp1-differentiation</td><td>0.5</td></tr><tr><th>10</th><td>P273</td><td>PRDM1</td><td>PRDM1:Y248fs*3</td><td>k1_s_Blimp1-differentiation</td><td>0.5</td></tr><tr><th>11</th><td>P289</td><td>PRDM1</td><td>PRDM1:E153*</td><td>k1_s_Blimp1-differentiation</td><td>0.5</td></tr><tr><th>12</th><td>P340</td><td>PRDM1</td><td>PRDM1:K707fs*18</td><td>k1_s_Blimp1-differentiation</td><td>0.5</td></tr><tr><th>13</th><td>P359</td><td>PRDM1</td><td>PRDM1:R476fs*36</td><td>k1_s_Blimp1-differentiation</td><td>0.5</td></tr><tr><th>14</th><td>P448</td><td>PRDM1</td><td>PRDM1:R595fs*20</td><td>k1_s_Blimp1-differentiation</td><td>0.5</td></tr><tr><th>15</th><td>P547</td><td>PRDM1</td><td>PRDM1:A192fs*23</td><td>k1_s_Blimp1-differentiation</td><td>0.5</td></tr><tr><th>16</th><td>P547</td><td>PRDM1</td><td>PRDM1:T607fs*68</td><td>k1_s_Blimp1-differentiation</td><td>0.5</td></tr><tr><th>17</th><td>P641</td><td>PRDM1</td><td>PRDM1:E153*</td><td>k1_s_Blimp1-differentiation</td><td>0.5</td></tr><tr><th>18</th><td>P658</td><td>PRDM1</td><td>PRDM1:S494fs*38</td><td>k1_s_Blimp1-differentiation</td><td>0.5</td></tr><tr><th>19</th><td>P685</td><td>PRDM1</td><td>PRDM1:R85fs*19</td><td>k1_s_Blimp1-differentiation</td><td>0.5</td></tr><tr><th>20</th><td>P712</td><td>PRDM1</td><td>PRDM1:L425fs*84</td><td>k1_s_Blimp1-differentiation</td><td>0.5</td></tr><tr><th>21</th><td>P768</td><td>PRDM1</td><td>PRDM1:E545*</td><td>k1_s_Blimp1-differentiation</td><td>0.5</td></tr><tr><th>22</th><td>P819</td><td>PRDM1</td><td>PRDM1:T93fs*9</td><td>k1_s_Blimp1-differentiation</td><td>0.5</td></tr><tr><th>23</th><td>P908</td><td>PRDM1</td><td>PRDM1:V62fs*2</td><td>k1_s_Blimp1-differentiation</td><td>0.5</td></tr><tr><th>24</th><td>P914</td><td>PRDM1</td><td>PRDM1:Q368fs*11</td><td>k1_s_Blimp1-differentiation</td><td>0.5</td></tr><tr><th>25</th><td>P920</td><td>PRDM1</td><td>PRDM1:S276*</td><td>k1_s_Blimp1-differentiation</td><td>0.5</td></tr><tr><th>26</th><td>P48</td><td>MYC</td><td>MYC:T73I</td><td>k1_mycTsl-linking</td><td>1.5</td></tr><tr><th>27</th><td>P202</td><td>MYC</td><td>MYC:T73N</td><td>k1_mycTsl-linking</td><td>1.5</td></tr><tr><th>28</th><td>P209</td><td>MYC</td><td>MYC:T73I</td><td>k1_mycTsl-linking</td><td>1.5</td></tr><tr><th>29</th><td>P313</td><td>MYC</td><td>MYC:T73I</td><td>k1_mycTsl-linking</td><td>1.5</td></tr><tr><th>30</th><td>P371</td><td>MYC</td><td>MYC:T73I</td><td>k1_mycTsl-linking</td><td>1.5</td></tr><tr><th>&vellip;</th><td>&vellip;</td><td>&vellip;</td><td>&vellip;</td><td>&vellip;</td><td>&vellip;</td></tr></tbody></table></div>"
      ],
      "text/latex": [
       "\\begin{tabular}{r|ccccc}\n",
       "\t& PID & Gene & Alt & Param & Amount\\\\\n",
       "\t\\hline\n",
       "\t& String7 & String15 & String31 & String31 & Float64\\\\\n",
       "\t\\hline\n",
       "\t1 & P50 & PRDM1 & PRDM1:S76* & k1\\_s\\_Blimp1-differentiation & 0.5 \\\\\n",
       "\t2 & P69 & PRDM1 & PRDM1:N172fs*17 & k1\\_s\\_Blimp1-differentiation & 0.5 \\\\\n",
       "\t3 & P75 & PRDM1 & PRDM1:R442fs*64 & k1\\_s\\_Blimp1-differentiation & 0.5 \\\\\n",
       "\t4 & P122 & PRDM1 & PRDM1:S504fs*2 & k1\\_s\\_Blimp1-differentiation & 0.5 \\\\\n",
       "\t5 & P151 & PRDM1 & PRDM1:W49* & k1\\_s\\_Blimp1-differentiation & 0.5 \\\\\n",
       "\t6 & P216 & PRDM1 & PRDM1:S76* & k1\\_s\\_Blimp1-differentiation & 0.5 \\\\\n",
       "\t7 & P252 & PRDM1 & PRDM1:Y60* & k1\\_s\\_Blimp1-differentiation & 0.5 \\\\\n",
       "\t8 & P252 & PRDM1 & PRDM1:G438fs*68 & k1\\_s\\_Blimp1-differentiation & 0.5 \\\\\n",
       "\t9 & P254 & PRDM1 & PRDM1:L83fs*9 & k1\\_s\\_Blimp1-differentiation & 0.5 \\\\\n",
       "\t10 & P273 & PRDM1 & PRDM1:Y248fs*3 & k1\\_s\\_Blimp1-differentiation & 0.5 \\\\\n",
       "\t11 & P289 & PRDM1 & PRDM1:E153* & k1\\_s\\_Blimp1-differentiation & 0.5 \\\\\n",
       "\t12 & P340 & PRDM1 & PRDM1:K707fs*18 & k1\\_s\\_Blimp1-differentiation & 0.5 \\\\\n",
       "\t13 & P359 & PRDM1 & PRDM1:R476fs*36 & k1\\_s\\_Blimp1-differentiation & 0.5 \\\\\n",
       "\t14 & P448 & PRDM1 & PRDM1:R595fs*20 & k1\\_s\\_Blimp1-differentiation & 0.5 \\\\\n",
       "\t15 & P547 & PRDM1 & PRDM1:A192fs*23 & k1\\_s\\_Blimp1-differentiation & 0.5 \\\\\n",
       "\t16 & P547 & PRDM1 & PRDM1:T607fs*68 & k1\\_s\\_Blimp1-differentiation & 0.5 \\\\\n",
       "\t17 & P641 & PRDM1 & PRDM1:E153* & k1\\_s\\_Blimp1-differentiation & 0.5 \\\\\n",
       "\t18 & P658 & PRDM1 & PRDM1:S494fs*38 & k1\\_s\\_Blimp1-differentiation & 0.5 \\\\\n",
       "\t19 & P685 & PRDM1 & PRDM1:R85fs*19 & k1\\_s\\_Blimp1-differentiation & 0.5 \\\\\n",
       "\t20 & P712 & PRDM1 & PRDM1:L425fs*84 & k1\\_s\\_Blimp1-differentiation & 0.5 \\\\\n",
       "\t21 & P768 & PRDM1 & PRDM1:E545* & k1\\_s\\_Blimp1-differentiation & 0.5 \\\\\n",
       "\t22 & P819 & PRDM1 & PRDM1:T93fs*9 & k1\\_s\\_Blimp1-differentiation & 0.5 \\\\\n",
       "\t23 & P908 & PRDM1 & PRDM1:V62fs*2 & k1\\_s\\_Blimp1-differentiation & 0.5 \\\\\n",
       "\t24 & P914 & PRDM1 & PRDM1:Q368fs*11 & k1\\_s\\_Blimp1-differentiation & 0.5 \\\\\n",
       "\t25 & P920 & PRDM1 & PRDM1:S276* & k1\\_s\\_Blimp1-differentiation & 0.5 \\\\\n",
       "\t26 & P48 & MYC & MYC:T73I & k1\\_mycTsl-linking & 1.5 \\\\\n",
       "\t27 & P202 & MYC & MYC:T73N & k1\\_mycTsl-linking & 1.5 \\\\\n",
       "\t28 & P209 & MYC & MYC:T73I & k1\\_mycTsl-linking & 1.5 \\\\\n",
       "\t29 & P313 & MYC & MYC:T73I & k1\\_mycTsl-linking & 1.5 \\\\\n",
       "\t30 & P371 & MYC & MYC:T73I & k1\\_mycTsl-linking & 1.5 \\\\\n",
       "\t$\\dots$ & $\\dots$ & $\\dots$ & $\\dots$ & $\\dots$ & $\\dots$ \\\\\n",
       "\\end{tabular}\n"
      ],
      "text/plain": [
       "\u001b[1m905×5 DataFrame\u001b[0m\n",
       "\u001b[1m Row \u001b[0m│\u001b[1m PID     \u001b[0m\u001b[1m Gene     \u001b[0m\u001b[1m Alt             \u001b[0m\u001b[1m Param                       \u001b[0m\u001b[1m Amount\u001b[0m ⋯\n",
       "\u001b[1m     \u001b[0m│\u001b[90m String7 \u001b[0m\u001b[90m String15 \u001b[0m\u001b[90m String31        \u001b[0m\u001b[90m String31                    \u001b[0m\u001b[90m Float6\u001b[0m ⋯\n",
       "─────┼──────────────────────────────────────────────────────────────────────────\n",
       "   1 │ P50      PRDM1     PRDM1:S76*       k1_s_Blimp1-differentiation      0. ⋯\n",
       "   2 │ P69      PRDM1     PRDM1:N172fs*17  k1_s_Blimp1-differentiation      0.\n",
       "   3 │ P75      PRDM1     PRDM1:R442fs*64  k1_s_Blimp1-differentiation      0.\n",
       "   4 │ P122     PRDM1     PRDM1:S504fs*2   k1_s_Blimp1-differentiation      0.\n",
       "   5 │ P151     PRDM1     PRDM1:W49*       k1_s_Blimp1-differentiation      0. ⋯\n",
       "   6 │ P216     PRDM1     PRDM1:S76*       k1_s_Blimp1-differentiation      0.\n",
       "   7 │ P252     PRDM1     PRDM1:Y60*       k1_s_Blimp1-differentiation      0.\n",
       "   8 │ P252     PRDM1     PRDM1:G438fs*68  k1_s_Blimp1-differentiation      0.\n",
       "   9 │ P254     PRDM1     PRDM1:L83fs*9    k1_s_Blimp1-differentiation      0. ⋯\n",
       "  10 │ P273     PRDM1     PRDM1:Y248fs*3   k1_s_Blimp1-differentiation      0.\n",
       "  11 │ P289     PRDM1     PRDM1:E153*      k1_s_Blimp1-differentiation      0.\n",
       "  ⋮  │    ⋮        ⋮             ⋮                      ⋮                  ⋮   ⋱\n",
       " 896 │ P361     TNFAIP3   HETLOSS          k2_scalingNumber-NFkB            1.\n",
       " 897 │ P396     TNFAIP3   HETLOSS          k2_scalingNumber-NFkB            1. ⋯\n",
       " 898 │ P410     TNFAIP3   HETLOSS          k2_scalingNumber-NFkB            1.\n",
       " 899 │ P423     TNFAIP3   HETLOSS          k2_scalingNumber-NFkB            1.\n",
       " 900 │ P580     TNFAIP3   HETLOSS          k2_scalingNumber-NFkB            1.\n",
       " 901 │ P595     TNFAIP3   HETLOSS          k2_scalingNumber-NFkB            1. ⋯\n",
       " 902 │ P742     TNFAIP3   HETLOSS          k2_scalingNumber-NFkB            1.\n",
       " 903 │ P833     TNFAIP3   HETLOSS          k2_scalingNumber-NFkB            1.\n",
       " 904 │ P46      TP53      HETLOSS          k1_bcl2Exp-linking               0.\n",
       " 905 │ P124     TP53      HETLOSS          k1_bcl2Exp-linking               0. ⋯\n",
       "\u001b[36m                                                   1 column and 884 rows omitted\u001b[0m"
      ]
     },
     "execution_count": 10,
     "metadata": {},
     "output_type": "execute_result"
    }
   ],
   "source": [
    "C2_allmuts_strict = DataFrame(CSV.File(\"C2_allmuts_strict.csv\"))"
   ]
  },
  {
   "cell_type": "code",
   "execution_count": 57,
   "id": "b8f91405",
   "metadata": {},
   "outputs": [
    {
     "data": {
      "text/plain": [
       "564-element Vector{String7}:\n",
       " \"P50\"\n",
       " \"P69\"\n",
       " \"P75\"\n",
       " \"P122\"\n",
       " \"P151\"\n",
       " \"P216\"\n",
       " \"P252\"\n",
       " \"P254\"\n",
       " \"P273\"\n",
       " \"P289\"\n",
       " \"P340\"\n",
       " \"P359\"\n",
       " \"P448\"\n",
       " ⋮\n",
       " \"P842\"\n",
       " \"P51\"\n",
       " \"P227\"\n",
       " \"P472\"\n",
       " \"P607\"\n",
       " \"P716\"\n",
       " \"P325\"\n",
       " \"P767\"\n",
       " \"P188\"\n",
       " \"P118\"\n",
       " \"P580\"\n",
       " \"P46\""
      ]
     },
     "execution_count": 57,
     "metadata": {},
     "output_type": "execute_result"
    }
   ],
   "source": [
    "unique(C2_allmuts_strict.PID)"
   ]
  },
  {
   "cell_type": "code",
   "execution_count": 11,
   "id": "3cbe8515",
   "metadata": {
    "scrolled": true
   },
   "outputs": [
    {
     "data": {
      "text/plain": [
       "564-element Vector{String7}:\n",
       " \"P50\"\n",
       " \"P69\"\n",
       " \"P75\"\n",
       " \"P122\"\n",
       " \"P151\"\n",
       " \"P216\"\n",
       " \"P252\"\n",
       " \"P254\"\n",
       " \"P273\"\n",
       " \"P289\"\n",
       " \"P340\"\n",
       " \"P359\"\n",
       " \"P448\"\n",
       " ⋮\n",
       " \"P842\"\n",
       " \"P51\"\n",
       " \"P227\"\n",
       " \"P472\"\n",
       " \"P607\"\n",
       " \"P716\"\n",
       " \"P325\"\n",
       " \"P767\"\n",
       " \"P188\"\n",
       " \"P118\"\n",
       " \"P580\"\n",
       " \"P46\""
      ]
     },
     "execution_count": 11,
     "metadata": {},
     "output_type": "execute_result"
    }
   ],
   "source": [
    "patients = unique(C2_allmuts_strict.PID)"
   ]
  },
  {
   "cell_type": "code",
   "execution_count": 12,
   "id": "26199740",
   "metadata": {
    "scrolled": true
   },
   "outputs": [
    {
     "data": {
      "text/plain": [
       "316-element Vector{String7}:\n",
       " \"P69\"\n",
       " \"P75\"\n",
       " \"P216\"\n",
       " \"P273\"\n",
       " \"P289\"\n",
       " \"P340\"\n",
       " \"P359\"\n",
       " \"P658\"\n",
       " \"P712\"\n",
       " \"P768\"\n",
       " \"P908\"\n",
       " \"P914\"\n",
       " \"P920\"\n",
       " ⋮\n",
       " \"P842\"\n",
       " \"P51\"\n",
       " \"P227\"\n",
       " \"P472\"\n",
       " \"P607\"\n",
       " \"P716\"\n",
       " \"P325\"\n",
       " \"P767\"\n",
       " \"P188\"\n",
       " \"P118\"\n",
       " \"P580\"\n",
       " \"P46\""
      ]
     },
     "execution_count": 12,
     "metadata": {},
     "output_type": "execute_result"
    }
   ],
   "source": [
    "pats_single = setdiff!(patients, unique(C2_strict_multi_6h.patient_ID))"
   ]
  },
  {
   "cell_type": "code",
   "execution_count": 67,
   "id": "a2c6fb64",
   "metadata": {
    "scrolled": true
   },
   "outputs": [
    {
     "data": {
      "text/html": [
       "<div class=\"data-frame\"><p>316 rows × 5 columns</p><table class=\"data-frame\"><thead><tr><th></th><th>PID</th><th>Gene</th><th>Alt</th><th>Param</th><th>Amount</th></tr><tr><th></th><th title=\"String7\">String7</th><th title=\"String15\">String15</th><th title=\"String31\">String31</th><th title=\"String31\">String31</th><th title=\"Float64\">Float64</th></tr></thead><tbody><tr><th>1</th><td>P69</td><td>PRDM1</td><td>PRDM1:N172fs*17</td><td>k1_s_Blimp1-differentiation</td><td>0.5</td></tr><tr><th>2</th><td>P75</td><td>PRDM1</td><td>PRDM1:R442fs*64</td><td>k1_s_Blimp1-differentiation</td><td>0.5</td></tr><tr><th>3</th><td>P216</td><td>PRDM1</td><td>PRDM1:S76*</td><td>k1_s_Blimp1-differentiation</td><td>0.5</td></tr><tr><th>4</th><td>P273</td><td>PRDM1</td><td>PRDM1:Y248fs*3</td><td>k1_s_Blimp1-differentiation</td><td>0.5</td></tr><tr><th>5</th><td>P289</td><td>PRDM1</td><td>PRDM1:E153*</td><td>k1_s_Blimp1-differentiation</td><td>0.5</td></tr><tr><th>6</th><td>P340</td><td>PRDM1</td><td>PRDM1:K707fs*18</td><td>k1_s_Blimp1-differentiation</td><td>0.5</td></tr><tr><th>7</th><td>P359</td><td>PRDM1</td><td>PRDM1:R476fs*36</td><td>k1_s_Blimp1-differentiation</td><td>0.5</td></tr><tr><th>8</th><td>P658</td><td>PRDM1</td><td>PRDM1:S494fs*38</td><td>k1_s_Blimp1-differentiation</td><td>0.5</td></tr><tr><th>9</th><td>P712</td><td>PRDM1</td><td>PRDM1:L425fs*84</td><td>k1_s_Blimp1-differentiation</td><td>0.5</td></tr><tr><th>10</th><td>P768</td><td>PRDM1</td><td>PRDM1:E545*</td><td>k1_s_Blimp1-differentiation</td><td>0.5</td></tr><tr><th>11</th><td>P908</td><td>PRDM1</td><td>PRDM1:V62fs*2</td><td>k1_s_Blimp1-differentiation</td><td>0.5</td></tr><tr><th>12</th><td>P914</td><td>PRDM1</td><td>PRDM1:Q368fs*11</td><td>k1_s_Blimp1-differentiation</td><td>0.5</td></tr><tr><th>13</th><td>P920</td><td>PRDM1</td><td>PRDM1:S276*</td><td>k1_s_Blimp1-differentiation</td><td>0.5</td></tr><tr><th>14</th><td>P531</td><td>MYC</td><td>MYC:P74A</td><td>k1_mycTsl-linking</td><td>1.5</td></tr><tr><th>15</th><td>P12</td><td>TNFRSF14</td><td>TNFRSF14:P9fs*12</td><td>nik_deg_mod-NFkB</td><td>0.5</td></tr><tr><th>16</th><td>P24</td><td>TNFRSF14</td><td>TNFRSF14:T18fs*4</td><td>nik_deg_mod-NFkB</td><td>0.5</td></tr><tr><th>17</th><td>P94</td><td>TNFRSF14</td><td>TNFRSF14:M1R</td><td>nik_deg_mod-NFkB</td><td>0.5</td></tr><tr><th>18</th><td>P100</td><td>TNFRSF14</td><td>TNFRSF14:E65*</td><td>nik_deg_mod-NFkB</td><td>0.5</td></tr><tr><th>19</th><td>P126</td><td>TNFRSF14</td><td>TNFRSF14:C34fs*30</td><td>nik_deg_mod-NFkB</td><td>0.5</td></tr><tr><th>20</th><td>P145</td><td>TNFRSF14</td><td>TNFRSF14:W201*</td><td>nik_deg_mod-NFkB</td><td>0.5</td></tr><tr><th>21</th><td>P156</td><td>TNFRSF14</td><td>TNFRSF14:Q130*</td><td>nik_deg_mod-NFkB</td><td>0.5</td></tr><tr><th>22</th><td>P192</td><td>TNFRSF14</td><td>TNFRSF14:M1V</td><td>nik_deg_mod-NFkB</td><td>0.5</td></tr><tr><th>23</th><td>P199</td><td>TNFRSF14</td><td>TNFRSF14:W201*</td><td>nik_deg_mod-NFkB</td><td>0.5</td></tr><tr><th>24</th><td>P261</td><td>TNFRSF14</td><td>TNFRSF14:T196fs*26</td><td>nik_deg_mod-NFkB</td><td>0.5</td></tr><tr><th>25</th><td>P268</td><td>TNFRSF14</td><td>TNFRSF14:C78fs*13</td><td>nik_deg_mod-NFkB</td><td>0.5</td></tr><tr><th>26</th><td>P358</td><td>TNFRSF14</td><td>TNFRSF14:W201*</td><td>nik_deg_mod-NFkB</td><td>0.5</td></tr><tr><th>27</th><td>P360</td><td>TNFRSF14</td><td>TNFRSF14:*284W</td><td>nik_deg_mod-NFkB</td><td>0.5</td></tr><tr><th>28</th><td>P372</td><td>TNFRSF14</td><td>TNFRSF14:G104fs*131</td><td>nik_deg_mod-NFkB</td><td>0.5</td></tr><tr><th>29</th><td>P422</td><td>TNFRSF14</td><td>TNFRSF14:C121*</td><td>nik_deg_mod-NFkB</td><td>0.5</td></tr><tr><th>30</th><td>P425</td><td>TNFRSF14</td><td>TNFRSF14:W12*</td><td>nik_deg_mod-NFkB</td><td>0.5</td></tr><tr><th>&vellip;</th><td>&vellip;</td><td>&vellip;</td><td>&vellip;</td><td>&vellip;</td><td>&vellip;</td></tr></tbody></table></div>"
      ],
      "text/latex": [
       "\\begin{tabular}{r|ccccc}\n",
       "\t& PID & Gene & Alt & Param & Amount\\\\\n",
       "\t\\hline\n",
       "\t& String7 & String15 & String31 & String31 & Float64\\\\\n",
       "\t\\hline\n",
       "\t1 & P69 & PRDM1 & PRDM1:N172fs*17 & k1\\_s\\_Blimp1-differentiation & 0.5 \\\\\n",
       "\t2 & P75 & PRDM1 & PRDM1:R442fs*64 & k1\\_s\\_Blimp1-differentiation & 0.5 \\\\\n",
       "\t3 & P216 & PRDM1 & PRDM1:S76* & k1\\_s\\_Blimp1-differentiation & 0.5 \\\\\n",
       "\t4 & P273 & PRDM1 & PRDM1:Y248fs*3 & k1\\_s\\_Blimp1-differentiation & 0.5 \\\\\n",
       "\t5 & P289 & PRDM1 & PRDM1:E153* & k1\\_s\\_Blimp1-differentiation & 0.5 \\\\\n",
       "\t6 & P340 & PRDM1 & PRDM1:K707fs*18 & k1\\_s\\_Blimp1-differentiation & 0.5 \\\\\n",
       "\t7 & P359 & PRDM1 & PRDM1:R476fs*36 & k1\\_s\\_Blimp1-differentiation & 0.5 \\\\\n",
       "\t8 & P658 & PRDM1 & PRDM1:S494fs*38 & k1\\_s\\_Blimp1-differentiation & 0.5 \\\\\n",
       "\t9 & P712 & PRDM1 & PRDM1:L425fs*84 & k1\\_s\\_Blimp1-differentiation & 0.5 \\\\\n",
       "\t10 & P768 & PRDM1 & PRDM1:E545* & k1\\_s\\_Blimp1-differentiation & 0.5 \\\\\n",
       "\t11 & P908 & PRDM1 & PRDM1:V62fs*2 & k1\\_s\\_Blimp1-differentiation & 0.5 \\\\\n",
       "\t12 & P914 & PRDM1 & PRDM1:Q368fs*11 & k1\\_s\\_Blimp1-differentiation & 0.5 \\\\\n",
       "\t13 & P920 & PRDM1 & PRDM1:S276* & k1\\_s\\_Blimp1-differentiation & 0.5 \\\\\n",
       "\t14 & P531 & MYC & MYC:P74A & k1\\_mycTsl-linking & 1.5 \\\\\n",
       "\t15 & P12 & TNFRSF14 & TNFRSF14:P9fs*12 & nik\\_deg\\_mod-NFkB & 0.5 \\\\\n",
       "\t16 & P24 & TNFRSF14 & TNFRSF14:T18fs*4 & nik\\_deg\\_mod-NFkB & 0.5 \\\\\n",
       "\t17 & P94 & TNFRSF14 & TNFRSF14:M1R & nik\\_deg\\_mod-NFkB & 0.5 \\\\\n",
       "\t18 & P100 & TNFRSF14 & TNFRSF14:E65* & nik\\_deg\\_mod-NFkB & 0.5 \\\\\n",
       "\t19 & P126 & TNFRSF14 & TNFRSF14:C34fs*30 & nik\\_deg\\_mod-NFkB & 0.5 \\\\\n",
       "\t20 & P145 & TNFRSF14 & TNFRSF14:W201* & nik\\_deg\\_mod-NFkB & 0.5 \\\\\n",
       "\t21 & P156 & TNFRSF14 & TNFRSF14:Q130* & nik\\_deg\\_mod-NFkB & 0.5 \\\\\n",
       "\t22 & P192 & TNFRSF14 & TNFRSF14:M1V & nik\\_deg\\_mod-NFkB & 0.5 \\\\\n",
       "\t23 & P199 & TNFRSF14 & TNFRSF14:W201* & nik\\_deg\\_mod-NFkB & 0.5 \\\\\n",
       "\t24 & P261 & TNFRSF14 & TNFRSF14:T196fs*26 & nik\\_deg\\_mod-NFkB & 0.5 \\\\\n",
       "\t25 & P268 & TNFRSF14 & TNFRSF14:C78fs*13 & nik\\_deg\\_mod-NFkB & 0.5 \\\\\n",
       "\t26 & P358 & TNFRSF14 & TNFRSF14:W201* & nik\\_deg\\_mod-NFkB & 0.5 \\\\\n",
       "\t27 & P360 & TNFRSF14 & TNFRSF14:*284W & nik\\_deg\\_mod-NFkB & 0.5 \\\\\n",
       "\t28 & P372 & TNFRSF14 & TNFRSF14:G104fs*131 & nik\\_deg\\_mod-NFkB & 0.5 \\\\\n",
       "\t29 & P422 & TNFRSF14 & TNFRSF14:C121* & nik\\_deg\\_mod-NFkB & 0.5 \\\\\n",
       "\t30 & P425 & TNFRSF14 & TNFRSF14:W12* & nik\\_deg\\_mod-NFkB & 0.5 \\\\\n",
       "\t$\\dots$ & $\\dots$ & $\\dots$ & $\\dots$ & $\\dots$ & $\\dots$ \\\\\n",
       "\\end{tabular}\n"
      ],
      "text/plain": [
       "\u001b[1m316×5 DataFrame\u001b[0m\n",
       "\u001b[1m Row \u001b[0m│\u001b[1m PID     \u001b[0m\u001b[1m Gene     \u001b[0m\u001b[1m Alt             \u001b[0m\u001b[1m Param                       \u001b[0m\u001b[1m Amount\u001b[0m ⋯\n",
       "\u001b[1m     \u001b[0m│\u001b[90m String7 \u001b[0m\u001b[90m String15 \u001b[0m\u001b[90m String31        \u001b[0m\u001b[90m String31                    \u001b[0m\u001b[90m Float6\u001b[0m ⋯\n",
       "─────┼──────────────────────────────────────────────────────────────────────────\n",
       "   1 │ P69      PRDM1     PRDM1:N172fs*17  k1_s_Blimp1-differentiation      0. ⋯\n",
       "   2 │ P75      PRDM1     PRDM1:R442fs*64  k1_s_Blimp1-differentiation      0.\n",
       "   3 │ P216     PRDM1     PRDM1:S76*       k1_s_Blimp1-differentiation      0.\n",
       "   4 │ P273     PRDM1     PRDM1:Y248fs*3   k1_s_Blimp1-differentiation      0.\n",
       "   5 │ P289     PRDM1     PRDM1:E153*      k1_s_Blimp1-differentiation      0. ⋯\n",
       "   6 │ P340     PRDM1     PRDM1:K707fs*18  k1_s_Blimp1-differentiation      0.\n",
       "   7 │ P359     PRDM1     PRDM1:R476fs*36  k1_s_Blimp1-differentiation      0.\n",
       "   8 │ P658     PRDM1     PRDM1:S494fs*38  k1_s_Blimp1-differentiation      0.\n",
       "   9 │ P712     PRDM1     PRDM1:L425fs*84  k1_s_Blimp1-differentiation      0. ⋯\n",
       "  10 │ P768     PRDM1     PRDM1:E545*      k1_s_Blimp1-differentiation      0.\n",
       "  11 │ P908     PRDM1     PRDM1:V62fs*2    k1_s_Blimp1-differentiation      0.\n",
       "  ⋮  │    ⋮        ⋮             ⋮                      ⋮                  ⋮   ⋱\n",
       " 307 │ P227     MYC       AMP              k1_mycExp-linking                1.\n",
       " 308 │ P472     MYC       AMP              k1_mycExp-linking                1. ⋯\n",
       " 309 │ P607     MYC       AMP              k1_mycExp-linking                1.\n",
       " 310 │ P716     PIM1      AMP              k2_scalingNumber-NFkB            1.\n",
       " 311 │ P325     PRDM1     HETLOSS          k1_s_Blimp1-differentiation      0.\n",
       " 312 │ P767     PRDM1     HETLOSS          k1_s_Blimp1-differentiation      0. ⋯\n",
       " 313 │ P188     RB1       HETLOSS          k1_19-cellCycle                  0.\n",
       " 314 │ P118     TNFAIP3   HETLOSS          k2_scalingNumber-NFkB            1.\n",
       " 315 │ P580     TNFAIP3   HETLOSS          k2_scalingNumber-NFkB            1.\n",
       " 316 │ P46      TP53      HETLOSS          k1_bcl2Exp-linking               0. ⋯\n",
       "\u001b[36m                                                   1 column and 295 rows omitted\u001b[0m"
      ]
     },
     "execution_count": 67,
     "metadata": {},
     "output_type": "execute_result"
    }
   ],
   "source": [
    "C2_single_strict = C2_allmuts_strict[ [x in pats_single for x in C2_allmuts_strict[!, :PID]] ,:]"
   ]
  },
  {
   "cell_type": "code",
   "execution_count": 68,
   "id": "70432788",
   "metadata": {
    "scrolled": true
   },
   "outputs": [
    {
     "data": {
      "text/plain": [
       "316-element Vector{String}:\n",
       " \"k1_s_Blimp1-differentiation_0.5\"\n",
       " \"k1_s_Blimp1-differentiation_0.5\"\n",
       " \"k1_s_Blimp1-differentiation_0.5\"\n",
       " \"k1_s_Blimp1-differentiation_0.5\"\n",
       " \"k1_s_Blimp1-differentiation_0.5\"\n",
       " \"k1_s_Blimp1-differentiation_0.5\"\n",
       " \"k1_s_Blimp1-differentiation_0.5\"\n",
       " \"k1_s_Blimp1-differentiation_0.5\"\n",
       " \"k1_s_Blimp1-differentiation_0.5\"\n",
       " \"k1_s_Blimp1-differentiation_0.5\"\n",
       " \"k1_s_Blimp1-differentiation_0.5\"\n",
       " \"k1_s_Blimp1-differentiation_0.5\"\n",
       " \"k1_s_Blimp1-differentiation_0.5\"\n",
       " ⋮\n",
       " \"k2_5-cellCycle_0.5\"\n",
       " \"k1_s_IRF4-linking_1.5\"\n",
       " \"k1_mycExp-linking_1.5\"\n",
       " \"k1_mycExp-linking_1.5\"\n",
       " \"k1_mycExp-linking_1.5\"\n",
       " \"k2_scalingNumber-NFkB_1.5\"\n",
       " \"k1_s_Blimp1-differentiation_0.5\"\n",
       " \"k1_s_Blimp1-differentiation_0.5\"\n",
       " \"k1_19-cellCycle_0.5\"\n",
       " \"k2_scalingNumber-NFkB_1.5\"\n",
       " \"k2_scalingNumber-NFkB_1.5\"\n",
       " \"k1_bcl2Exp-linking_0.5\""
      ]
     },
     "execution_count": 68,
     "metadata": {},
     "output_type": "execute_result"
    }
   ],
   "source": [
    "C2_single_strict[!, \"ParamAmount\"] = string.(C2_single_strict[!, \"Param\"], \"_\", C2_single_strict[!, \"Amount\"])"
   ]
  },
  {
   "cell_type": "code",
   "execution_count": 69,
   "id": "2d768b5b",
   "metadata": {
    "scrolled": true
   },
   "outputs": [
    {
     "data": {
      "text/html": [
       "<div class=\"data-frame\"><p>316 rows × 6 columns</p><table class=\"data-frame\"><thead><tr><th></th><th>PID</th><th>Gene</th><th>Alt</th><th>Param</th><th>Amount</th><th>ParamAmount</th></tr><tr><th></th><th title=\"String7\">String7</th><th title=\"String15\">String15</th><th title=\"String31\">String31</th><th title=\"String31\">String31</th><th title=\"Float64\">Float64</th><th title=\"String\">String</th></tr></thead><tbody><tr><th>1</th><td>P69</td><td>PRDM1</td><td>PRDM1:N172fs*17</td><td>k1_s_Blimp1-differentiation</td><td>0.5</td><td>k1_s_Blimp1-differentiation_0.5</td></tr><tr><th>2</th><td>P75</td><td>PRDM1</td><td>PRDM1:R442fs*64</td><td>k1_s_Blimp1-differentiation</td><td>0.5</td><td>k1_s_Blimp1-differentiation_0.5</td></tr><tr><th>3</th><td>P216</td><td>PRDM1</td><td>PRDM1:S76*</td><td>k1_s_Blimp1-differentiation</td><td>0.5</td><td>k1_s_Blimp1-differentiation_0.5</td></tr><tr><th>4</th><td>P273</td><td>PRDM1</td><td>PRDM1:Y248fs*3</td><td>k1_s_Blimp1-differentiation</td><td>0.5</td><td>k1_s_Blimp1-differentiation_0.5</td></tr><tr><th>5</th><td>P289</td><td>PRDM1</td><td>PRDM1:E153*</td><td>k1_s_Blimp1-differentiation</td><td>0.5</td><td>k1_s_Blimp1-differentiation_0.5</td></tr><tr><th>6</th><td>P340</td><td>PRDM1</td><td>PRDM1:K707fs*18</td><td>k1_s_Blimp1-differentiation</td><td>0.5</td><td>k1_s_Blimp1-differentiation_0.5</td></tr><tr><th>7</th><td>P359</td><td>PRDM1</td><td>PRDM1:R476fs*36</td><td>k1_s_Blimp1-differentiation</td><td>0.5</td><td>k1_s_Blimp1-differentiation_0.5</td></tr><tr><th>8</th><td>P658</td><td>PRDM1</td><td>PRDM1:S494fs*38</td><td>k1_s_Blimp1-differentiation</td><td>0.5</td><td>k1_s_Blimp1-differentiation_0.5</td></tr><tr><th>9</th><td>P712</td><td>PRDM1</td><td>PRDM1:L425fs*84</td><td>k1_s_Blimp1-differentiation</td><td>0.5</td><td>k1_s_Blimp1-differentiation_0.5</td></tr><tr><th>10</th><td>P768</td><td>PRDM1</td><td>PRDM1:E545*</td><td>k1_s_Blimp1-differentiation</td><td>0.5</td><td>k1_s_Blimp1-differentiation_0.5</td></tr><tr><th>11</th><td>P908</td><td>PRDM1</td><td>PRDM1:V62fs*2</td><td>k1_s_Blimp1-differentiation</td><td>0.5</td><td>k1_s_Blimp1-differentiation_0.5</td></tr><tr><th>12</th><td>P914</td><td>PRDM1</td><td>PRDM1:Q368fs*11</td><td>k1_s_Blimp1-differentiation</td><td>0.5</td><td>k1_s_Blimp1-differentiation_0.5</td></tr><tr><th>13</th><td>P920</td><td>PRDM1</td><td>PRDM1:S276*</td><td>k1_s_Blimp1-differentiation</td><td>0.5</td><td>k1_s_Blimp1-differentiation_0.5</td></tr><tr><th>14</th><td>P531</td><td>MYC</td><td>MYC:P74A</td><td>k1_mycTsl-linking</td><td>1.5</td><td>k1_mycTsl-linking_1.5</td></tr><tr><th>15</th><td>P12</td><td>TNFRSF14</td><td>TNFRSF14:P9fs*12</td><td>nik_deg_mod-NFkB</td><td>0.5</td><td>nik_deg_mod-NFkB_0.5</td></tr><tr><th>16</th><td>P24</td><td>TNFRSF14</td><td>TNFRSF14:T18fs*4</td><td>nik_deg_mod-NFkB</td><td>0.5</td><td>nik_deg_mod-NFkB_0.5</td></tr><tr><th>17</th><td>P94</td><td>TNFRSF14</td><td>TNFRSF14:M1R</td><td>nik_deg_mod-NFkB</td><td>0.5</td><td>nik_deg_mod-NFkB_0.5</td></tr><tr><th>18</th><td>P100</td><td>TNFRSF14</td><td>TNFRSF14:E65*</td><td>nik_deg_mod-NFkB</td><td>0.5</td><td>nik_deg_mod-NFkB_0.5</td></tr><tr><th>19</th><td>P126</td><td>TNFRSF14</td><td>TNFRSF14:C34fs*30</td><td>nik_deg_mod-NFkB</td><td>0.5</td><td>nik_deg_mod-NFkB_0.5</td></tr><tr><th>20</th><td>P145</td><td>TNFRSF14</td><td>TNFRSF14:W201*</td><td>nik_deg_mod-NFkB</td><td>0.5</td><td>nik_deg_mod-NFkB_0.5</td></tr><tr><th>21</th><td>P156</td><td>TNFRSF14</td><td>TNFRSF14:Q130*</td><td>nik_deg_mod-NFkB</td><td>0.5</td><td>nik_deg_mod-NFkB_0.5</td></tr><tr><th>22</th><td>P192</td><td>TNFRSF14</td><td>TNFRSF14:M1V</td><td>nik_deg_mod-NFkB</td><td>0.5</td><td>nik_deg_mod-NFkB_0.5</td></tr><tr><th>23</th><td>P199</td><td>TNFRSF14</td><td>TNFRSF14:W201*</td><td>nik_deg_mod-NFkB</td><td>0.5</td><td>nik_deg_mod-NFkB_0.5</td></tr><tr><th>24</th><td>P261</td><td>TNFRSF14</td><td>TNFRSF14:T196fs*26</td><td>nik_deg_mod-NFkB</td><td>0.5</td><td>nik_deg_mod-NFkB_0.5</td></tr><tr><th>25</th><td>P268</td><td>TNFRSF14</td><td>TNFRSF14:C78fs*13</td><td>nik_deg_mod-NFkB</td><td>0.5</td><td>nik_deg_mod-NFkB_0.5</td></tr><tr><th>26</th><td>P358</td><td>TNFRSF14</td><td>TNFRSF14:W201*</td><td>nik_deg_mod-NFkB</td><td>0.5</td><td>nik_deg_mod-NFkB_0.5</td></tr><tr><th>27</th><td>P360</td><td>TNFRSF14</td><td>TNFRSF14:*284W</td><td>nik_deg_mod-NFkB</td><td>0.5</td><td>nik_deg_mod-NFkB_0.5</td></tr><tr><th>28</th><td>P372</td><td>TNFRSF14</td><td>TNFRSF14:G104fs*131</td><td>nik_deg_mod-NFkB</td><td>0.5</td><td>nik_deg_mod-NFkB_0.5</td></tr><tr><th>29</th><td>P422</td><td>TNFRSF14</td><td>TNFRSF14:C121*</td><td>nik_deg_mod-NFkB</td><td>0.5</td><td>nik_deg_mod-NFkB_0.5</td></tr><tr><th>30</th><td>P425</td><td>TNFRSF14</td><td>TNFRSF14:W12*</td><td>nik_deg_mod-NFkB</td><td>0.5</td><td>nik_deg_mod-NFkB_0.5</td></tr><tr><th>&vellip;</th><td>&vellip;</td><td>&vellip;</td><td>&vellip;</td><td>&vellip;</td><td>&vellip;</td><td>&vellip;</td></tr></tbody></table></div>"
      ],
      "text/latex": [
       "\\begin{tabular}{r|cccccc}\n",
       "\t& PID & Gene & Alt & Param & Amount & ParamAmount\\\\\n",
       "\t\\hline\n",
       "\t& String7 & String15 & String31 & String31 & Float64 & String\\\\\n",
       "\t\\hline\n",
       "\t1 & P69 & PRDM1 & PRDM1:N172fs*17 & k1\\_s\\_Blimp1-differentiation & 0.5 & k1\\_s\\_Blimp1-differentiation\\_0.5 \\\\\n",
       "\t2 & P75 & PRDM1 & PRDM1:R442fs*64 & k1\\_s\\_Blimp1-differentiation & 0.5 & k1\\_s\\_Blimp1-differentiation\\_0.5 \\\\\n",
       "\t3 & P216 & PRDM1 & PRDM1:S76* & k1\\_s\\_Blimp1-differentiation & 0.5 & k1\\_s\\_Blimp1-differentiation\\_0.5 \\\\\n",
       "\t4 & P273 & PRDM1 & PRDM1:Y248fs*3 & k1\\_s\\_Blimp1-differentiation & 0.5 & k1\\_s\\_Blimp1-differentiation\\_0.5 \\\\\n",
       "\t5 & P289 & PRDM1 & PRDM1:E153* & k1\\_s\\_Blimp1-differentiation & 0.5 & k1\\_s\\_Blimp1-differentiation\\_0.5 \\\\\n",
       "\t6 & P340 & PRDM1 & PRDM1:K707fs*18 & k1\\_s\\_Blimp1-differentiation & 0.5 & k1\\_s\\_Blimp1-differentiation\\_0.5 \\\\\n",
       "\t7 & P359 & PRDM1 & PRDM1:R476fs*36 & k1\\_s\\_Blimp1-differentiation & 0.5 & k1\\_s\\_Blimp1-differentiation\\_0.5 \\\\\n",
       "\t8 & P658 & PRDM1 & PRDM1:S494fs*38 & k1\\_s\\_Blimp1-differentiation & 0.5 & k1\\_s\\_Blimp1-differentiation\\_0.5 \\\\\n",
       "\t9 & P712 & PRDM1 & PRDM1:L425fs*84 & k1\\_s\\_Blimp1-differentiation & 0.5 & k1\\_s\\_Blimp1-differentiation\\_0.5 \\\\\n",
       "\t10 & P768 & PRDM1 & PRDM1:E545* & k1\\_s\\_Blimp1-differentiation & 0.5 & k1\\_s\\_Blimp1-differentiation\\_0.5 \\\\\n",
       "\t11 & P908 & PRDM1 & PRDM1:V62fs*2 & k1\\_s\\_Blimp1-differentiation & 0.5 & k1\\_s\\_Blimp1-differentiation\\_0.5 \\\\\n",
       "\t12 & P914 & PRDM1 & PRDM1:Q368fs*11 & k1\\_s\\_Blimp1-differentiation & 0.5 & k1\\_s\\_Blimp1-differentiation\\_0.5 \\\\\n",
       "\t13 & P920 & PRDM1 & PRDM1:S276* & k1\\_s\\_Blimp1-differentiation & 0.5 & k1\\_s\\_Blimp1-differentiation\\_0.5 \\\\\n",
       "\t14 & P531 & MYC & MYC:P74A & k1\\_mycTsl-linking & 1.5 & k1\\_mycTsl-linking\\_1.5 \\\\\n",
       "\t15 & P12 & TNFRSF14 & TNFRSF14:P9fs*12 & nik\\_deg\\_mod-NFkB & 0.5 & nik\\_deg\\_mod-NFkB\\_0.5 \\\\\n",
       "\t16 & P24 & TNFRSF14 & TNFRSF14:T18fs*4 & nik\\_deg\\_mod-NFkB & 0.5 & nik\\_deg\\_mod-NFkB\\_0.5 \\\\\n",
       "\t17 & P94 & TNFRSF14 & TNFRSF14:M1R & nik\\_deg\\_mod-NFkB & 0.5 & nik\\_deg\\_mod-NFkB\\_0.5 \\\\\n",
       "\t18 & P100 & TNFRSF14 & TNFRSF14:E65* & nik\\_deg\\_mod-NFkB & 0.5 & nik\\_deg\\_mod-NFkB\\_0.5 \\\\\n",
       "\t19 & P126 & TNFRSF14 & TNFRSF14:C34fs*30 & nik\\_deg\\_mod-NFkB & 0.5 & nik\\_deg\\_mod-NFkB\\_0.5 \\\\\n",
       "\t20 & P145 & TNFRSF14 & TNFRSF14:W201* & nik\\_deg\\_mod-NFkB & 0.5 & nik\\_deg\\_mod-NFkB\\_0.5 \\\\\n",
       "\t21 & P156 & TNFRSF14 & TNFRSF14:Q130* & nik\\_deg\\_mod-NFkB & 0.5 & nik\\_deg\\_mod-NFkB\\_0.5 \\\\\n",
       "\t22 & P192 & TNFRSF14 & TNFRSF14:M1V & nik\\_deg\\_mod-NFkB & 0.5 & nik\\_deg\\_mod-NFkB\\_0.5 \\\\\n",
       "\t23 & P199 & TNFRSF14 & TNFRSF14:W201* & nik\\_deg\\_mod-NFkB & 0.5 & nik\\_deg\\_mod-NFkB\\_0.5 \\\\\n",
       "\t24 & P261 & TNFRSF14 & TNFRSF14:T196fs*26 & nik\\_deg\\_mod-NFkB & 0.5 & nik\\_deg\\_mod-NFkB\\_0.5 \\\\\n",
       "\t25 & P268 & TNFRSF14 & TNFRSF14:C78fs*13 & nik\\_deg\\_mod-NFkB & 0.5 & nik\\_deg\\_mod-NFkB\\_0.5 \\\\\n",
       "\t26 & P358 & TNFRSF14 & TNFRSF14:W201* & nik\\_deg\\_mod-NFkB & 0.5 & nik\\_deg\\_mod-NFkB\\_0.5 \\\\\n",
       "\t27 & P360 & TNFRSF14 & TNFRSF14:*284W & nik\\_deg\\_mod-NFkB & 0.5 & nik\\_deg\\_mod-NFkB\\_0.5 \\\\\n",
       "\t28 & P372 & TNFRSF14 & TNFRSF14:G104fs*131 & nik\\_deg\\_mod-NFkB & 0.5 & nik\\_deg\\_mod-NFkB\\_0.5 \\\\\n",
       "\t29 & P422 & TNFRSF14 & TNFRSF14:C121* & nik\\_deg\\_mod-NFkB & 0.5 & nik\\_deg\\_mod-NFkB\\_0.5 \\\\\n",
       "\t30 & P425 & TNFRSF14 & TNFRSF14:W12* & nik\\_deg\\_mod-NFkB & 0.5 & nik\\_deg\\_mod-NFkB\\_0.5 \\\\\n",
       "\t$\\dots$ & $\\dots$ & $\\dots$ & $\\dots$ & $\\dots$ & $\\dots$ & $\\dots$ \\\\\n",
       "\\end{tabular}\n"
      ],
      "text/plain": [
       "\u001b[1m316×6 DataFrame\u001b[0m\n",
       "\u001b[1m Row \u001b[0m│\u001b[1m PID     \u001b[0m\u001b[1m Gene     \u001b[0m\u001b[1m Alt             \u001b[0m\u001b[1m Param                       \u001b[0m\u001b[1m Amount\u001b[0m ⋯\n",
       "\u001b[1m     \u001b[0m│\u001b[90m String7 \u001b[0m\u001b[90m String15 \u001b[0m\u001b[90m String31        \u001b[0m\u001b[90m String31                    \u001b[0m\u001b[90m Float6\u001b[0m ⋯\n",
       "─────┼──────────────────────────────────────────────────────────────────────────\n",
       "   1 │ P69      PRDM1     PRDM1:N172fs*17  k1_s_Blimp1-differentiation      0. ⋯\n",
       "   2 │ P75      PRDM1     PRDM1:R442fs*64  k1_s_Blimp1-differentiation      0.\n",
       "   3 │ P216     PRDM1     PRDM1:S76*       k1_s_Blimp1-differentiation      0.\n",
       "   4 │ P273     PRDM1     PRDM1:Y248fs*3   k1_s_Blimp1-differentiation      0.\n",
       "   5 │ P289     PRDM1     PRDM1:E153*      k1_s_Blimp1-differentiation      0. ⋯\n",
       "   6 │ P340     PRDM1     PRDM1:K707fs*18  k1_s_Blimp1-differentiation      0.\n",
       "   7 │ P359     PRDM1     PRDM1:R476fs*36  k1_s_Blimp1-differentiation      0.\n",
       "   8 │ P658     PRDM1     PRDM1:S494fs*38  k1_s_Blimp1-differentiation      0.\n",
       "   9 │ P712     PRDM1     PRDM1:L425fs*84  k1_s_Blimp1-differentiation      0. ⋯\n",
       "  10 │ P768     PRDM1     PRDM1:E545*      k1_s_Blimp1-differentiation      0.\n",
       "  11 │ P908     PRDM1     PRDM1:V62fs*2    k1_s_Blimp1-differentiation      0.\n",
       "  ⋮  │    ⋮        ⋮             ⋮                      ⋮                  ⋮   ⋱\n",
       " 307 │ P227     MYC       AMP              k1_mycExp-linking                1.\n",
       " 308 │ P472     MYC       AMP              k1_mycExp-linking                1. ⋯\n",
       " 309 │ P607     MYC       AMP              k1_mycExp-linking                1.\n",
       " 310 │ P716     PIM1      AMP              k2_scalingNumber-NFkB            1.\n",
       " 311 │ P325     PRDM1     HETLOSS          k1_s_Blimp1-differentiation      0.\n",
       " 312 │ P767     PRDM1     HETLOSS          k1_s_Blimp1-differentiation      0. ⋯\n",
       " 313 │ P188     RB1       HETLOSS          k1_19-cellCycle                  0.\n",
       " 314 │ P118     TNFAIP3   HETLOSS          k2_scalingNumber-NFkB            1.\n",
       " 315 │ P580     TNFAIP3   HETLOSS          k2_scalingNumber-NFkB            1.\n",
       " 316 │ P46      TP53      HETLOSS          k1_bcl2Exp-linking               0. ⋯\n",
       "\u001b[36m                                                  2 columns and 295 rows omitted\u001b[0m"
      ]
     },
     "execution_count": 69,
     "metadata": {},
     "output_type": "execute_result"
    }
   ],
   "source": [
    "C2_single_strict"
   ]
  },
  {
   "cell_type": "code",
   "execution_count": 60,
   "id": "c21a70cd",
   "metadata": {},
   "outputs": [
    {
     "data": {
      "text/plain": [
       "16-element Vector{String}:\n",
       " \"k1_s_Blimp1-differentiation_0.5\"\n",
       " \"k1_mycTsl-linking_1.5\"\n",
       " \"nik_deg_mod-NFkB_0.5\"\n",
       " \"k2_scalingNumber-NFkB_1.5\"\n",
       " \"k1_bcl2Exp-linking_1.5\"\n",
       " \"k1_26-cellCycle_0.5\"\n",
       " \"kmax_IkBaSynth-NFkB_0.5\"\n",
       " \"k1_s_IRF4-linking_0.5\"\n",
       " \"k1_76-apoptosis_0.5\"\n",
       " \"k1_e_pax5-differentiation_0.5\"\n",
       " \"k1_s_Bcl6-differentiation_1.5\"\n",
       " \"k2_5-cellCycle_0.5\"\n",
       " \"k1_s_IRF4-linking_1.5\"\n",
       " \"k1_mycExp-linking_1.5\"\n",
       " \"k1_19-cellCycle_0.5\"\n",
       " \"k1_bcl2Exp-linking_0.5\""
      ]
     },
     "execution_count": 60,
     "metadata": {},
     "output_type": "execute_result"
    }
   ],
   "source": [
    "files = unique(C2_single_strict.ParamAmount)"
   ]
  },
  {
   "cell_type": "code",
   "execution_count": 61,
   "id": "b48c9e7f",
   "metadata": {
    "scrolled": true
   },
   "outputs": [
    {
     "data": {
      "text/html": [
       "<div class=\"data-frame\"><p>0 rows × 195 columns (omitted printing of 187 columns)</p><table class=\"data-frame\"><thead><tr><th></th><th>patient_ID</th><th>cMyct</th><th>RelAnp50n</th><th>cRelnp50n</th><th>Bcl2t</th><th>Cycdt</th><th>tcRel</th><th>RelAnp52n</th></tr><tr><th></th><th title=\"String\">String</th><th title=\"Float64\">Float64</th><th title=\"Float64\">Float64</th><th title=\"Float64\">Float64</th><th title=\"Float64\">Float64</th><th title=\"Float64\">Float64</th><th title=\"Float64\">Float64</th><th title=\"Float64\">Float64</th></tr></thead><tbody></tbody></table></div>"
      ],
      "text/latex": [
       "\\begin{tabular}{r|ccccccccc}\n",
       "\t& patient\\_ID & cMyct & RelAnp50n & cRelnp50n & Bcl2t & Cycdt & tcRel & RelAnp52n & \\\\\n",
       "\t\\hline\n",
       "\t& String & Float64 & Float64 & Float64 & Float64 & Float64 & Float64 & Float64 & \\\\\n",
       "\t\\hline\n",
       "\\end{tabular}\n"
      ],
      "text/plain": [
       "\u001b[1m0×195 DataFrame\u001b[0m"
      ]
     },
     "execution_count": 61,
     "metadata": {},
     "output_type": "execute_result"
    }
   ],
   "source": [
    "C2_single_6hrdf = createEmptyCellDF()"
   ]
  },
  {
   "cell_type": "code",
   "execution_count": 62,
   "id": "0626e343",
   "metadata": {
    "scrolled": true
   },
   "outputs": [
    {
     "name": "stdout",
     "output_type": "stream",
     "text": [
      "cell missmatch in patient: k1_s_Blimp1-differentiation_0.5\n",
      "3\n",
      "1\n",
      "found true cell 1: cell_42.jld2\n",
      "cell missmatch in patient: k1_mycTsl-linking_1.5\n",
      "5\n",
      "1\n",
      "found true cell 1: cell_16.jld2\n",
      "cell missmatch in patient: k2_scalingNumber-NFkB_1.5\n",
      "35\n",
      "1\n",
      "found true cell 1: cell_48.jld2\n",
      "cell missmatch in patient: k1_bcl2Exp-linking_1.5\n",
      "91\n",
      "1\n",
      "found true cell 1: cell_10.jld2\n",
      "cell missmatch in patient: k1_26-cellCycle_0.5\n",
      "5\n",
      "1\n",
      "found true cell 1: cell_10.jld2\n",
      "cell missmatch in patient: kmax_IkBaSynth-NFkB_0.5\n",
      "21\n",
      "1\n",
      "found true cell 1: cell_5.jld2\n",
      "cell missmatch in patient: k1_s_IRF4-linking_0.5\n",
      "25\n",
      "1\n",
      "found true cell 1: cell_26.jld2\n",
      "cell missmatch in patient: k1_e_pax5-differentiation_0.5\n",
      "3\n",
      "1\n",
      "found true cell 1: cell_54.jld2\n",
      "cell missmatch in patient: k1_s_Bcl6-differentiation_1.5\n",
      "13\n",
      "1\n",
      "found true cell 1: cell_2.jld2\n",
      "cell missmatch in patient: k2_5-cellCycle_0.5\n",
      "53\n",
      "1\n",
      "found true cell 1: cell_61.jld2\n",
      "cell missmatch in patient: k1_mycExp-linking_1.5\n",
      "71\n",
      "1\n",
      "found true cell 1: cell_12.jld2\n",
      "couldn't process patient: k1_bcl2Exp-linking_0.5\n"
     ]
    },
    {
     "data": {
      "text/html": [
       "<div class=\"data-frame\"><p>15 rows × 195 columns (omitted printing of 189 columns)</p><table class=\"data-frame\"><thead><tr><th></th><th>patient_ID</th><th>cMyct</th><th>RelAnp50n</th><th>cRelnp50n</th><th>Bcl2t</th><th>Cycdt</th></tr><tr><th></th><th title=\"String\">String</th><th title=\"Float64\">Float64</th><th title=\"Float64\">Float64</th><th title=\"Float64\">Float64</th><th title=\"Float64\">Float64</th><th title=\"Float64\">Float64</th></tr></thead><tbody><tr><th>1</th><td>k1_s_Blimp1-differentiation_0.5</td><td>6.80562</td><td>15.7503</td><td>5.55301</td><td>64.4727</td><td>0.100766</td></tr><tr><th>2</th><td>k1_mycTsl-linking_1.5</td><td>6.80525</td><td>15.7503</td><td>5.55123</td><td>64.4697</td><td>0.100763</td></tr><tr><th>3</th><td>nik_deg_mod-NFkB_0.5</td><td>7.44864</td><td>17.2661</td><td>6.29013</td><td>68.8278</td><td>0.109509</td></tr><tr><th>4</th><td>k2_scalingNumber-NFkB_1.5</td><td>8.41863</td><td>19.6416</td><td>7.62555</td><td>74.8067</td><td>0.120167</td></tr><tr><th>5</th><td>k1_bcl2Exp-linking_1.5</td><td>6.80517</td><td>15.7504</td><td>5.55126</td><td>88.5857</td><td>0.100763</td></tr><tr><th>6</th><td>k1_26-cellCycle_0.5</td><td>6.80526</td><td>15.7509</td><td>5.55144</td><td>64.4696</td><td>0.100763</td></tr><tr><th>7</th><td>kmax_IkBaSynth-NFkB_0.5</td><td>9.81503</td><td>22.2481</td><td>9.89348</td><td>84.8429</td><td>0.137406</td></tr><tr><th>8</th><td>k1_s_IRF4-linking_0.5</td><td>6.80524</td><td>15.7503</td><td>5.55128</td><td>64.4697</td><td>0.100763</td></tr><tr><th>9</th><td>k1_76-apoptosis_0.5</td><td>6.8059</td><td>15.7527</td><td>5.552</td><td>64.472</td><td>0.100766</td></tr><tr><th>10</th><td>k1_e_pax5-differentiation_0.5</td><td>6.80424</td><td>15.75</td><td>5.54701</td><td>64.4621</td><td>0.100755</td></tr><tr><th>11</th><td>k1_s_Bcl6-differentiation_1.5</td><td>6.80558</td><td>15.7504</td><td>5.55265</td><td>64.4723</td><td>0.100766</td></tr><tr><th>12</th><td>k2_5-cellCycle_0.5</td><td>6.8052</td><td>15.7507</td><td>5.55138</td><td>64.4694</td><td>0.100763</td></tr><tr><th>13</th><td>k1_s_IRF4-linking_1.5</td><td>6.80529</td><td>15.7503</td><td>5.55138</td><td>64.47</td><td>0.100764</td></tr><tr><th>14</th><td>k1_mycExp-linking_1.5</td><td>10.2079</td><td>15.7503</td><td>5.55123</td><td>64.4697</td><td>0.100763</td></tr><tr><th>15</th><td>k1_19-cellCycle_0.5</td><td>6.80539</td><td>15.7513</td><td>5.55156</td><td>64.4702</td><td>0.100764</td></tr></tbody></table></div>"
      ],
      "text/latex": [
       "\\begin{tabular}{r|ccccccc}\n",
       "\t& patient\\_ID & cMyct & RelAnp50n & cRelnp50n & Bcl2t & Cycdt & \\\\\n",
       "\t\\hline\n",
       "\t& String & Float64 & Float64 & Float64 & Float64 & Float64 & \\\\\n",
       "\t\\hline\n",
       "\t1 & k1\\_s\\_Blimp1-differentiation\\_0.5 & 6.80562 & 15.7503 & 5.55301 & 64.4727 & 0.100766 & $\\dots$ \\\\\n",
       "\t2 & k1\\_mycTsl-linking\\_1.5 & 6.80525 & 15.7503 & 5.55123 & 64.4697 & 0.100763 & $\\dots$ \\\\\n",
       "\t3 & nik\\_deg\\_mod-NFkB\\_0.5 & 7.44864 & 17.2661 & 6.29013 & 68.8278 & 0.109509 & $\\dots$ \\\\\n",
       "\t4 & k2\\_scalingNumber-NFkB\\_1.5 & 8.41863 & 19.6416 & 7.62555 & 74.8067 & 0.120167 & $\\dots$ \\\\\n",
       "\t5 & k1\\_bcl2Exp-linking\\_1.5 & 6.80517 & 15.7504 & 5.55126 & 88.5857 & 0.100763 & $\\dots$ \\\\\n",
       "\t6 & k1\\_26-cellCycle\\_0.5 & 6.80526 & 15.7509 & 5.55144 & 64.4696 & 0.100763 & $\\dots$ \\\\\n",
       "\t7 & kmax\\_IkBaSynth-NFkB\\_0.5 & 9.81503 & 22.2481 & 9.89348 & 84.8429 & 0.137406 & $\\dots$ \\\\\n",
       "\t8 & k1\\_s\\_IRF4-linking\\_0.5 & 6.80524 & 15.7503 & 5.55128 & 64.4697 & 0.100763 & $\\dots$ \\\\\n",
       "\t9 & k1\\_76-apoptosis\\_0.5 & 6.8059 & 15.7527 & 5.552 & 64.472 & 0.100766 & $\\dots$ \\\\\n",
       "\t10 & k1\\_e\\_pax5-differentiation\\_0.5 & 6.80424 & 15.75 & 5.54701 & 64.4621 & 0.100755 & $\\dots$ \\\\\n",
       "\t11 & k1\\_s\\_Bcl6-differentiation\\_1.5 & 6.80558 & 15.7504 & 5.55265 & 64.4723 & 0.100766 & $\\dots$ \\\\\n",
       "\t12 & k2\\_5-cellCycle\\_0.5 & 6.8052 & 15.7507 & 5.55138 & 64.4694 & 0.100763 & $\\dots$ \\\\\n",
       "\t13 & k1\\_s\\_IRF4-linking\\_1.5 & 6.80529 & 15.7503 & 5.55138 & 64.47 & 0.100764 & $\\dots$ \\\\\n",
       "\t14 & k1\\_mycExp-linking\\_1.5 & 10.2079 & 15.7503 & 5.55123 & 64.4697 & 0.100763 & $\\dots$ \\\\\n",
       "\t15 & k1\\_19-cellCycle\\_0.5 & 6.80539 & 15.7513 & 5.55156 & 64.4702 & 0.100764 & $\\dots$ \\\\\n",
       "\\end{tabular}\n"
      ],
      "text/plain": [
       "\u001b[1m15×195 DataFrame\u001b[0m\n",
       "\u001b[1m Row \u001b[0m│\u001b[1m patient_ID                      \u001b[0m\u001b[1m cMyct    \u001b[0m\u001b[1m RelAnp50n \u001b[0m\u001b[1m cRelnp50n \u001b[0m\u001b[1m Bcl2t \u001b[0m ⋯\n",
       "\u001b[1m     \u001b[0m│\u001b[90m String                          \u001b[0m\u001b[90m Float64  \u001b[0m\u001b[90m Float64   \u001b[0m\u001b[90m Float64   \u001b[0m\u001b[90m Float6\u001b[0m ⋯\n",
       "─────┼──────────────────────────────────────────────────────────────────────────\n",
       "   1 │ k1_s_Blimp1-differentiation_0.5   6.80562    15.7503    5.55301  64.472 ⋯\n",
       "   2 │ k1_mycTsl-linking_1.5             6.80525    15.7503    5.55123  64.469\n",
       "   3 │ nik_deg_mod-NFkB_0.5              7.44864    17.2661    6.29013  68.827\n",
       "   4 │ k2_scalingNumber-NFkB_1.5         8.41863    19.6416    7.62555  74.806\n",
       "   5 │ k1_bcl2Exp-linking_1.5            6.80517    15.7504    5.55126  88.585 ⋯\n",
       "   6 │ k1_26-cellCycle_0.5               6.80526    15.7509    5.55144  64.469\n",
       "   7 │ kmax_IkBaSynth-NFkB_0.5           9.81503    22.2481    9.89348  84.842\n",
       "   8 │ k1_s_IRF4-linking_0.5             6.80524    15.7503    5.55128  64.469\n",
       "   9 │ k1_76-apoptosis_0.5               6.8059     15.7527    5.552    64.472 ⋯\n",
       "  10 │ k1_e_pax5-differentiation_0.5     6.80424    15.75      5.54701  64.462\n",
       "  11 │ k1_s_Bcl6-differentiation_1.5     6.80558    15.7504    5.55265  64.472\n",
       "  12 │ k2_5-cellCycle_0.5                6.8052     15.7507    5.55138  64.469\n",
       "  13 │ k1_s_IRF4-linking_1.5             6.80529    15.7503    5.55138  64.47  ⋯\n",
       "  14 │ k1_mycExp-linking_1.5            10.2079     15.7503    5.55123  64.469\n",
       "  15 │ k1_19-cellCycle_0.5               6.80539    15.7513    5.55156  64.470\n",
       "\u001b[36m                                                             191 columns omitted\u001b[0m"
      ]
     },
     "execution_count": 62,
     "metadata": {},
     "output_type": "execute_result"
    }
   ],
   "source": [
    "C2_single_6hrdf = getFounderCells(files, \"SSDoutputs/allMutSims/indivParams\", C2_single_6hrdf, \"mut\")"
   ]
  },
  {
   "cell_type": "code",
   "execution_count": 63,
   "id": "8734dcb2",
   "metadata": {
    "scrolled": true
   },
   "outputs": [
    {
     "data": {
      "text/html": [
       "<div class=\"data-frame\"><p>15 rows × 195 columns (omitted printing of 189 columns)</p><table class=\"data-frame\"><thead><tr><th></th><th>patient_ID</th><th>cMyct</th><th>RelAnp50n</th><th>cRelnp50n</th><th>Bcl2t</th><th>Cycdt</th></tr><tr><th></th><th title=\"String\">String</th><th title=\"Float64\">Float64</th><th title=\"Float64\">Float64</th><th title=\"Float64\">Float64</th><th title=\"Float64\">Float64</th><th title=\"Float64\">Float64</th></tr></thead><tbody><tr><th>1</th><td>k1_s_Blimp1-differentiation_0.5</td><td>6.80562</td><td>15.7503</td><td>5.55301</td><td>64.4727</td><td>0.100766</td></tr><tr><th>2</th><td>k1_mycTsl-linking_1.5</td><td>6.80525</td><td>15.7503</td><td>5.55123</td><td>64.4697</td><td>0.100763</td></tr><tr><th>3</th><td>nik_deg_mod-NFkB_0.5</td><td>7.44864</td><td>17.2661</td><td>6.29013</td><td>68.8278</td><td>0.109509</td></tr><tr><th>4</th><td>k2_scalingNumber-NFkB_1.5</td><td>8.41863</td><td>19.6416</td><td>7.62555</td><td>74.8067</td><td>0.120167</td></tr><tr><th>5</th><td>k1_bcl2Exp-linking_1.5</td><td>6.80517</td><td>15.7504</td><td>5.55126</td><td>88.5857</td><td>0.100763</td></tr><tr><th>6</th><td>k1_26-cellCycle_0.5</td><td>6.80526</td><td>15.7509</td><td>5.55144</td><td>64.4696</td><td>0.100763</td></tr><tr><th>7</th><td>kmax_IkBaSynth-NFkB_0.5</td><td>9.81503</td><td>22.2481</td><td>9.89348</td><td>84.8429</td><td>0.137406</td></tr><tr><th>8</th><td>k1_s_IRF4-linking_0.5</td><td>6.80524</td><td>15.7503</td><td>5.55128</td><td>64.4697</td><td>0.100763</td></tr><tr><th>9</th><td>k1_76-apoptosis_0.5</td><td>6.8059</td><td>15.7527</td><td>5.552</td><td>64.472</td><td>0.100766</td></tr><tr><th>10</th><td>k1_e_pax5-differentiation_0.5</td><td>6.80424</td><td>15.75</td><td>5.54701</td><td>64.4621</td><td>0.100755</td></tr><tr><th>11</th><td>k1_s_Bcl6-differentiation_1.5</td><td>6.80558</td><td>15.7504</td><td>5.55265</td><td>64.4723</td><td>0.100766</td></tr><tr><th>12</th><td>k2_5-cellCycle_0.5</td><td>6.8052</td><td>15.7507</td><td>5.55138</td><td>64.4694</td><td>0.100763</td></tr><tr><th>13</th><td>k1_s_IRF4-linking_1.5</td><td>6.80529</td><td>15.7503</td><td>5.55138</td><td>64.47</td><td>0.100764</td></tr><tr><th>14</th><td>k1_mycExp-linking_1.5</td><td>10.2079</td><td>15.7503</td><td>5.55123</td><td>64.4697</td><td>0.100763</td></tr><tr><th>15</th><td>k1_19-cellCycle_0.5</td><td>6.80539</td><td>15.7513</td><td>5.55156</td><td>64.4702</td><td>0.100764</td></tr></tbody></table></div>"
      ],
      "text/latex": [
       "\\begin{tabular}{r|ccccccc}\n",
       "\t& patient\\_ID & cMyct & RelAnp50n & cRelnp50n & Bcl2t & Cycdt & \\\\\n",
       "\t\\hline\n",
       "\t& String & Float64 & Float64 & Float64 & Float64 & Float64 & \\\\\n",
       "\t\\hline\n",
       "\t1 & k1\\_s\\_Blimp1-differentiation\\_0.5 & 6.80562 & 15.7503 & 5.55301 & 64.4727 & 0.100766 & $\\dots$ \\\\\n",
       "\t2 & k1\\_mycTsl-linking\\_1.5 & 6.80525 & 15.7503 & 5.55123 & 64.4697 & 0.100763 & $\\dots$ \\\\\n",
       "\t3 & nik\\_deg\\_mod-NFkB\\_0.5 & 7.44864 & 17.2661 & 6.29013 & 68.8278 & 0.109509 & $\\dots$ \\\\\n",
       "\t4 & k2\\_scalingNumber-NFkB\\_1.5 & 8.41863 & 19.6416 & 7.62555 & 74.8067 & 0.120167 & $\\dots$ \\\\\n",
       "\t5 & k1\\_bcl2Exp-linking\\_1.5 & 6.80517 & 15.7504 & 5.55126 & 88.5857 & 0.100763 & $\\dots$ \\\\\n",
       "\t6 & k1\\_26-cellCycle\\_0.5 & 6.80526 & 15.7509 & 5.55144 & 64.4696 & 0.100763 & $\\dots$ \\\\\n",
       "\t7 & kmax\\_IkBaSynth-NFkB\\_0.5 & 9.81503 & 22.2481 & 9.89348 & 84.8429 & 0.137406 & $\\dots$ \\\\\n",
       "\t8 & k1\\_s\\_IRF4-linking\\_0.5 & 6.80524 & 15.7503 & 5.55128 & 64.4697 & 0.100763 & $\\dots$ \\\\\n",
       "\t9 & k1\\_76-apoptosis\\_0.5 & 6.8059 & 15.7527 & 5.552 & 64.472 & 0.100766 & $\\dots$ \\\\\n",
       "\t10 & k1\\_e\\_pax5-differentiation\\_0.5 & 6.80424 & 15.75 & 5.54701 & 64.4621 & 0.100755 & $\\dots$ \\\\\n",
       "\t11 & k1\\_s\\_Bcl6-differentiation\\_1.5 & 6.80558 & 15.7504 & 5.55265 & 64.4723 & 0.100766 & $\\dots$ \\\\\n",
       "\t12 & k2\\_5-cellCycle\\_0.5 & 6.8052 & 15.7507 & 5.55138 & 64.4694 & 0.100763 & $\\dots$ \\\\\n",
       "\t13 & k1\\_s\\_IRF4-linking\\_1.5 & 6.80529 & 15.7503 & 5.55138 & 64.47 & 0.100764 & $\\dots$ \\\\\n",
       "\t14 & k1\\_mycExp-linking\\_1.5 & 10.2079 & 15.7503 & 5.55123 & 64.4697 & 0.100763 & $\\dots$ \\\\\n",
       "\t15 & k1\\_19-cellCycle\\_0.5 & 6.80539 & 15.7513 & 5.55156 & 64.4702 & 0.100764 & $\\dots$ \\\\\n",
       "\\end{tabular}\n"
      ],
      "text/plain": [
       "\u001b[1m15×195 DataFrame\u001b[0m\n",
       "\u001b[1m Row \u001b[0m│\u001b[1m patient_ID                      \u001b[0m\u001b[1m cMyct    \u001b[0m\u001b[1m RelAnp50n \u001b[0m\u001b[1m cRelnp50n \u001b[0m\u001b[1m Bcl2t \u001b[0m ⋯\n",
       "\u001b[1m     \u001b[0m│\u001b[90m String                          \u001b[0m\u001b[90m Float64  \u001b[0m\u001b[90m Float64   \u001b[0m\u001b[90m Float64   \u001b[0m\u001b[90m Float6\u001b[0m ⋯\n",
       "─────┼──────────────────────────────────────────────────────────────────────────\n",
       "   1 │ k1_s_Blimp1-differentiation_0.5   6.80562    15.7503    5.55301  64.472 ⋯\n",
       "   2 │ k1_mycTsl-linking_1.5             6.80525    15.7503    5.55123  64.469\n",
       "   3 │ nik_deg_mod-NFkB_0.5              7.44864    17.2661    6.29013  68.827\n",
       "   4 │ k2_scalingNumber-NFkB_1.5         8.41863    19.6416    7.62555  74.806\n",
       "   5 │ k1_bcl2Exp-linking_1.5            6.80517    15.7504    5.55126  88.585 ⋯\n",
       "   6 │ k1_26-cellCycle_0.5               6.80526    15.7509    5.55144  64.469\n",
       "   7 │ kmax_IkBaSynth-NFkB_0.5           9.81503    22.2481    9.89348  84.842\n",
       "   8 │ k1_s_IRF4-linking_0.5             6.80524    15.7503    5.55128  64.469\n",
       "   9 │ k1_76-apoptosis_0.5               6.8059     15.7527    5.552    64.472 ⋯\n",
       "  10 │ k1_e_pax5-differentiation_0.5     6.80424    15.75      5.54701  64.462\n",
       "  11 │ k1_s_Bcl6-differentiation_1.5     6.80558    15.7504    5.55265  64.472\n",
       "  12 │ k2_5-cellCycle_0.5                6.8052     15.7507    5.55138  64.469\n",
       "  13 │ k1_s_IRF4-linking_1.5             6.80529    15.7503    5.55138  64.47  ⋯\n",
       "  14 │ k1_mycExp-linking_1.5            10.2079     15.7503    5.55123  64.469\n",
       "  15 │ k1_19-cellCycle_0.5               6.80539    15.7513    5.55156  64.470\n",
       "\u001b[36m                                                             191 columns omitted\u001b[0m"
      ]
     },
     "execution_count": 63,
     "metadata": {},
     "output_type": "execute_result"
    }
   ],
   "source": [
    "C2_single_6hrdf = unique(C2_single_6hrdf)"
   ]
  },
  {
   "cell_type": "code",
   "execution_count": 70,
   "id": "635cb8ba",
   "metadata": {},
   "outputs": [
    {
     "data": {
      "text/html": [
       "<div class=\"data-frame\"><p>0 rows × 195 columns (omitted printing of 187 columns)</p><table class=\"data-frame\"><thead><tr><th></th><th>patient_ID</th><th>cMyct</th><th>RelAnp50n</th><th>cRelnp50n</th><th>Bcl2t</th><th>Cycdt</th><th>tcRel</th><th>RelAnp52n</th></tr><tr><th></th><th title=\"String\">String</th><th title=\"Float64\">Float64</th><th title=\"Float64\">Float64</th><th title=\"Float64\">Float64</th><th title=\"Float64\">Float64</th><th title=\"Float64\">Float64</th><th title=\"Float64\">Float64</th><th title=\"Float64\">Float64</th></tr></thead><tbody></tbody></table></div>"
      ],
      "text/latex": [
       "\\begin{tabular}{r|ccccccccc}\n",
       "\t& patient\\_ID & cMyct & RelAnp50n & cRelnp50n & Bcl2t & Cycdt & tcRel & RelAnp52n & \\\\\n",
       "\t\\hline\n",
       "\t& String & Float64 & Float64 & Float64 & Float64 & Float64 & Float64 & Float64 & \\\\\n",
       "\t\\hline\n",
       "\\end{tabular}\n"
      ],
      "text/plain": [
       "\u001b[1m0×195 DataFrame\u001b[0m"
      ]
     },
     "execution_count": 70,
     "metadata": {},
     "output_type": "execute_result"
    }
   ],
   "source": [
    "C2_strict_single_6h = createEmptyCellDF()"
   ]
  },
  {
   "cell_type": "code",
   "execution_count": 71,
   "id": "29c25db5",
   "metadata": {},
   "outputs": [
    {
     "name": "stdout",
     "output_type": "stream",
     "text": [
      "15\n",
      "16\n",
      "52\n",
      "146\n",
      "200\n",
      "225\n",
      "243\n",
      "258\n",
      "259\n",
      "261\n",
      "262\n",
      "310\n",
      "311\n",
      "314\n",
      "315\n"
     ]
    }
   ],
   "source": [
    "### assign 6h data to patients with single mutation\n",
    "    npats_cumulative = 0\n",
    "for i in 1:nrow(C2_single_6hrdf)\n",
    "    param_df = DataFrame(C2_single_6hrdf[i, :])\n",
    "    patients_df = C2_single_strict[(C2_single_strict.ParamAmount .== param_df.patient_ID),:]\n",
    "    npats = nrow(patients_df)\n",
    "    repeat!(param_df, npats)\n",
    "    param_df[:, 1] = patients_df.PID\n",
    "    append!(C2_strict_single_6h, param_df)\n",
    "    npats_cumulative = npats_cumulative + npats\n",
    "    println(npats_cumulative)\n",
    "end"
   ]
  },
  {
   "cell_type": "code",
   "execution_count": 44,
   "id": "9e1ce148",
   "metadata": {
    "scrolled": true
   },
   "outputs": [
    {
     "data": {
      "text/html": [
       "<div class=\"data-frame\"><p>315 rows × 195 columns (omitted printing of 187 columns)</p><table class=\"data-frame\"><thead><tr><th></th><th>patient_ID</th><th>cMyct</th><th>RelAnp50n</th><th>cRelnp50n</th><th>Bcl2t</th><th>Cycdt</th><th>tcRel</th><th>RelAnp52n</th></tr><tr><th></th><th title=\"String\">String</th><th title=\"Float64\">Float64</th><th title=\"Float64\">Float64</th><th title=\"Float64\">Float64</th><th title=\"Float64\">Float64</th><th title=\"Float64\">Float64</th><th title=\"Float64\">Float64</th><th title=\"Float64\">Float64</th></tr></thead><tbody><tr><th>1</th><td>P69</td><td>6.80562</td><td>15.7503</td><td>5.55301</td><td>64.4727</td><td>0.100766</td><td>0.0386937</td><td>1.46884</td></tr><tr><th>2</th><td>P75</td><td>6.80562</td><td>15.7503</td><td>5.55301</td><td>64.4727</td><td>0.100766</td><td>0.0386937</td><td>1.46884</td></tr><tr><th>3</th><td>P216</td><td>6.80562</td><td>15.7503</td><td>5.55301</td><td>64.4727</td><td>0.100766</td><td>0.0386937</td><td>1.46884</td></tr><tr><th>4</th><td>P273</td><td>6.80562</td><td>15.7503</td><td>5.55301</td><td>64.4727</td><td>0.100766</td><td>0.0386937</td><td>1.46884</td></tr><tr><th>5</th><td>P289</td><td>6.80562</td><td>15.7503</td><td>5.55301</td><td>64.4727</td><td>0.100766</td><td>0.0386937</td><td>1.46884</td></tr><tr><th>6</th><td>P340</td><td>6.80562</td><td>15.7503</td><td>5.55301</td><td>64.4727</td><td>0.100766</td><td>0.0386937</td><td>1.46884</td></tr><tr><th>7</th><td>P359</td><td>6.80562</td><td>15.7503</td><td>5.55301</td><td>64.4727</td><td>0.100766</td><td>0.0386937</td><td>1.46884</td></tr><tr><th>8</th><td>P658</td><td>6.80562</td><td>15.7503</td><td>5.55301</td><td>64.4727</td><td>0.100766</td><td>0.0386937</td><td>1.46884</td></tr><tr><th>9</th><td>P712</td><td>6.80562</td><td>15.7503</td><td>5.55301</td><td>64.4727</td><td>0.100766</td><td>0.0386937</td><td>1.46884</td></tr><tr><th>10</th><td>P768</td><td>6.80562</td><td>15.7503</td><td>5.55301</td><td>64.4727</td><td>0.100766</td><td>0.0386937</td><td>1.46884</td></tr><tr><th>11</th><td>P908</td><td>6.80562</td><td>15.7503</td><td>5.55301</td><td>64.4727</td><td>0.100766</td><td>0.0386937</td><td>1.46884</td></tr><tr><th>12</th><td>P914</td><td>6.80562</td><td>15.7503</td><td>5.55301</td><td>64.4727</td><td>0.100766</td><td>0.0386937</td><td>1.46884</td></tr><tr><th>13</th><td>P920</td><td>6.80562</td><td>15.7503</td><td>5.55301</td><td>64.4727</td><td>0.100766</td><td>0.0386937</td><td>1.46884</td></tr><tr><th>14</th><td>P325</td><td>6.80562</td><td>15.7503</td><td>5.55301</td><td>64.4727</td><td>0.100766</td><td>0.0386937</td><td>1.46884</td></tr><tr><th>15</th><td>P767</td><td>6.80562</td><td>15.7503</td><td>5.55301</td><td>64.4727</td><td>0.100766</td><td>0.0386937</td><td>1.46884</td></tr><tr><th>16</th><td>P531</td><td>6.80525</td><td>15.7503</td><td>5.55123</td><td>64.4697</td><td>0.100763</td><td>0.0386653</td><td>1.46892</td></tr><tr><th>17</th><td>P12</td><td>7.44864</td><td>17.2661</td><td>6.29013</td><td>68.8278</td><td>0.109509</td><td>0.0403151</td><td>2.14316</td></tr><tr><th>18</th><td>P24</td><td>7.44864</td><td>17.2661</td><td>6.29013</td><td>68.8278</td><td>0.109509</td><td>0.0403151</td><td>2.14316</td></tr><tr><th>19</th><td>P94</td><td>7.44864</td><td>17.2661</td><td>6.29013</td><td>68.8278</td><td>0.109509</td><td>0.0403151</td><td>2.14316</td></tr><tr><th>20</th><td>P100</td><td>7.44864</td><td>17.2661</td><td>6.29013</td><td>68.8278</td><td>0.109509</td><td>0.0403151</td><td>2.14316</td></tr><tr><th>21</th><td>P126</td><td>7.44864</td><td>17.2661</td><td>6.29013</td><td>68.8278</td><td>0.109509</td><td>0.0403151</td><td>2.14316</td></tr><tr><th>22</th><td>P145</td><td>7.44864</td><td>17.2661</td><td>6.29013</td><td>68.8278</td><td>0.109509</td><td>0.0403151</td><td>2.14316</td></tr><tr><th>23</th><td>P156</td><td>7.44864</td><td>17.2661</td><td>6.29013</td><td>68.8278</td><td>0.109509</td><td>0.0403151</td><td>2.14316</td></tr><tr><th>24</th><td>P192</td><td>7.44864</td><td>17.2661</td><td>6.29013</td><td>68.8278</td><td>0.109509</td><td>0.0403151</td><td>2.14316</td></tr><tr><th>25</th><td>P199</td><td>7.44864</td><td>17.2661</td><td>6.29013</td><td>68.8278</td><td>0.109509</td><td>0.0403151</td><td>2.14316</td></tr><tr><th>26</th><td>P261</td><td>7.44864</td><td>17.2661</td><td>6.29013</td><td>68.8278</td><td>0.109509</td><td>0.0403151</td><td>2.14316</td></tr><tr><th>27</th><td>P268</td><td>7.44864</td><td>17.2661</td><td>6.29013</td><td>68.8278</td><td>0.109509</td><td>0.0403151</td><td>2.14316</td></tr><tr><th>28</th><td>P358</td><td>7.44864</td><td>17.2661</td><td>6.29013</td><td>68.8278</td><td>0.109509</td><td>0.0403151</td><td>2.14316</td></tr><tr><th>29</th><td>P360</td><td>7.44864</td><td>17.2661</td><td>6.29013</td><td>68.8278</td><td>0.109509</td><td>0.0403151</td><td>2.14316</td></tr><tr><th>30</th><td>P372</td><td>7.44864</td><td>17.2661</td><td>6.29013</td><td>68.8278</td><td>0.109509</td><td>0.0403151</td><td>2.14316</td></tr><tr><th>&vellip;</th><td>&vellip;</td><td>&vellip;</td><td>&vellip;</td><td>&vellip;</td><td>&vellip;</td><td>&vellip;</td><td>&vellip;</td><td>&vellip;</td></tr></tbody></table></div>"
      ],
      "text/latex": [
       "\\begin{tabular}{r|ccccccccc}\n",
       "\t& patient\\_ID & cMyct & RelAnp50n & cRelnp50n & Bcl2t & Cycdt & tcRel & RelAnp52n & \\\\\n",
       "\t\\hline\n",
       "\t& String & Float64 & Float64 & Float64 & Float64 & Float64 & Float64 & Float64 & \\\\\n",
       "\t\\hline\n",
       "\t1 & P69 & 6.80562 & 15.7503 & 5.55301 & 64.4727 & 0.100766 & 0.0386937 & 1.46884 & $\\dots$ \\\\\n",
       "\t2 & P75 & 6.80562 & 15.7503 & 5.55301 & 64.4727 & 0.100766 & 0.0386937 & 1.46884 & $\\dots$ \\\\\n",
       "\t3 & P216 & 6.80562 & 15.7503 & 5.55301 & 64.4727 & 0.100766 & 0.0386937 & 1.46884 & $\\dots$ \\\\\n",
       "\t4 & P273 & 6.80562 & 15.7503 & 5.55301 & 64.4727 & 0.100766 & 0.0386937 & 1.46884 & $\\dots$ \\\\\n",
       "\t5 & P289 & 6.80562 & 15.7503 & 5.55301 & 64.4727 & 0.100766 & 0.0386937 & 1.46884 & $\\dots$ \\\\\n",
       "\t6 & P340 & 6.80562 & 15.7503 & 5.55301 & 64.4727 & 0.100766 & 0.0386937 & 1.46884 & $\\dots$ \\\\\n",
       "\t7 & P359 & 6.80562 & 15.7503 & 5.55301 & 64.4727 & 0.100766 & 0.0386937 & 1.46884 & $\\dots$ \\\\\n",
       "\t8 & P658 & 6.80562 & 15.7503 & 5.55301 & 64.4727 & 0.100766 & 0.0386937 & 1.46884 & $\\dots$ \\\\\n",
       "\t9 & P712 & 6.80562 & 15.7503 & 5.55301 & 64.4727 & 0.100766 & 0.0386937 & 1.46884 & $\\dots$ \\\\\n",
       "\t10 & P768 & 6.80562 & 15.7503 & 5.55301 & 64.4727 & 0.100766 & 0.0386937 & 1.46884 & $\\dots$ \\\\\n",
       "\t11 & P908 & 6.80562 & 15.7503 & 5.55301 & 64.4727 & 0.100766 & 0.0386937 & 1.46884 & $\\dots$ \\\\\n",
       "\t12 & P914 & 6.80562 & 15.7503 & 5.55301 & 64.4727 & 0.100766 & 0.0386937 & 1.46884 & $\\dots$ \\\\\n",
       "\t13 & P920 & 6.80562 & 15.7503 & 5.55301 & 64.4727 & 0.100766 & 0.0386937 & 1.46884 & $\\dots$ \\\\\n",
       "\t14 & P325 & 6.80562 & 15.7503 & 5.55301 & 64.4727 & 0.100766 & 0.0386937 & 1.46884 & $\\dots$ \\\\\n",
       "\t15 & P767 & 6.80562 & 15.7503 & 5.55301 & 64.4727 & 0.100766 & 0.0386937 & 1.46884 & $\\dots$ \\\\\n",
       "\t16 & P531 & 6.80525 & 15.7503 & 5.55123 & 64.4697 & 0.100763 & 0.0386653 & 1.46892 & $\\dots$ \\\\\n",
       "\t17 & P12 & 7.44864 & 17.2661 & 6.29013 & 68.8278 & 0.109509 & 0.0403151 & 2.14316 & $\\dots$ \\\\\n",
       "\t18 & P24 & 7.44864 & 17.2661 & 6.29013 & 68.8278 & 0.109509 & 0.0403151 & 2.14316 & $\\dots$ \\\\\n",
       "\t19 & P94 & 7.44864 & 17.2661 & 6.29013 & 68.8278 & 0.109509 & 0.0403151 & 2.14316 & $\\dots$ \\\\\n",
       "\t20 & P100 & 7.44864 & 17.2661 & 6.29013 & 68.8278 & 0.109509 & 0.0403151 & 2.14316 & $\\dots$ \\\\\n",
       "\t21 & P126 & 7.44864 & 17.2661 & 6.29013 & 68.8278 & 0.109509 & 0.0403151 & 2.14316 & $\\dots$ \\\\\n",
       "\t22 & P145 & 7.44864 & 17.2661 & 6.29013 & 68.8278 & 0.109509 & 0.0403151 & 2.14316 & $\\dots$ \\\\\n",
       "\t23 & P156 & 7.44864 & 17.2661 & 6.29013 & 68.8278 & 0.109509 & 0.0403151 & 2.14316 & $\\dots$ \\\\\n",
       "\t24 & P192 & 7.44864 & 17.2661 & 6.29013 & 68.8278 & 0.109509 & 0.0403151 & 2.14316 & $\\dots$ \\\\\n",
       "\t25 & P199 & 7.44864 & 17.2661 & 6.29013 & 68.8278 & 0.109509 & 0.0403151 & 2.14316 & $\\dots$ \\\\\n",
       "\t26 & P261 & 7.44864 & 17.2661 & 6.29013 & 68.8278 & 0.109509 & 0.0403151 & 2.14316 & $\\dots$ \\\\\n",
       "\t27 & P268 & 7.44864 & 17.2661 & 6.29013 & 68.8278 & 0.109509 & 0.0403151 & 2.14316 & $\\dots$ \\\\\n",
       "\t28 & P358 & 7.44864 & 17.2661 & 6.29013 & 68.8278 & 0.109509 & 0.0403151 & 2.14316 & $\\dots$ \\\\\n",
       "\t29 & P360 & 7.44864 & 17.2661 & 6.29013 & 68.8278 & 0.109509 & 0.0403151 & 2.14316 & $\\dots$ \\\\\n",
       "\t30 & P372 & 7.44864 & 17.2661 & 6.29013 & 68.8278 & 0.109509 & 0.0403151 & 2.14316 & $\\dots$ \\\\\n",
       "\t$\\dots$ & $\\dots$ & $\\dots$ & $\\dots$ & $\\dots$ & $\\dots$ & $\\dots$ & $\\dots$ & $\\dots$ &  \\\\\n",
       "\\end{tabular}\n"
      ],
      "text/plain": [
       "\u001b[1m315×195 DataFrame\u001b[0m\n",
       "\u001b[1m Row \u001b[0m│\u001b[1m patient_ID \u001b[0m\u001b[1m cMyct    \u001b[0m\u001b[1m RelAnp50n \u001b[0m\u001b[1m cRelnp50n \u001b[0m\u001b[1m Bcl2t   \u001b[0m\u001b[1m Cycdt    \u001b[0m\u001b[1m tcRel   \u001b[0m ⋯\n",
       "\u001b[1m     \u001b[0m│\u001b[90m String     \u001b[0m\u001b[90m Float64  \u001b[0m\u001b[90m Float64   \u001b[0m\u001b[90m Float64   \u001b[0m\u001b[90m Float64 \u001b[0m\u001b[90m Float64  \u001b[0m\u001b[90m Float64 \u001b[0m ⋯\n",
       "─────┼──────────────────────────────────────────────────────────────────────────\n",
       "   1 │ P69          6.80562    15.7503    5.55301  64.4727  0.100766  0.038693 ⋯\n",
       "   2 │ P75          6.80562    15.7503    5.55301  64.4727  0.100766  0.038693\n",
       "   3 │ P216         6.80562    15.7503    5.55301  64.4727  0.100766  0.038693\n",
       "   4 │ P273         6.80562    15.7503    5.55301  64.4727  0.100766  0.038693\n",
       "   5 │ P289         6.80562    15.7503    5.55301  64.4727  0.100766  0.038693 ⋯\n",
       "   6 │ P340         6.80562    15.7503    5.55301  64.4727  0.100766  0.038693\n",
       "   7 │ P359         6.80562    15.7503    5.55301  64.4727  0.100766  0.038693\n",
       "   8 │ P658         6.80562    15.7503    5.55301  64.4727  0.100766  0.038693\n",
       "   9 │ P712         6.80562    15.7503    5.55301  64.4727  0.100766  0.038693 ⋯\n",
       "  10 │ P768         6.80562    15.7503    5.55301  64.4727  0.100766  0.038693\n",
       "  11 │ P908         6.80562    15.7503    5.55301  64.4727  0.100766  0.038693\n",
       "  ⋮  │     ⋮          ⋮          ⋮          ⋮         ⋮        ⋮          ⋮    ⋱\n",
       " 306 │ P824         6.8052     15.7507    5.55138  64.4694  0.100763  0.038665\n",
       " 307 │ P830         6.8052     15.7507    5.55138  64.4694  0.100763  0.038665 ⋯\n",
       " 308 │ P841         6.8052     15.7507    5.55138  64.4694  0.100763  0.038665\n",
       " 309 │ P869         6.8052     15.7507    5.55138  64.4694  0.100763  0.038665\n",
       " 310 │ P842         6.8052     15.7507    5.55138  64.4694  0.100763  0.038665\n",
       " 311 │ P51          6.80529    15.7503    5.55138  64.47    0.100764  0.038669 ⋯\n",
       " 312 │ P227        10.2079     15.7503    5.55123  64.4697  0.100763  0.038665\n",
       " 313 │ P472        10.2079     15.7503    5.55123  64.4697  0.100763  0.038665\n",
       " 314 │ P607        10.2079     15.7503    5.55123  64.4697  0.100763  0.038665\n",
       " 315 │ P188         6.80539    15.7513    5.55156  64.4702  0.100764  0.038665 ⋯\n",
       "\u001b[36m                                                189 columns and 294 rows omitted\u001b[0m"
      ]
     },
     "execution_count": 44,
     "metadata": {},
     "output_type": "execute_result"
    }
   ],
   "source": [
    "C2_strict_single_6h"
   ]
  },
  {
   "cell_type": "code",
   "execution_count": 45,
   "id": "4099e7b2",
   "metadata": {
    "scrolled": true
   },
   "outputs": [
    {
     "data": {
      "text/html": [
       "<div class=\"data-frame\"><p>811 rows × 195 columns (omitted printing of 187 columns)</p><table class=\"data-frame\"><thead><tr><th></th><th>patient_ID</th><th>cMyct</th><th>RelAnp50n</th><th>cRelnp50n</th><th>Bcl2t</th><th>Cycdt</th><th>tcRel</th><th>RelAnp52n</th></tr><tr><th></th><th title=\"String\">String</th><th title=\"Float64\">Float64</th><th title=\"Float64\">Float64</th><th title=\"Float64\">Float64</th><th title=\"Float64\">Float64</th><th title=\"Float64\">Float64</th><th title=\"Float64\">Float64</th><th title=\"Float64\">Float64</th></tr></thead><tbody><tr><th>1</th><td>P104</td><td>6.80557</td><td>15.7518</td><td>5.55172</td><td>88.5879</td><td>0.100765</td><td>0.0386653</td><td>1.46904</td></tr><tr><th>2</th><td>P105</td><td>10.4545</td><td>24.1281</td><td>10.4518</td><td>88.2749</td><td>0.144238</td><td>0.0441876</td><td>1.85993</td></tr><tr><th>3</th><td>P109</td><td>10.4528</td><td>24.1272</td><td>10.4453</td><td>88.2629</td><td>0.144226</td><td>0.0440745</td><td>1.86013</td></tr><tr><th>4</th><td>P111</td><td>6.80587</td><td>15.751</td><td>5.55325</td><td>64.4738</td><td>0.100768</td><td>0.0386937</td><td>1.46889</td></tr><tr><th>5</th><td>P112</td><td>10.4532</td><td>24.1287</td><td>10.4459</td><td>88.2643</td><td>0.144227</td><td>0.0440746</td><td>1.86023</td></tr><tr><th>6</th><td>P115</td><td>10.4532</td><td>24.1287</td><td>10.4459</td><td>88.2643</td><td>0.144227</td><td>0.0440746</td><td>1.86023</td></tr><tr><th>7</th><td>P117</td><td>6.80431</td><td>15.7506</td><td>5.54724</td><td>64.4627</td><td>0.100756</td><td>0.0385746</td><td>1.46915</td></tr><tr><th>8</th><td>P120</td><td>9.81549</td><td>22.2493</td><td>9.89401</td><td>84.8452</td><td>0.137409</td><td>0.0447539</td><td>2.04555</td></tr><tr><th>9</th><td>P122</td><td>8.41931</td><td>19.6415</td><td>7.62849</td><td>74.8121</td><td>0.120173</td><td>0.0413565</td><td>1.63945</td></tr><tr><th>10</th><td>P124</td><td>6.80531</td><td>15.7505</td><td>5.5513</td><td>52.4116</td><td>0.100764</td><td>0.0386653</td><td>1.46893</td></tr><tr><th>11</th><td>P13</td><td>12.6286</td><td>19.6407</td><td>7.62816</td><td>104.098</td><td>0.120172</td><td>0.0413565</td><td>1.63939</td></tr><tr><th>12</th><td>P132</td><td>10.4528</td><td>24.1273</td><td>10.4453</td><td>88.2628</td><td>0.144226</td><td>0.0440745</td><td>1.86013</td></tr><tr><th>13</th><td>P137</td><td>6.8054</td><td>15.7503</td><td>5.55121</td><td>124.762</td><td>0.100764</td><td>0.0386653</td><td>1.46891</td></tr><tr><th>14</th><td>P138</td><td>9.39685</td><td>21.8112</td><td>8.75125</td><td>81.5455</td><td>0.13338</td><td>0.042954</td><td>2.39629</td></tr><tr><th>15</th><td>P14</td><td>8.41836</td><td>19.6405</td><td>7.62512</td><td>104.09</td><td>0.120166</td><td>0.0413075</td><td>1.63951</td></tr><tr><th>16</th><td>P140</td><td>8.41831</td><td>19.641</td><td>7.62531</td><td>74.8058</td><td>0.120167</td><td>0.0413075</td><td>1.63955</td></tr><tr><th>17</th><td>P148</td><td>11.914</td><td>26.6801</td><td>12.9227</td><td>140.588</td><td>0.162428</td><td>0.0470169</td><td>2.29342</td></tr><tr><th>18</th><td>P149</td><td>8.41836</td><td>19.6405</td><td>7.62512</td><td>104.09</td><td>0.120166</td><td>0.0413075</td><td>1.63951</td></tr><tr><th>19</th><td>P151</td><td>6.80562</td><td>15.7508</td><td>5.55317</td><td>64.4727</td><td>0.100766</td><td>0.0386937</td><td>1.46887</td></tr><tr><th>20</th><td>P154</td><td>11.8484</td><td>27.078</td><td>12.1334</td><td>139.157</td><td>0.16309</td><td>0.0456298</td><td>2.7352</td></tr><tr><th>21</th><td>P155</td><td>6.80562</td><td>15.7508</td><td>5.55317</td><td>64.4727</td><td>0.100766</td><td>0.0386937</td><td>1.46887</td></tr><tr><th>22</th><td>P158</td><td>6.80527</td><td>15.7511</td><td>5.5515</td><td>124.761</td><td>0.100763</td><td>0.0386653</td><td>1.46898</td></tr><tr><th>23</th><td>P159</td><td>6.80527</td><td>15.7511</td><td>5.5515</td><td>124.761</td><td>0.100763</td><td>0.0386653</td><td>1.46898</td></tr><tr><th>24</th><td>P16</td><td>7.44887</td><td>17.2665</td><td>6.29026</td><td>68.8289</td><td>0.109511</td><td>0.0403152</td><td>2.14319</td></tr><tr><th>25</th><td>P163</td><td>10.4531</td><td>24.1275</td><td>10.4454</td><td>124.278</td><td>0.144227</td><td>0.0440745</td><td>1.86015</td></tr><tr><th>26</th><td>P169</td><td>6.80527</td><td>15.7511</td><td>5.5515</td><td>124.761</td><td>0.100763</td><td>0.0386653</td><td>1.46898</td></tr><tr><th>27</th><td>P17</td><td>8.41836</td><td>19.6405</td><td>7.62512</td><td>104.09</td><td>0.120166</td><td>0.0413075</td><td>1.63951</td></tr><tr><th>28</th><td>P172</td><td>6.80519</td><td>15.7506</td><td>5.55139</td><td>88.5858</td><td>0.100763</td><td>0.0386699</td><td>1.46894</td></tr><tr><th>29</th><td>P174</td><td>10.4532</td><td>24.1287</td><td>10.4459</td><td>88.2643</td><td>0.144227</td><td>0.0440746</td><td>1.86023</td></tr><tr><th>30</th><td>P184</td><td>11.9141</td><td>26.6798</td><td>12.9226</td><td>99.1385</td><td>0.162429</td><td>0.0470169</td><td>2.29339</td></tr><tr><th>&vellip;</th><td>&vellip;</td><td>&vellip;</td><td>&vellip;</td><td>&vellip;</td><td>&vellip;</td><td>&vellip;</td><td>&vellip;</td><td>&vellip;</td></tr></tbody></table></div>"
      ],
      "text/latex": [
       "\\begin{tabular}{r|ccccccccc}\n",
       "\t& patient\\_ID & cMyct & RelAnp50n & cRelnp50n & Bcl2t & Cycdt & tcRel & RelAnp52n & \\\\\n",
       "\t\\hline\n",
       "\t& String & Float64 & Float64 & Float64 & Float64 & Float64 & Float64 & Float64 & \\\\\n",
       "\t\\hline\n",
       "\t1 & P104 & 6.80557 & 15.7518 & 5.55172 & 88.5879 & 0.100765 & 0.0386653 & 1.46904 & $\\dots$ \\\\\n",
       "\t2 & P105 & 10.4545 & 24.1281 & 10.4518 & 88.2749 & 0.144238 & 0.0441876 & 1.85993 & $\\dots$ \\\\\n",
       "\t3 & P109 & 10.4528 & 24.1272 & 10.4453 & 88.2629 & 0.144226 & 0.0440745 & 1.86013 & $\\dots$ \\\\\n",
       "\t4 & P111 & 6.80587 & 15.751 & 5.55325 & 64.4738 & 0.100768 & 0.0386937 & 1.46889 & $\\dots$ \\\\\n",
       "\t5 & P112 & 10.4532 & 24.1287 & 10.4459 & 88.2643 & 0.144227 & 0.0440746 & 1.86023 & $\\dots$ \\\\\n",
       "\t6 & P115 & 10.4532 & 24.1287 & 10.4459 & 88.2643 & 0.144227 & 0.0440746 & 1.86023 & $\\dots$ \\\\\n",
       "\t7 & P117 & 6.80431 & 15.7506 & 5.54724 & 64.4627 & 0.100756 & 0.0385746 & 1.46915 & $\\dots$ \\\\\n",
       "\t8 & P120 & 9.81549 & 22.2493 & 9.89401 & 84.8452 & 0.137409 & 0.0447539 & 2.04555 & $\\dots$ \\\\\n",
       "\t9 & P122 & 8.41931 & 19.6415 & 7.62849 & 74.8121 & 0.120173 & 0.0413565 & 1.63945 & $\\dots$ \\\\\n",
       "\t10 & P124 & 6.80531 & 15.7505 & 5.5513 & 52.4116 & 0.100764 & 0.0386653 & 1.46893 & $\\dots$ \\\\\n",
       "\t11 & P13 & 12.6286 & 19.6407 & 7.62816 & 104.098 & 0.120172 & 0.0413565 & 1.63939 & $\\dots$ \\\\\n",
       "\t12 & P132 & 10.4528 & 24.1273 & 10.4453 & 88.2628 & 0.144226 & 0.0440745 & 1.86013 & $\\dots$ \\\\\n",
       "\t13 & P137 & 6.8054 & 15.7503 & 5.55121 & 124.762 & 0.100764 & 0.0386653 & 1.46891 & $\\dots$ \\\\\n",
       "\t14 & P138 & 9.39685 & 21.8112 & 8.75125 & 81.5455 & 0.13338 & 0.042954 & 2.39629 & $\\dots$ \\\\\n",
       "\t15 & P14 & 8.41836 & 19.6405 & 7.62512 & 104.09 & 0.120166 & 0.0413075 & 1.63951 & $\\dots$ \\\\\n",
       "\t16 & P140 & 8.41831 & 19.641 & 7.62531 & 74.8058 & 0.120167 & 0.0413075 & 1.63955 & $\\dots$ \\\\\n",
       "\t17 & P148 & 11.914 & 26.6801 & 12.9227 & 140.588 & 0.162428 & 0.0470169 & 2.29342 & $\\dots$ \\\\\n",
       "\t18 & P149 & 8.41836 & 19.6405 & 7.62512 & 104.09 & 0.120166 & 0.0413075 & 1.63951 & $\\dots$ \\\\\n",
       "\t19 & P151 & 6.80562 & 15.7508 & 5.55317 & 64.4727 & 0.100766 & 0.0386937 & 1.46887 & $\\dots$ \\\\\n",
       "\t20 & P154 & 11.8484 & 27.078 & 12.1334 & 139.157 & 0.16309 & 0.0456298 & 2.7352 & $\\dots$ \\\\\n",
       "\t21 & P155 & 6.80562 & 15.7508 & 5.55317 & 64.4727 & 0.100766 & 0.0386937 & 1.46887 & $\\dots$ \\\\\n",
       "\t22 & P158 & 6.80527 & 15.7511 & 5.5515 & 124.761 & 0.100763 & 0.0386653 & 1.46898 & $\\dots$ \\\\\n",
       "\t23 & P159 & 6.80527 & 15.7511 & 5.5515 & 124.761 & 0.100763 & 0.0386653 & 1.46898 & $\\dots$ \\\\\n",
       "\t24 & P16 & 7.44887 & 17.2665 & 6.29026 & 68.8289 & 0.109511 & 0.0403152 & 2.14319 & $\\dots$ \\\\\n",
       "\t25 & P163 & 10.4531 & 24.1275 & 10.4454 & 124.278 & 0.144227 & 0.0440745 & 1.86015 & $\\dots$ \\\\\n",
       "\t26 & P169 & 6.80527 & 15.7511 & 5.5515 & 124.761 & 0.100763 & 0.0386653 & 1.46898 & $\\dots$ \\\\\n",
       "\t27 & P17 & 8.41836 & 19.6405 & 7.62512 & 104.09 & 0.120166 & 0.0413075 & 1.63951 & $\\dots$ \\\\\n",
       "\t28 & P172 & 6.80519 & 15.7506 & 5.55139 & 88.5858 & 0.100763 & 0.0386699 & 1.46894 & $\\dots$ \\\\\n",
       "\t29 & P174 & 10.4532 & 24.1287 & 10.4459 & 88.2643 & 0.144227 & 0.0440746 & 1.86023 & $\\dots$ \\\\\n",
       "\t30 & P184 & 11.9141 & 26.6798 & 12.9226 & 99.1385 & 0.162429 & 0.0470169 & 2.29339 & $\\dots$ \\\\\n",
       "\t$\\dots$ & $\\dots$ & $\\dots$ & $\\dots$ & $\\dots$ & $\\dots$ & $\\dots$ & $\\dots$ & $\\dots$ &  \\\\\n",
       "\\end{tabular}\n"
      ],
      "text/plain": [
       "\u001b[1m811×195 DataFrame\u001b[0m\n",
       "\u001b[1m Row \u001b[0m│\u001b[1m patient_ID \u001b[0m\u001b[1m cMyct    \u001b[0m\u001b[1m RelAnp50n \u001b[0m\u001b[1m cRelnp50n \u001b[0m\u001b[1m Bcl2t    \u001b[0m\u001b[1m Cycdt    \u001b[0m\u001b[1m tcRel  \u001b[0m ⋯\n",
       "\u001b[1m     \u001b[0m│\u001b[90m String     \u001b[0m\u001b[90m Float64  \u001b[0m\u001b[90m Float64   \u001b[0m\u001b[90m Float64   \u001b[0m\u001b[90m Float64  \u001b[0m\u001b[90m Float64  \u001b[0m\u001b[90m Float64\u001b[0m ⋯\n",
       "─────┼──────────────────────────────────────────────────────────────────────────\n",
       "   1 │ P104         6.80557    15.7518    5.55172   88.5879  0.100765  0.03866 ⋯\n",
       "   2 │ P105        10.4545     24.1281   10.4518    88.2749  0.144238  0.04418\n",
       "   3 │ P109        10.4528     24.1272   10.4453    88.2629  0.144226  0.04407\n",
       "   4 │ P111         6.80587    15.751     5.55325   64.4738  0.100768  0.03869\n",
       "   5 │ P112        10.4532     24.1287   10.4459    88.2643  0.144227  0.04407 ⋯\n",
       "   6 │ P115        10.4532     24.1287   10.4459    88.2643  0.144227  0.04407\n",
       "   7 │ P117         6.80431    15.7506    5.54724   64.4627  0.100756  0.03857\n",
       "   8 │ P120         9.81549    22.2493    9.89401   84.8452  0.137409  0.04475\n",
       "   9 │ P122         8.41931    19.6415    7.62849   74.8121  0.120173  0.04135 ⋯\n",
       "  10 │ P124         6.80531    15.7505    5.5513    52.4116  0.100764  0.03866\n",
       "  11 │ P13         12.6286     19.6407    7.62816  104.098   0.120172  0.04135\n",
       "  ⋮  │     ⋮          ⋮          ⋮          ⋮         ⋮         ⋮          ⋮   ⋱\n",
       " 802 │ P824         6.8052     15.7507    5.55138   64.4694  0.100763  0.03866\n",
       " 803 │ P830         6.8052     15.7507    5.55138   64.4694  0.100763  0.03866 ⋯\n",
       " 804 │ P841         6.8052     15.7507    5.55138   64.4694  0.100763  0.03866\n",
       " 805 │ P869         6.8052     15.7507    5.55138   64.4694  0.100763  0.03866\n",
       " 806 │ P842         6.8052     15.7507    5.55138   64.4694  0.100763  0.03866\n",
       " 807 │ P51          6.80529    15.7503    5.55138   64.47    0.100764  0.03866 ⋯\n",
       " 808 │ P227        10.2079     15.7503    5.55123   64.4697  0.100763  0.03866\n",
       " 809 │ P472        10.2079     15.7503    5.55123   64.4697  0.100763  0.03866\n",
       " 810 │ P607        10.2079     15.7503    5.55123   64.4697  0.100763  0.03866\n",
       " 811 │ P188         6.80539    15.7513    5.55156   64.4702  0.100764  0.03866 ⋯\n",
       "\u001b[36m                                                189 columns and 790 rows omitted\u001b[0m"
      ]
     },
     "execution_count": 45,
     "metadata": {},
     "output_type": "execute_result"
    }
   ],
   "source": [
    "C2_strict_6h = append!(C2_strict_multi_6h, C2_strict_single_6h)"
   ]
  },
  {
   "cell_type": "code",
   "execution_count": 46,
   "id": "5faa54b0",
   "metadata": {
    "scrolled": true
   },
   "outputs": [
    {
     "data": {
      "text/html": [
       "<div class=\"data-frame\"><p>811 rows × 195 columns (omitted printing of 187 columns)</p><table class=\"data-frame\"><thead><tr><th></th><th>patient_ID</th><th>cMyct</th><th>RelAnp50n</th><th>cRelnp50n</th><th>Bcl2t</th><th>Cycdt</th><th>tcRel</th><th>RelAnp52n</th></tr><tr><th></th><th title=\"String\">String</th><th title=\"Float64\">Float64</th><th title=\"Float64\">Float64</th><th title=\"Float64\">Float64</th><th title=\"Float64\">Float64</th><th title=\"Float64\">Float64</th><th title=\"Float64\">Float64</th><th title=\"Float64\">Float64</th></tr></thead><tbody><tr><th>1</th><td>P1</td><td>6.8052</td><td>15.7507</td><td>5.55138</td><td>64.4694</td><td>0.100763</td><td>0.0386653</td><td>1.46895</td></tr><tr><th>2</th><td>P100</td><td>7.44864</td><td>17.2661</td><td>6.29013</td><td>68.8278</td><td>0.109509</td><td>0.0403151</td><td>2.14316</td></tr><tr><th>3</th><td>P102</td><td>8.41863</td><td>19.6416</td><td>7.62555</td><td>74.8067</td><td>0.120167</td><td>0.0413075</td><td>1.63959</td></tr><tr><th>4</th><td>P103</td><td>6.80517</td><td>15.7504</td><td>5.55126</td><td>88.5857</td><td>0.100763</td><td>0.0386653</td><td>1.46893</td></tr><tr><th>5</th><td>P104</td><td>6.80557</td><td>15.7518</td><td>5.55172</td><td>88.5879</td><td>0.100765</td><td>0.0386653</td><td>1.46904</td></tr><tr><th>6</th><td>P104</td><td>6.80557</td><td>15.7518</td><td>5.55172</td><td>88.5879</td><td>0.100765</td><td>0.0386653</td><td>1.46904</td></tr><tr><th>7</th><td>P105</td><td>10.4545</td><td>24.1281</td><td>10.4518</td><td>88.2749</td><td>0.144238</td><td>0.0441876</td><td>1.85993</td></tr><tr><th>8</th><td>P105</td><td>10.4545</td><td>24.1281</td><td>10.4518</td><td>88.2749</td><td>0.144238</td><td>0.0441876</td><td>1.85993</td></tr><tr><th>9</th><td>P108</td><td>8.41863</td><td>19.6416</td><td>7.62555</td><td>74.8067</td><td>0.120167</td><td>0.0413075</td><td>1.63959</td></tr><tr><th>10</th><td>P109</td><td>10.4528</td><td>24.1272</td><td>10.4453</td><td>88.2629</td><td>0.144226</td><td>0.0440745</td><td>1.86013</td></tr><tr><th>11</th><td>P109</td><td>10.4528</td><td>24.1272</td><td>10.4453</td><td>88.2629</td><td>0.144226</td><td>0.0440745</td><td>1.86013</td></tr><tr><th>12</th><td>P110</td><td>6.8052</td><td>15.7507</td><td>5.55138</td><td>64.4694</td><td>0.100763</td><td>0.0386653</td><td>1.46895</td></tr><tr><th>13</th><td>P111</td><td>6.80587</td><td>15.751</td><td>5.55325</td><td>64.4738</td><td>0.100768</td><td>0.0386937</td><td>1.46889</td></tr><tr><th>14</th><td>P111</td><td>6.80587</td><td>15.751</td><td>5.55325</td><td>64.4738</td><td>0.100768</td><td>0.0386937</td><td>1.46889</td></tr><tr><th>15</th><td>P112</td><td>10.4532</td><td>24.1287</td><td>10.4459</td><td>88.2643</td><td>0.144227</td><td>0.0440746</td><td>1.86023</td></tr><tr><th>16</th><td>P112</td><td>10.4532</td><td>24.1287</td><td>10.4459</td><td>88.2643</td><td>0.144227</td><td>0.0440746</td><td>1.86023</td></tr><tr><th>17</th><td>P113</td><td>8.41863</td><td>19.6416</td><td>7.62555</td><td>74.8067</td><td>0.120167</td><td>0.0413075</td><td>1.63959</td></tr><tr><th>18</th><td>P115</td><td>10.4532</td><td>24.1287</td><td>10.4459</td><td>88.2643</td><td>0.144227</td><td>0.0440746</td><td>1.86023</td></tr><tr><th>19</th><td>P115</td><td>10.4532</td><td>24.1287</td><td>10.4459</td><td>88.2643</td><td>0.144227</td><td>0.0440746</td><td>1.86023</td></tr><tr><th>20</th><td>P116</td><td>8.41863</td><td>19.6416</td><td>7.62555</td><td>74.8067</td><td>0.120167</td><td>0.0413075</td><td>1.63959</td></tr><tr><th>21</th><td>P117</td><td>6.80431</td><td>15.7506</td><td>5.54724</td><td>64.4627</td><td>0.100756</td><td>0.0385746</td><td>1.46915</td></tr><tr><th>22</th><td>P117</td><td>6.80431</td><td>15.7506</td><td>5.54724</td><td>64.4627</td><td>0.100756</td><td>0.0385746</td><td>1.46915</td></tr><tr><th>23</th><td>P118</td><td>8.41863</td><td>19.6416</td><td>7.62555</td><td>74.8067</td><td>0.120167</td><td>0.0413075</td><td>1.63959</td></tr><tr><th>24</th><td>P12</td><td>7.44864</td><td>17.2661</td><td>6.29013</td><td>68.8278</td><td>0.109509</td><td>0.0403151</td><td>2.14316</td></tr><tr><th>25</th><td>P120</td><td>9.81549</td><td>22.2493</td><td>9.89401</td><td>84.8452</td><td>0.137409</td><td>0.0447539</td><td>2.04555</td></tr><tr><th>26</th><td>P120</td><td>9.81549</td><td>22.2493</td><td>9.89401</td><td>84.8452</td><td>0.137409</td><td>0.0447539</td><td>2.04555</td></tr><tr><th>27</th><td>P122</td><td>8.41931</td><td>19.6415</td><td>7.62849</td><td>74.8121</td><td>0.120173</td><td>0.0413565</td><td>1.63945</td></tr><tr><th>28</th><td>P122</td><td>8.41931</td><td>19.6415</td><td>7.62849</td><td>74.8121</td><td>0.120173</td><td>0.0413565</td><td>1.63945</td></tr><tr><th>29</th><td>P124</td><td>6.80531</td><td>15.7505</td><td>5.5513</td><td>52.4116</td><td>0.100764</td><td>0.0386653</td><td>1.46893</td></tr><tr><th>30</th><td>P124</td><td>6.80531</td><td>15.7505</td><td>5.5513</td><td>52.4116</td><td>0.100764</td><td>0.0386653</td><td>1.46893</td></tr><tr><th>&vellip;</th><td>&vellip;</td><td>&vellip;</td><td>&vellip;</td><td>&vellip;</td><td>&vellip;</td><td>&vellip;</td><td>&vellip;</td><td>&vellip;</td></tr></tbody></table></div>"
      ],
      "text/latex": [
       "\\begin{tabular}{r|ccccccccc}\n",
       "\t& patient\\_ID & cMyct & RelAnp50n & cRelnp50n & Bcl2t & Cycdt & tcRel & RelAnp52n & \\\\\n",
       "\t\\hline\n",
       "\t& String & Float64 & Float64 & Float64 & Float64 & Float64 & Float64 & Float64 & \\\\\n",
       "\t\\hline\n",
       "\t1 & P1 & 6.8052 & 15.7507 & 5.55138 & 64.4694 & 0.100763 & 0.0386653 & 1.46895 & $\\dots$ \\\\\n",
       "\t2 & P100 & 7.44864 & 17.2661 & 6.29013 & 68.8278 & 0.109509 & 0.0403151 & 2.14316 & $\\dots$ \\\\\n",
       "\t3 & P102 & 8.41863 & 19.6416 & 7.62555 & 74.8067 & 0.120167 & 0.0413075 & 1.63959 & $\\dots$ \\\\\n",
       "\t4 & P103 & 6.80517 & 15.7504 & 5.55126 & 88.5857 & 0.100763 & 0.0386653 & 1.46893 & $\\dots$ \\\\\n",
       "\t5 & P104 & 6.80557 & 15.7518 & 5.55172 & 88.5879 & 0.100765 & 0.0386653 & 1.46904 & $\\dots$ \\\\\n",
       "\t6 & P104 & 6.80557 & 15.7518 & 5.55172 & 88.5879 & 0.100765 & 0.0386653 & 1.46904 & $\\dots$ \\\\\n",
       "\t7 & P105 & 10.4545 & 24.1281 & 10.4518 & 88.2749 & 0.144238 & 0.0441876 & 1.85993 & $\\dots$ \\\\\n",
       "\t8 & P105 & 10.4545 & 24.1281 & 10.4518 & 88.2749 & 0.144238 & 0.0441876 & 1.85993 & $\\dots$ \\\\\n",
       "\t9 & P108 & 8.41863 & 19.6416 & 7.62555 & 74.8067 & 0.120167 & 0.0413075 & 1.63959 & $\\dots$ \\\\\n",
       "\t10 & P109 & 10.4528 & 24.1272 & 10.4453 & 88.2629 & 0.144226 & 0.0440745 & 1.86013 & $\\dots$ \\\\\n",
       "\t11 & P109 & 10.4528 & 24.1272 & 10.4453 & 88.2629 & 0.144226 & 0.0440745 & 1.86013 & $\\dots$ \\\\\n",
       "\t12 & P110 & 6.8052 & 15.7507 & 5.55138 & 64.4694 & 0.100763 & 0.0386653 & 1.46895 & $\\dots$ \\\\\n",
       "\t13 & P111 & 6.80587 & 15.751 & 5.55325 & 64.4738 & 0.100768 & 0.0386937 & 1.46889 & $\\dots$ \\\\\n",
       "\t14 & P111 & 6.80587 & 15.751 & 5.55325 & 64.4738 & 0.100768 & 0.0386937 & 1.46889 & $\\dots$ \\\\\n",
       "\t15 & P112 & 10.4532 & 24.1287 & 10.4459 & 88.2643 & 0.144227 & 0.0440746 & 1.86023 & $\\dots$ \\\\\n",
       "\t16 & P112 & 10.4532 & 24.1287 & 10.4459 & 88.2643 & 0.144227 & 0.0440746 & 1.86023 & $\\dots$ \\\\\n",
       "\t17 & P113 & 8.41863 & 19.6416 & 7.62555 & 74.8067 & 0.120167 & 0.0413075 & 1.63959 & $\\dots$ \\\\\n",
       "\t18 & P115 & 10.4532 & 24.1287 & 10.4459 & 88.2643 & 0.144227 & 0.0440746 & 1.86023 & $\\dots$ \\\\\n",
       "\t19 & P115 & 10.4532 & 24.1287 & 10.4459 & 88.2643 & 0.144227 & 0.0440746 & 1.86023 & $\\dots$ \\\\\n",
       "\t20 & P116 & 8.41863 & 19.6416 & 7.62555 & 74.8067 & 0.120167 & 0.0413075 & 1.63959 & $\\dots$ \\\\\n",
       "\t21 & P117 & 6.80431 & 15.7506 & 5.54724 & 64.4627 & 0.100756 & 0.0385746 & 1.46915 & $\\dots$ \\\\\n",
       "\t22 & P117 & 6.80431 & 15.7506 & 5.54724 & 64.4627 & 0.100756 & 0.0385746 & 1.46915 & $\\dots$ \\\\\n",
       "\t23 & P118 & 8.41863 & 19.6416 & 7.62555 & 74.8067 & 0.120167 & 0.0413075 & 1.63959 & $\\dots$ \\\\\n",
       "\t24 & P12 & 7.44864 & 17.2661 & 6.29013 & 68.8278 & 0.109509 & 0.0403151 & 2.14316 & $\\dots$ \\\\\n",
       "\t25 & P120 & 9.81549 & 22.2493 & 9.89401 & 84.8452 & 0.137409 & 0.0447539 & 2.04555 & $\\dots$ \\\\\n",
       "\t26 & P120 & 9.81549 & 22.2493 & 9.89401 & 84.8452 & 0.137409 & 0.0447539 & 2.04555 & $\\dots$ \\\\\n",
       "\t27 & P122 & 8.41931 & 19.6415 & 7.62849 & 74.8121 & 0.120173 & 0.0413565 & 1.63945 & $\\dots$ \\\\\n",
       "\t28 & P122 & 8.41931 & 19.6415 & 7.62849 & 74.8121 & 0.120173 & 0.0413565 & 1.63945 & $\\dots$ \\\\\n",
       "\t29 & P124 & 6.80531 & 15.7505 & 5.5513 & 52.4116 & 0.100764 & 0.0386653 & 1.46893 & $\\dots$ \\\\\n",
       "\t30 & P124 & 6.80531 & 15.7505 & 5.5513 & 52.4116 & 0.100764 & 0.0386653 & 1.46893 & $\\dots$ \\\\\n",
       "\t$\\dots$ & $\\dots$ & $\\dots$ & $\\dots$ & $\\dots$ & $\\dots$ & $\\dots$ & $\\dots$ & $\\dots$ &  \\\\\n",
       "\\end{tabular}\n"
      ],
      "text/plain": [
       "\u001b[1m811×195 DataFrame\u001b[0m\n",
       "\u001b[1m Row \u001b[0m│\u001b[1m patient_ID \u001b[0m\u001b[1m cMyct    \u001b[0m\u001b[1m RelAnp50n \u001b[0m\u001b[1m cRelnp50n \u001b[0m\u001b[1m Bcl2t    \u001b[0m\u001b[1m Cycdt    \u001b[0m\u001b[1m tcRel  \u001b[0m ⋯\n",
       "\u001b[1m     \u001b[0m│\u001b[90m String     \u001b[0m\u001b[90m Float64  \u001b[0m\u001b[90m Float64   \u001b[0m\u001b[90m Float64   \u001b[0m\u001b[90m Float64  \u001b[0m\u001b[90m Float64  \u001b[0m\u001b[90m Float64\u001b[0m ⋯\n",
       "─────┼──────────────────────────────────────────────────────────────────────────\n",
       "   1 │ P1           6.8052     15.7507    5.55138   64.4694  0.100763  0.03866 ⋯\n",
       "   2 │ P100         7.44864    17.2661    6.29013   68.8278  0.109509  0.04031\n",
       "   3 │ P102         8.41863    19.6416    7.62555   74.8067  0.120167  0.04130\n",
       "   4 │ P103         6.80517    15.7504    5.55126   88.5857  0.100763  0.03866\n",
       "   5 │ P104         6.80557    15.7518    5.55172   88.5879  0.100765  0.03866 ⋯\n",
       "   6 │ P104         6.80557    15.7518    5.55172   88.5879  0.100765  0.03866\n",
       "   7 │ P105        10.4545     24.1281   10.4518    88.2749  0.144238  0.04418\n",
       "   8 │ P105        10.4545     24.1281   10.4518    88.2749  0.144238  0.04418\n",
       "   9 │ P108         8.41863    19.6416    7.62555   74.8067  0.120167  0.04130 ⋯\n",
       "  10 │ P109        10.4528     24.1272   10.4453    88.2629  0.144226  0.04407\n",
       "  11 │ P109        10.4528     24.1272   10.4453    88.2629  0.144226  0.04407\n",
       "  ⋮  │     ⋮          ⋮          ⋮          ⋮         ⋮         ⋮          ⋮   ⋱\n",
       " 802 │ P924         9.39685    21.8112    8.75125   81.5455  0.13338   0.04295\n",
       " 803 │ P93          6.8052     15.7507    5.55138   64.4694  0.100763  0.03866 ⋯\n",
       " 804 │ P94          7.44864    17.2661    6.29013   68.8278  0.109509  0.04031\n",
       " 805 │ P95         10.4458     24.1278   10.3932   178.19    0.144185  0.03965\n",
       " 806 │ P95         10.4458     24.1278   10.3932   178.19    0.144185  0.03965\n",
       " 807 │ P96          7.44875    17.2663    6.29044   68.8285  0.10951   0.04032 ⋯\n",
       " 808 │ P96          7.44875    17.2663    6.29044   68.8285  0.10951   0.04032\n",
       " 809 │ P97          6.80517    15.7504    5.55126   88.5857  0.100763  0.03866\n",
       " 810 │ P98          6.8052     15.7507    5.55138   64.4694  0.100763  0.03866\n",
       " 811 │ P99          6.80517    15.7504    5.55126   88.5857  0.100763  0.03866 ⋯\n",
       "\u001b[36m                                                189 columns and 790 rows omitted\u001b[0m"
      ]
     },
     "execution_count": 46,
     "metadata": {},
     "output_type": "execute_result"
    }
   ],
   "source": [
    "sort!(C2_strict_6h, :patient_ID)"
   ]
  },
  {
   "cell_type": "code",
   "execution_count": 72,
   "id": "89ad56b9",
   "metadata": {},
   "outputs": [
    {
     "data": {
      "text/plain": [
       "1-element Vector{String7}:\n",
       " \"P46\""
      ]
     },
     "execution_count": 72,
     "metadata": {},
     "output_type": "execute_result"
    }
   ],
   "source": [
    "setdiff!(C2_single_strict.PID, C2_strict_single_6h.patient_ID)"
   ]
  },
  {
   "cell_type": "code",
   "execution_count": 51,
   "id": "627f61ba",
   "metadata": {},
   "outputs": [
    {
     "data": {
      "text/html": [
       "<div class=\"data-frame\"><p>1 rows × 6 columns</p><table class=\"data-frame\"><thead><tr><th></th><th>PID</th><th>Gene</th><th>Alt</th><th>Param</th><th>Amount</th><th>ParamAmount</th></tr><tr><th></th><th title=\"String7\">String7</th><th title=\"String15\">String15</th><th title=\"String31\">String31</th><th title=\"String31\">String31</th><th title=\"Float64\">Float64</th><th title=\"String\">String</th></tr></thead><tbody><tr><th>1</th><td>P46</td><td>PRDM1</td><td>PRDM1:N172fs*17</td><td>k1_s_Blimp1-differentiation</td><td>0.5</td><td>k1_s_Blimp1-differentiation_0.5</td></tr></tbody></table></div>"
      ],
      "text/latex": [
       "\\begin{tabular}{r|cccccc}\n",
       "\t& PID & Gene & Alt & Param & Amount & ParamAmount\\\\\n",
       "\t\\hline\n",
       "\t& String7 & String15 & String31 & String31 & Float64 & String\\\\\n",
       "\t\\hline\n",
       "\t1 & P46 & PRDM1 & PRDM1:N172fs*17 & k1\\_s\\_Blimp1-differentiation & 0.5 & k1\\_s\\_Blimp1-differentiation\\_0.5 \\\\\n",
       "\\end{tabular}\n"
      ],
      "text/plain": [
       "\u001b[1m1×6 DataFrame\u001b[0m\n",
       "\u001b[1m Row \u001b[0m│\u001b[1m PID     \u001b[0m\u001b[1m Gene     \u001b[0m\u001b[1m Alt             \u001b[0m\u001b[1m Param                       \u001b[0m\u001b[1m Amount\u001b[0m ⋯\n",
       "\u001b[1m     \u001b[0m│\u001b[90m String7 \u001b[0m\u001b[90m String15 \u001b[0m\u001b[90m String31        \u001b[0m\u001b[90m String31                    \u001b[0m\u001b[90m Float6\u001b[0m ⋯\n",
       "─────┼──────────────────────────────────────────────────────────────────────────\n",
       "   1 │ P46      PRDM1     PRDM1:N172fs*17  k1_s_Blimp1-differentiation      0. ⋯\n",
       "\u001b[36m                                                               2 columns omitted\u001b[0m"
      ]
     },
     "execution_count": 51,
     "metadata": {},
     "output_type": "execute_result"
    }
   ],
   "source": [
    "C2_single_strict[(C2_single_strict.PID .== \"P46\"),:]"
   ]
  },
  {
   "cell_type": "code",
   "execution_count": 77,
   "id": "d2c9affa",
   "metadata": {},
   "outputs": [
    {
     "data": {
      "text/html": [
       "<div class=\"data-frame\"><p>1 rows × 195 columns (omitted printing of 189 columns)</p><table class=\"data-frame\"><thead><tr><th></th><th>patient_ID</th><th>cMyct</th><th>RelAnp50n</th><th>cRelnp50n</th><th>Bcl2t</th><th>Cycdt</th></tr><tr><th></th><th title=\"String\">String</th><th title=\"Float64\">Float64</th><th title=\"Float64\">Float64</th><th title=\"Float64\">Float64</th><th title=\"Float64\">Float64</th><th title=\"Float64\">Float64</th></tr></thead><tbody><tr><th>1</th><td>k1_s_Blimp1-differentiation_0.5</td><td>6.80562</td><td>15.7503</td><td>5.55301</td><td>64.4727</td><td>0.100766</td></tr></tbody></table></div>"
      ],
      "text/latex": [
       "\\begin{tabular}{r|ccccccc}\n",
       "\t& patient\\_ID & cMyct & RelAnp50n & cRelnp50n & Bcl2t & Cycdt & \\\\\n",
       "\t\\hline\n",
       "\t& String & Float64 & Float64 & Float64 & Float64 & Float64 & \\\\\n",
       "\t\\hline\n",
       "\t1 & k1\\_s\\_Blimp1-differentiation\\_0.5 & 6.80562 & 15.7503 & 5.55301 & 64.4727 & 0.100766 & $\\dots$ \\\\\n",
       "\\end{tabular}\n"
      ],
      "text/plain": [
       "\u001b[1m1×195 DataFrame\u001b[0m\n",
       "\u001b[1m Row \u001b[0m│\u001b[1m patient_ID                      \u001b[0m\u001b[1m cMyct   \u001b[0m\u001b[1m RelAnp50n \u001b[0m\u001b[1m cRelnp50n \u001b[0m\u001b[1m Bcl2t  \u001b[0m ⋯\n",
       "\u001b[1m     \u001b[0m│\u001b[90m String                          \u001b[0m\u001b[90m Float64 \u001b[0m\u001b[90m Float64   \u001b[0m\u001b[90m Float64   \u001b[0m\u001b[90m Float64\u001b[0m ⋯\n",
       "─────┼──────────────────────────────────────────────────────────────────────────\n",
       "   1 │ k1_s_Blimp1-differentiation_0.5  6.80562    15.7503    5.55301  64.4727 ⋯\n",
       "\u001b[36m                                                             190 columns omitted\u001b[0m"
      ]
     },
     "execution_count": 77,
     "metadata": {},
     "output_type": "execute_result"
    }
   ],
   "source": [
    "P46 = DataFrame(C2_single_6hrdf[(C2_single_6hrdf.patient_ID .== \"k1_s_Blimp1-differentiation_0.5\"),:])"
   ]
  },
  {
   "cell_type": "code",
   "execution_count": 79,
   "id": "a88b2643",
   "metadata": {},
   "outputs": [
    {
     "data": {
      "text/plain": [
       "1-element Vector{String}:\n",
       " \"P46\""
      ]
     },
     "execution_count": 79,
     "metadata": {},
     "output_type": "execute_result"
    }
   ],
   "source": [
    "P46.patient_ID .= \"P46\""
   ]
  },
  {
   "cell_type": "code",
   "execution_count": 80,
   "id": "f4a4b42b",
   "metadata": {},
   "outputs": [
    {
     "data": {
      "text/html": [
       "<div class=\"data-frame\"><p>1 rows × 195 columns (omitted printing of 187 columns)</p><table class=\"data-frame\"><thead><tr><th></th><th>patient_ID</th><th>cMyct</th><th>RelAnp50n</th><th>cRelnp50n</th><th>Bcl2t</th><th>Cycdt</th><th>tcRel</th><th>RelAnp52n</th></tr><tr><th></th><th title=\"String\">String</th><th title=\"Float64\">Float64</th><th title=\"Float64\">Float64</th><th title=\"Float64\">Float64</th><th title=\"Float64\">Float64</th><th title=\"Float64\">Float64</th><th title=\"Float64\">Float64</th><th title=\"Float64\">Float64</th></tr></thead><tbody><tr><th>1</th><td>P46</td><td>6.80562</td><td>15.7503</td><td>5.55301</td><td>64.4727</td><td>0.100766</td><td>0.0386937</td><td>1.46884</td></tr></tbody></table></div>"
      ],
      "text/latex": [
       "\\begin{tabular}{r|ccccccccc}\n",
       "\t& patient\\_ID & cMyct & RelAnp50n & cRelnp50n & Bcl2t & Cycdt & tcRel & RelAnp52n & \\\\\n",
       "\t\\hline\n",
       "\t& String & Float64 & Float64 & Float64 & Float64 & Float64 & Float64 & Float64 & \\\\\n",
       "\t\\hline\n",
       "\t1 & P46 & 6.80562 & 15.7503 & 5.55301 & 64.4727 & 0.100766 & 0.0386937 & 1.46884 & $\\dots$ \\\\\n",
       "\\end{tabular}\n"
      ],
      "text/plain": [
       "\u001b[1m1×195 DataFrame\u001b[0m\n",
       "\u001b[1m Row \u001b[0m│\u001b[1m patient_ID \u001b[0m\u001b[1m cMyct   \u001b[0m\u001b[1m RelAnp50n \u001b[0m\u001b[1m cRelnp50n \u001b[0m\u001b[1m Bcl2t   \u001b[0m\u001b[1m Cycdt    \u001b[0m\u001b[1m tcRel    \u001b[0m ⋯\n",
       "\u001b[1m     \u001b[0m│\u001b[90m String     \u001b[0m\u001b[90m Float64 \u001b[0m\u001b[90m Float64   \u001b[0m\u001b[90m Float64   \u001b[0m\u001b[90m Float64 \u001b[0m\u001b[90m Float64  \u001b[0m\u001b[90m Float64  \u001b[0m ⋯\n",
       "─────┼──────────────────────────────────────────────────────────────────────────\n",
       "   1 │ P46         6.80562    15.7503    5.55301  64.4727  0.100766  0.0386937 ⋯\n",
       "\u001b[36m                                                             188 columns omitted\u001b[0m"
      ]
     },
     "execution_count": 80,
     "metadata": {},
     "output_type": "execute_result"
    }
   ],
   "source": [
    "P46"
   ]
  },
  {
   "cell_type": "code",
   "execution_count": 81,
   "id": "d16437b6",
   "metadata": {
    "scrolled": true
   },
   "outputs": [
    {
     "data": {
      "text/html": [
       "<div class=\"data-frame\"><p>316 rows × 195 columns (omitted printing of 187 columns)</p><table class=\"data-frame\"><thead><tr><th></th><th>patient_ID</th><th>cMyct</th><th>RelAnp50n</th><th>cRelnp50n</th><th>Bcl2t</th><th>Cycdt</th><th>tcRel</th><th>RelAnp52n</th></tr><tr><th></th><th title=\"String\">String</th><th title=\"Float64\">Float64</th><th title=\"Float64\">Float64</th><th title=\"Float64\">Float64</th><th title=\"Float64\">Float64</th><th title=\"Float64\">Float64</th><th title=\"Float64\">Float64</th><th title=\"Float64\">Float64</th></tr></thead><tbody><tr><th>1</th><td>P69</td><td>6.80562</td><td>15.7503</td><td>5.55301</td><td>64.4727</td><td>0.100766</td><td>0.0386937</td><td>1.46884</td></tr><tr><th>2</th><td>P75</td><td>6.80562</td><td>15.7503</td><td>5.55301</td><td>64.4727</td><td>0.100766</td><td>0.0386937</td><td>1.46884</td></tr><tr><th>3</th><td>P216</td><td>6.80562</td><td>15.7503</td><td>5.55301</td><td>64.4727</td><td>0.100766</td><td>0.0386937</td><td>1.46884</td></tr><tr><th>4</th><td>P273</td><td>6.80562</td><td>15.7503</td><td>5.55301</td><td>64.4727</td><td>0.100766</td><td>0.0386937</td><td>1.46884</td></tr><tr><th>5</th><td>P289</td><td>6.80562</td><td>15.7503</td><td>5.55301</td><td>64.4727</td><td>0.100766</td><td>0.0386937</td><td>1.46884</td></tr><tr><th>6</th><td>P340</td><td>6.80562</td><td>15.7503</td><td>5.55301</td><td>64.4727</td><td>0.100766</td><td>0.0386937</td><td>1.46884</td></tr><tr><th>7</th><td>P359</td><td>6.80562</td><td>15.7503</td><td>5.55301</td><td>64.4727</td><td>0.100766</td><td>0.0386937</td><td>1.46884</td></tr><tr><th>8</th><td>P658</td><td>6.80562</td><td>15.7503</td><td>5.55301</td><td>64.4727</td><td>0.100766</td><td>0.0386937</td><td>1.46884</td></tr><tr><th>9</th><td>P712</td><td>6.80562</td><td>15.7503</td><td>5.55301</td><td>64.4727</td><td>0.100766</td><td>0.0386937</td><td>1.46884</td></tr><tr><th>10</th><td>P768</td><td>6.80562</td><td>15.7503</td><td>5.55301</td><td>64.4727</td><td>0.100766</td><td>0.0386937</td><td>1.46884</td></tr><tr><th>11</th><td>P908</td><td>6.80562</td><td>15.7503</td><td>5.55301</td><td>64.4727</td><td>0.100766</td><td>0.0386937</td><td>1.46884</td></tr><tr><th>12</th><td>P914</td><td>6.80562</td><td>15.7503</td><td>5.55301</td><td>64.4727</td><td>0.100766</td><td>0.0386937</td><td>1.46884</td></tr><tr><th>13</th><td>P920</td><td>6.80562</td><td>15.7503</td><td>5.55301</td><td>64.4727</td><td>0.100766</td><td>0.0386937</td><td>1.46884</td></tr><tr><th>14</th><td>P325</td><td>6.80562</td><td>15.7503</td><td>5.55301</td><td>64.4727</td><td>0.100766</td><td>0.0386937</td><td>1.46884</td></tr><tr><th>15</th><td>P767</td><td>6.80562</td><td>15.7503</td><td>5.55301</td><td>64.4727</td><td>0.100766</td><td>0.0386937</td><td>1.46884</td></tr><tr><th>16</th><td>P531</td><td>6.80525</td><td>15.7503</td><td>5.55123</td><td>64.4697</td><td>0.100763</td><td>0.0386653</td><td>1.46892</td></tr><tr><th>17</th><td>P12</td><td>7.44864</td><td>17.2661</td><td>6.29013</td><td>68.8278</td><td>0.109509</td><td>0.0403151</td><td>2.14316</td></tr><tr><th>18</th><td>P24</td><td>7.44864</td><td>17.2661</td><td>6.29013</td><td>68.8278</td><td>0.109509</td><td>0.0403151</td><td>2.14316</td></tr><tr><th>19</th><td>P94</td><td>7.44864</td><td>17.2661</td><td>6.29013</td><td>68.8278</td><td>0.109509</td><td>0.0403151</td><td>2.14316</td></tr><tr><th>20</th><td>P100</td><td>7.44864</td><td>17.2661</td><td>6.29013</td><td>68.8278</td><td>0.109509</td><td>0.0403151</td><td>2.14316</td></tr><tr><th>21</th><td>P126</td><td>7.44864</td><td>17.2661</td><td>6.29013</td><td>68.8278</td><td>0.109509</td><td>0.0403151</td><td>2.14316</td></tr><tr><th>22</th><td>P145</td><td>7.44864</td><td>17.2661</td><td>6.29013</td><td>68.8278</td><td>0.109509</td><td>0.0403151</td><td>2.14316</td></tr><tr><th>23</th><td>P156</td><td>7.44864</td><td>17.2661</td><td>6.29013</td><td>68.8278</td><td>0.109509</td><td>0.0403151</td><td>2.14316</td></tr><tr><th>24</th><td>P192</td><td>7.44864</td><td>17.2661</td><td>6.29013</td><td>68.8278</td><td>0.109509</td><td>0.0403151</td><td>2.14316</td></tr><tr><th>25</th><td>P199</td><td>7.44864</td><td>17.2661</td><td>6.29013</td><td>68.8278</td><td>0.109509</td><td>0.0403151</td><td>2.14316</td></tr><tr><th>26</th><td>P261</td><td>7.44864</td><td>17.2661</td><td>6.29013</td><td>68.8278</td><td>0.109509</td><td>0.0403151</td><td>2.14316</td></tr><tr><th>27</th><td>P268</td><td>7.44864</td><td>17.2661</td><td>6.29013</td><td>68.8278</td><td>0.109509</td><td>0.0403151</td><td>2.14316</td></tr><tr><th>28</th><td>P358</td><td>7.44864</td><td>17.2661</td><td>6.29013</td><td>68.8278</td><td>0.109509</td><td>0.0403151</td><td>2.14316</td></tr><tr><th>29</th><td>P360</td><td>7.44864</td><td>17.2661</td><td>6.29013</td><td>68.8278</td><td>0.109509</td><td>0.0403151</td><td>2.14316</td></tr><tr><th>30</th><td>P372</td><td>7.44864</td><td>17.2661</td><td>6.29013</td><td>68.8278</td><td>0.109509</td><td>0.0403151</td><td>2.14316</td></tr><tr><th>&vellip;</th><td>&vellip;</td><td>&vellip;</td><td>&vellip;</td><td>&vellip;</td><td>&vellip;</td><td>&vellip;</td><td>&vellip;</td><td>&vellip;</td></tr></tbody></table></div>"
      ],
      "text/latex": [
       "\\begin{tabular}{r|ccccccccc}\n",
       "\t& patient\\_ID & cMyct & RelAnp50n & cRelnp50n & Bcl2t & Cycdt & tcRel & RelAnp52n & \\\\\n",
       "\t\\hline\n",
       "\t& String & Float64 & Float64 & Float64 & Float64 & Float64 & Float64 & Float64 & \\\\\n",
       "\t\\hline\n",
       "\t1 & P69 & 6.80562 & 15.7503 & 5.55301 & 64.4727 & 0.100766 & 0.0386937 & 1.46884 & $\\dots$ \\\\\n",
       "\t2 & P75 & 6.80562 & 15.7503 & 5.55301 & 64.4727 & 0.100766 & 0.0386937 & 1.46884 & $\\dots$ \\\\\n",
       "\t3 & P216 & 6.80562 & 15.7503 & 5.55301 & 64.4727 & 0.100766 & 0.0386937 & 1.46884 & $\\dots$ \\\\\n",
       "\t4 & P273 & 6.80562 & 15.7503 & 5.55301 & 64.4727 & 0.100766 & 0.0386937 & 1.46884 & $\\dots$ \\\\\n",
       "\t5 & P289 & 6.80562 & 15.7503 & 5.55301 & 64.4727 & 0.100766 & 0.0386937 & 1.46884 & $\\dots$ \\\\\n",
       "\t6 & P340 & 6.80562 & 15.7503 & 5.55301 & 64.4727 & 0.100766 & 0.0386937 & 1.46884 & $\\dots$ \\\\\n",
       "\t7 & P359 & 6.80562 & 15.7503 & 5.55301 & 64.4727 & 0.100766 & 0.0386937 & 1.46884 & $\\dots$ \\\\\n",
       "\t8 & P658 & 6.80562 & 15.7503 & 5.55301 & 64.4727 & 0.100766 & 0.0386937 & 1.46884 & $\\dots$ \\\\\n",
       "\t9 & P712 & 6.80562 & 15.7503 & 5.55301 & 64.4727 & 0.100766 & 0.0386937 & 1.46884 & $\\dots$ \\\\\n",
       "\t10 & P768 & 6.80562 & 15.7503 & 5.55301 & 64.4727 & 0.100766 & 0.0386937 & 1.46884 & $\\dots$ \\\\\n",
       "\t11 & P908 & 6.80562 & 15.7503 & 5.55301 & 64.4727 & 0.100766 & 0.0386937 & 1.46884 & $\\dots$ \\\\\n",
       "\t12 & P914 & 6.80562 & 15.7503 & 5.55301 & 64.4727 & 0.100766 & 0.0386937 & 1.46884 & $\\dots$ \\\\\n",
       "\t13 & P920 & 6.80562 & 15.7503 & 5.55301 & 64.4727 & 0.100766 & 0.0386937 & 1.46884 & $\\dots$ \\\\\n",
       "\t14 & P325 & 6.80562 & 15.7503 & 5.55301 & 64.4727 & 0.100766 & 0.0386937 & 1.46884 & $\\dots$ \\\\\n",
       "\t15 & P767 & 6.80562 & 15.7503 & 5.55301 & 64.4727 & 0.100766 & 0.0386937 & 1.46884 & $\\dots$ \\\\\n",
       "\t16 & P531 & 6.80525 & 15.7503 & 5.55123 & 64.4697 & 0.100763 & 0.0386653 & 1.46892 & $\\dots$ \\\\\n",
       "\t17 & P12 & 7.44864 & 17.2661 & 6.29013 & 68.8278 & 0.109509 & 0.0403151 & 2.14316 & $\\dots$ \\\\\n",
       "\t18 & P24 & 7.44864 & 17.2661 & 6.29013 & 68.8278 & 0.109509 & 0.0403151 & 2.14316 & $\\dots$ \\\\\n",
       "\t19 & P94 & 7.44864 & 17.2661 & 6.29013 & 68.8278 & 0.109509 & 0.0403151 & 2.14316 & $\\dots$ \\\\\n",
       "\t20 & P100 & 7.44864 & 17.2661 & 6.29013 & 68.8278 & 0.109509 & 0.0403151 & 2.14316 & $\\dots$ \\\\\n",
       "\t21 & P126 & 7.44864 & 17.2661 & 6.29013 & 68.8278 & 0.109509 & 0.0403151 & 2.14316 & $\\dots$ \\\\\n",
       "\t22 & P145 & 7.44864 & 17.2661 & 6.29013 & 68.8278 & 0.109509 & 0.0403151 & 2.14316 & $\\dots$ \\\\\n",
       "\t23 & P156 & 7.44864 & 17.2661 & 6.29013 & 68.8278 & 0.109509 & 0.0403151 & 2.14316 & $\\dots$ \\\\\n",
       "\t24 & P192 & 7.44864 & 17.2661 & 6.29013 & 68.8278 & 0.109509 & 0.0403151 & 2.14316 & $\\dots$ \\\\\n",
       "\t25 & P199 & 7.44864 & 17.2661 & 6.29013 & 68.8278 & 0.109509 & 0.0403151 & 2.14316 & $\\dots$ \\\\\n",
       "\t26 & P261 & 7.44864 & 17.2661 & 6.29013 & 68.8278 & 0.109509 & 0.0403151 & 2.14316 & $\\dots$ \\\\\n",
       "\t27 & P268 & 7.44864 & 17.2661 & 6.29013 & 68.8278 & 0.109509 & 0.0403151 & 2.14316 & $\\dots$ \\\\\n",
       "\t28 & P358 & 7.44864 & 17.2661 & 6.29013 & 68.8278 & 0.109509 & 0.0403151 & 2.14316 & $\\dots$ \\\\\n",
       "\t29 & P360 & 7.44864 & 17.2661 & 6.29013 & 68.8278 & 0.109509 & 0.0403151 & 2.14316 & $\\dots$ \\\\\n",
       "\t30 & P372 & 7.44864 & 17.2661 & 6.29013 & 68.8278 & 0.109509 & 0.0403151 & 2.14316 & $\\dots$ \\\\\n",
       "\t$\\dots$ & $\\dots$ & $\\dots$ & $\\dots$ & $\\dots$ & $\\dots$ & $\\dots$ & $\\dots$ & $\\dots$ &  \\\\\n",
       "\\end{tabular}\n"
      ],
      "text/plain": [
       "\u001b[1m316×195 DataFrame\u001b[0m\n",
       "\u001b[1m Row \u001b[0m│\u001b[1m patient_ID \u001b[0m\u001b[1m cMyct    \u001b[0m\u001b[1m RelAnp50n \u001b[0m\u001b[1m cRelnp50n \u001b[0m\u001b[1m Bcl2t   \u001b[0m\u001b[1m Cycdt    \u001b[0m\u001b[1m tcRel   \u001b[0m ⋯\n",
       "\u001b[1m     \u001b[0m│\u001b[90m String     \u001b[0m\u001b[90m Float64  \u001b[0m\u001b[90m Float64   \u001b[0m\u001b[90m Float64   \u001b[0m\u001b[90m Float64 \u001b[0m\u001b[90m Float64  \u001b[0m\u001b[90m Float64 \u001b[0m ⋯\n",
       "─────┼──────────────────────────────────────────────────────────────────────────\n",
       "   1 │ P69          6.80562    15.7503    5.55301  64.4727  0.100766  0.038693 ⋯\n",
       "   2 │ P75          6.80562    15.7503    5.55301  64.4727  0.100766  0.038693\n",
       "   3 │ P216         6.80562    15.7503    5.55301  64.4727  0.100766  0.038693\n",
       "   4 │ P273         6.80562    15.7503    5.55301  64.4727  0.100766  0.038693\n",
       "   5 │ P289         6.80562    15.7503    5.55301  64.4727  0.100766  0.038693 ⋯\n",
       "   6 │ P340         6.80562    15.7503    5.55301  64.4727  0.100766  0.038693\n",
       "   7 │ P359         6.80562    15.7503    5.55301  64.4727  0.100766  0.038693\n",
       "   8 │ P658         6.80562    15.7503    5.55301  64.4727  0.100766  0.038693\n",
       "   9 │ P712         6.80562    15.7503    5.55301  64.4727  0.100766  0.038693 ⋯\n",
       "  10 │ P768         6.80562    15.7503    5.55301  64.4727  0.100766  0.038693\n",
       "  11 │ P908         6.80562    15.7503    5.55301  64.4727  0.100766  0.038693\n",
       "  ⋮  │     ⋮          ⋮          ⋮          ⋮         ⋮        ⋮          ⋮    ⋱\n",
       " 307 │ P830         6.8052     15.7507    5.55138  64.4694  0.100763  0.038665\n",
       " 308 │ P841         6.8052     15.7507    5.55138  64.4694  0.100763  0.038665 ⋯\n",
       " 309 │ P869         6.8052     15.7507    5.55138  64.4694  0.100763  0.038665\n",
       " 310 │ P842         6.8052     15.7507    5.55138  64.4694  0.100763  0.038665\n",
       " 311 │ P51          6.80529    15.7503    5.55138  64.47    0.100764  0.038669\n",
       " 312 │ P227        10.2079     15.7503    5.55123  64.4697  0.100763  0.038665 ⋯\n",
       " 313 │ P472        10.2079     15.7503    5.55123  64.4697  0.100763  0.038665\n",
       " 314 │ P607        10.2079     15.7503    5.55123  64.4697  0.100763  0.038665\n",
       " 315 │ P188         6.80539    15.7513    5.55156  64.4702  0.100764  0.038665\n",
       " 316 │ P46          6.80562    15.7503    5.55301  64.4727  0.100766  0.038693 ⋯\n",
       "\u001b[36m                                                189 columns and 295 rows omitted\u001b[0m"
      ]
     },
     "execution_count": 81,
     "metadata": {},
     "output_type": "execute_result"
    }
   ],
   "source": [
    "append!(C2_strict_single_6h, P46)"
   ]
  },
  {
   "cell_type": "code",
   "execution_count": 82,
   "id": "7378f008",
   "metadata": {
    "scrolled": true
   },
   "outputs": [
    {
     "data": {
      "text/plain": [
       "316-element Vector{String}:\n",
       " \"P69\"\n",
       " \"P75\"\n",
       " \"P216\"\n",
       " \"P273\"\n",
       " \"P289\"\n",
       " \"P340\"\n",
       " \"P359\"\n",
       " \"P658\"\n",
       " \"P712\"\n",
       " \"P768\"\n",
       " \"P908\"\n",
       " \"P914\"\n",
       " \"P920\"\n",
       " ⋮\n",
       " \"P798\"\n",
       " \"P824\"\n",
       " \"P830\"\n",
       " \"P841\"\n",
       " \"P869\"\n",
       " \"P842\"\n",
       " \"P51\"\n",
       " \"P227\"\n",
       " \"P472\"\n",
       " \"P607\"\n",
       " \"P188\"\n",
       " \"P46\""
      ]
     },
     "execution_count": 82,
     "metadata": {},
     "output_type": "execute_result"
    }
   ],
   "source": [
    "unique(C2_strict_single_6h.patient_ID)"
   ]
  },
  {
   "cell_type": "code",
   "execution_count": 83,
   "id": "edb7bae3",
   "metadata": {
    "scrolled": true
   },
   "outputs": [
    {
     "data": {
      "text/html": [
       "<div class=\"data-frame\"><p>564 rows × 195 columns (omitted printing of 187 columns)</p><table class=\"data-frame\"><thead><tr><th></th><th>patient_ID</th><th>cMyct</th><th>RelAnp50n</th><th>cRelnp50n</th><th>Bcl2t</th><th>Cycdt</th><th>tcRel</th><th>RelAnp52n</th></tr><tr><th></th><th title=\"String\">String</th><th title=\"Float64\">Float64</th><th title=\"Float64\">Float64</th><th title=\"Float64\">Float64</th><th title=\"Float64\">Float64</th><th title=\"Float64\">Float64</th><th title=\"Float64\">Float64</th><th title=\"Float64\">Float64</th></tr></thead><tbody><tr><th>1</th><td>P104</td><td>6.80557</td><td>15.7518</td><td>5.55172</td><td>88.5879</td><td>0.100765</td><td>0.0386653</td><td>1.46904</td></tr><tr><th>2</th><td>P105</td><td>10.4545</td><td>24.1281</td><td>10.4518</td><td>88.2749</td><td>0.144238</td><td>0.0441876</td><td>1.85993</td></tr><tr><th>3</th><td>P109</td><td>10.4528</td><td>24.1272</td><td>10.4453</td><td>88.2629</td><td>0.144226</td><td>0.0440745</td><td>1.86013</td></tr><tr><th>4</th><td>P111</td><td>6.80587</td><td>15.751</td><td>5.55325</td><td>64.4738</td><td>0.100768</td><td>0.0386937</td><td>1.46889</td></tr><tr><th>5</th><td>P112</td><td>10.4532</td><td>24.1287</td><td>10.4459</td><td>88.2643</td><td>0.144227</td><td>0.0440746</td><td>1.86023</td></tr><tr><th>6</th><td>P115</td><td>10.4532</td><td>24.1287</td><td>10.4459</td><td>88.2643</td><td>0.144227</td><td>0.0440746</td><td>1.86023</td></tr><tr><th>7</th><td>P117</td><td>6.80431</td><td>15.7506</td><td>5.54724</td><td>64.4627</td><td>0.100756</td><td>0.0385746</td><td>1.46915</td></tr><tr><th>8</th><td>P120</td><td>9.81549</td><td>22.2493</td><td>9.89401</td><td>84.8452</td><td>0.137409</td><td>0.0447539</td><td>2.04555</td></tr><tr><th>9</th><td>P122</td><td>8.41931</td><td>19.6415</td><td>7.62849</td><td>74.8121</td><td>0.120173</td><td>0.0413565</td><td>1.63945</td></tr><tr><th>10</th><td>P124</td><td>6.80531</td><td>15.7505</td><td>5.5513</td><td>52.4116</td><td>0.100764</td><td>0.0386653</td><td>1.46893</td></tr><tr><th>11</th><td>P13</td><td>12.6286</td><td>19.6407</td><td>7.62816</td><td>104.098</td><td>0.120172</td><td>0.0413565</td><td>1.63939</td></tr><tr><th>12</th><td>P132</td><td>10.4528</td><td>24.1273</td><td>10.4453</td><td>88.2628</td><td>0.144226</td><td>0.0440745</td><td>1.86013</td></tr><tr><th>13</th><td>P137</td><td>6.8054</td><td>15.7503</td><td>5.55121</td><td>124.762</td><td>0.100764</td><td>0.0386653</td><td>1.46891</td></tr><tr><th>14</th><td>P138</td><td>9.39685</td><td>21.8112</td><td>8.75125</td><td>81.5455</td><td>0.13338</td><td>0.042954</td><td>2.39629</td></tr><tr><th>15</th><td>P14</td><td>8.41836</td><td>19.6405</td><td>7.62512</td><td>104.09</td><td>0.120166</td><td>0.0413075</td><td>1.63951</td></tr><tr><th>16</th><td>P140</td><td>8.41831</td><td>19.641</td><td>7.62531</td><td>74.8058</td><td>0.120167</td><td>0.0413075</td><td>1.63955</td></tr><tr><th>17</th><td>P148</td><td>11.914</td><td>26.6801</td><td>12.9227</td><td>140.588</td><td>0.162428</td><td>0.0470169</td><td>2.29342</td></tr><tr><th>18</th><td>P149</td><td>8.41836</td><td>19.6405</td><td>7.62512</td><td>104.09</td><td>0.120166</td><td>0.0413075</td><td>1.63951</td></tr><tr><th>19</th><td>P151</td><td>6.80562</td><td>15.7508</td><td>5.55317</td><td>64.4727</td><td>0.100766</td><td>0.0386937</td><td>1.46887</td></tr><tr><th>20</th><td>P154</td><td>11.8484</td><td>27.078</td><td>12.1334</td><td>139.157</td><td>0.16309</td><td>0.0456298</td><td>2.7352</td></tr><tr><th>21</th><td>P155</td><td>6.80562</td><td>15.7508</td><td>5.55317</td><td>64.4727</td><td>0.100766</td><td>0.0386937</td><td>1.46887</td></tr><tr><th>22</th><td>P158</td><td>6.80527</td><td>15.7511</td><td>5.5515</td><td>124.761</td><td>0.100763</td><td>0.0386653</td><td>1.46898</td></tr><tr><th>23</th><td>P159</td><td>6.80527</td><td>15.7511</td><td>5.5515</td><td>124.761</td><td>0.100763</td><td>0.0386653</td><td>1.46898</td></tr><tr><th>24</th><td>P16</td><td>7.44887</td><td>17.2665</td><td>6.29026</td><td>68.8289</td><td>0.109511</td><td>0.0403152</td><td>2.14319</td></tr><tr><th>25</th><td>P163</td><td>10.4531</td><td>24.1275</td><td>10.4454</td><td>124.278</td><td>0.144227</td><td>0.0440745</td><td>1.86015</td></tr><tr><th>26</th><td>P169</td><td>6.80527</td><td>15.7511</td><td>5.5515</td><td>124.761</td><td>0.100763</td><td>0.0386653</td><td>1.46898</td></tr><tr><th>27</th><td>P17</td><td>8.41836</td><td>19.6405</td><td>7.62512</td><td>104.09</td><td>0.120166</td><td>0.0413075</td><td>1.63951</td></tr><tr><th>28</th><td>P172</td><td>6.80519</td><td>15.7506</td><td>5.55139</td><td>88.5858</td><td>0.100763</td><td>0.0386699</td><td>1.46894</td></tr><tr><th>29</th><td>P174</td><td>10.4532</td><td>24.1287</td><td>10.4459</td><td>88.2643</td><td>0.144227</td><td>0.0440746</td><td>1.86023</td></tr><tr><th>30</th><td>P184</td><td>11.9141</td><td>26.6798</td><td>12.9226</td><td>99.1385</td><td>0.162429</td><td>0.0470169</td><td>2.29339</td></tr><tr><th>&vellip;</th><td>&vellip;</td><td>&vellip;</td><td>&vellip;</td><td>&vellip;</td><td>&vellip;</td><td>&vellip;</td><td>&vellip;</td><td>&vellip;</td></tr></tbody></table></div>"
      ],
      "text/latex": [
       "\\begin{tabular}{r|ccccccccc}\n",
       "\t& patient\\_ID & cMyct & RelAnp50n & cRelnp50n & Bcl2t & Cycdt & tcRel & RelAnp52n & \\\\\n",
       "\t\\hline\n",
       "\t& String & Float64 & Float64 & Float64 & Float64 & Float64 & Float64 & Float64 & \\\\\n",
       "\t\\hline\n",
       "\t1 & P104 & 6.80557 & 15.7518 & 5.55172 & 88.5879 & 0.100765 & 0.0386653 & 1.46904 & $\\dots$ \\\\\n",
       "\t2 & P105 & 10.4545 & 24.1281 & 10.4518 & 88.2749 & 0.144238 & 0.0441876 & 1.85993 & $\\dots$ \\\\\n",
       "\t3 & P109 & 10.4528 & 24.1272 & 10.4453 & 88.2629 & 0.144226 & 0.0440745 & 1.86013 & $\\dots$ \\\\\n",
       "\t4 & P111 & 6.80587 & 15.751 & 5.55325 & 64.4738 & 0.100768 & 0.0386937 & 1.46889 & $\\dots$ \\\\\n",
       "\t5 & P112 & 10.4532 & 24.1287 & 10.4459 & 88.2643 & 0.144227 & 0.0440746 & 1.86023 & $\\dots$ \\\\\n",
       "\t6 & P115 & 10.4532 & 24.1287 & 10.4459 & 88.2643 & 0.144227 & 0.0440746 & 1.86023 & $\\dots$ \\\\\n",
       "\t7 & P117 & 6.80431 & 15.7506 & 5.54724 & 64.4627 & 0.100756 & 0.0385746 & 1.46915 & $\\dots$ \\\\\n",
       "\t8 & P120 & 9.81549 & 22.2493 & 9.89401 & 84.8452 & 0.137409 & 0.0447539 & 2.04555 & $\\dots$ \\\\\n",
       "\t9 & P122 & 8.41931 & 19.6415 & 7.62849 & 74.8121 & 0.120173 & 0.0413565 & 1.63945 & $\\dots$ \\\\\n",
       "\t10 & P124 & 6.80531 & 15.7505 & 5.5513 & 52.4116 & 0.100764 & 0.0386653 & 1.46893 & $\\dots$ \\\\\n",
       "\t11 & P13 & 12.6286 & 19.6407 & 7.62816 & 104.098 & 0.120172 & 0.0413565 & 1.63939 & $\\dots$ \\\\\n",
       "\t12 & P132 & 10.4528 & 24.1273 & 10.4453 & 88.2628 & 0.144226 & 0.0440745 & 1.86013 & $\\dots$ \\\\\n",
       "\t13 & P137 & 6.8054 & 15.7503 & 5.55121 & 124.762 & 0.100764 & 0.0386653 & 1.46891 & $\\dots$ \\\\\n",
       "\t14 & P138 & 9.39685 & 21.8112 & 8.75125 & 81.5455 & 0.13338 & 0.042954 & 2.39629 & $\\dots$ \\\\\n",
       "\t15 & P14 & 8.41836 & 19.6405 & 7.62512 & 104.09 & 0.120166 & 0.0413075 & 1.63951 & $\\dots$ \\\\\n",
       "\t16 & P140 & 8.41831 & 19.641 & 7.62531 & 74.8058 & 0.120167 & 0.0413075 & 1.63955 & $\\dots$ \\\\\n",
       "\t17 & P148 & 11.914 & 26.6801 & 12.9227 & 140.588 & 0.162428 & 0.0470169 & 2.29342 & $\\dots$ \\\\\n",
       "\t18 & P149 & 8.41836 & 19.6405 & 7.62512 & 104.09 & 0.120166 & 0.0413075 & 1.63951 & $\\dots$ \\\\\n",
       "\t19 & P151 & 6.80562 & 15.7508 & 5.55317 & 64.4727 & 0.100766 & 0.0386937 & 1.46887 & $\\dots$ \\\\\n",
       "\t20 & P154 & 11.8484 & 27.078 & 12.1334 & 139.157 & 0.16309 & 0.0456298 & 2.7352 & $\\dots$ \\\\\n",
       "\t21 & P155 & 6.80562 & 15.7508 & 5.55317 & 64.4727 & 0.100766 & 0.0386937 & 1.46887 & $\\dots$ \\\\\n",
       "\t22 & P158 & 6.80527 & 15.7511 & 5.5515 & 124.761 & 0.100763 & 0.0386653 & 1.46898 & $\\dots$ \\\\\n",
       "\t23 & P159 & 6.80527 & 15.7511 & 5.5515 & 124.761 & 0.100763 & 0.0386653 & 1.46898 & $\\dots$ \\\\\n",
       "\t24 & P16 & 7.44887 & 17.2665 & 6.29026 & 68.8289 & 0.109511 & 0.0403152 & 2.14319 & $\\dots$ \\\\\n",
       "\t25 & P163 & 10.4531 & 24.1275 & 10.4454 & 124.278 & 0.144227 & 0.0440745 & 1.86015 & $\\dots$ \\\\\n",
       "\t26 & P169 & 6.80527 & 15.7511 & 5.5515 & 124.761 & 0.100763 & 0.0386653 & 1.46898 & $\\dots$ \\\\\n",
       "\t27 & P17 & 8.41836 & 19.6405 & 7.62512 & 104.09 & 0.120166 & 0.0413075 & 1.63951 & $\\dots$ \\\\\n",
       "\t28 & P172 & 6.80519 & 15.7506 & 5.55139 & 88.5858 & 0.100763 & 0.0386699 & 1.46894 & $\\dots$ \\\\\n",
       "\t29 & P174 & 10.4532 & 24.1287 & 10.4459 & 88.2643 & 0.144227 & 0.0440746 & 1.86023 & $\\dots$ \\\\\n",
       "\t30 & P184 & 11.9141 & 26.6798 & 12.9226 & 99.1385 & 0.162429 & 0.0470169 & 2.29339 & $\\dots$ \\\\\n",
       "\t$\\dots$ & $\\dots$ & $\\dots$ & $\\dots$ & $\\dots$ & $\\dots$ & $\\dots$ & $\\dots$ & $\\dots$ &  \\\\\n",
       "\\end{tabular}\n"
      ],
      "text/plain": [
       "\u001b[1m564×195 DataFrame\u001b[0m\n",
       "\u001b[1m Row \u001b[0m│\u001b[1m patient_ID \u001b[0m\u001b[1m cMyct    \u001b[0m\u001b[1m RelAnp50n \u001b[0m\u001b[1m cRelnp50n \u001b[0m\u001b[1m Bcl2t    \u001b[0m\u001b[1m Cycdt    \u001b[0m\u001b[1m tcRel  \u001b[0m ⋯\n",
       "\u001b[1m     \u001b[0m│\u001b[90m String     \u001b[0m\u001b[90m Float64  \u001b[0m\u001b[90m Float64   \u001b[0m\u001b[90m Float64   \u001b[0m\u001b[90m Float64  \u001b[0m\u001b[90m Float64  \u001b[0m\u001b[90m Float64\u001b[0m ⋯\n",
       "─────┼──────────────────────────────────────────────────────────────────────────\n",
       "   1 │ P104         6.80557    15.7518    5.55172   88.5879  0.100765  0.03866 ⋯\n",
       "   2 │ P105        10.4545     24.1281   10.4518    88.2749  0.144238  0.04418\n",
       "   3 │ P109        10.4528     24.1272   10.4453    88.2629  0.144226  0.04407\n",
       "   4 │ P111         6.80587    15.751     5.55325   64.4738  0.100768  0.03869\n",
       "   5 │ P112        10.4532     24.1287   10.4459    88.2643  0.144227  0.04407 ⋯\n",
       "   6 │ P115        10.4532     24.1287   10.4459    88.2643  0.144227  0.04407\n",
       "   7 │ P117         6.80431    15.7506    5.54724   64.4627  0.100756  0.03857\n",
       "   8 │ P120         9.81549    22.2493    9.89401   84.8452  0.137409  0.04475\n",
       "   9 │ P122         8.41931    19.6415    7.62849   74.8121  0.120173  0.04135 ⋯\n",
       "  10 │ P124         6.80531    15.7505    5.5513    52.4116  0.100764  0.03866\n",
       "  11 │ P13         12.6286     19.6407    7.62816  104.098   0.120172  0.04135\n",
       "  ⋮  │     ⋮          ⋮          ⋮          ⋮         ⋮         ⋮          ⋮   ⋱\n",
       " 555 │ P830         6.8052     15.7507    5.55138   64.4694  0.100763  0.03866\n",
       " 556 │ P841         6.8052     15.7507    5.55138   64.4694  0.100763  0.03866 ⋯\n",
       " 557 │ P869         6.8052     15.7507    5.55138   64.4694  0.100763  0.03866\n",
       " 558 │ P842         6.8052     15.7507    5.55138   64.4694  0.100763  0.03866\n",
       " 559 │ P51          6.80529    15.7503    5.55138   64.47    0.100764  0.03866\n",
       " 560 │ P227        10.2079     15.7503    5.55123   64.4697  0.100763  0.03866 ⋯\n",
       " 561 │ P472        10.2079     15.7503    5.55123   64.4697  0.100763  0.03866\n",
       " 562 │ P607        10.2079     15.7503    5.55123   64.4697  0.100763  0.03866\n",
       " 563 │ P188         6.80539    15.7513    5.55156   64.4702  0.100764  0.03866\n",
       " 564 │ P46          6.80562    15.7503    5.55301   64.4727  0.100766  0.03869 ⋯\n",
       "\u001b[36m                                                189 columns and 543 rows omitted\u001b[0m"
      ]
     },
     "execution_count": 83,
     "metadata": {},
     "output_type": "execute_result"
    }
   ],
   "source": [
    "C2_strict_all_6h = append!(C2_strict_multi_6h, C2_strict_single_6h)"
   ]
  },
  {
   "cell_type": "code",
   "execution_count": 84,
   "id": "107e3d9b",
   "metadata": {
    "scrolled": true
   },
   "outputs": [
    {
     "data": {
      "text/html": [
       "<div class=\"data-frame\"><p>564 rows × 195 columns (omitted printing of 187 columns)</p><table class=\"data-frame\"><thead><tr><th></th><th>patient_ID</th><th>cMyct</th><th>RelAnp50n</th><th>cRelnp50n</th><th>Bcl2t</th><th>Cycdt</th><th>tcRel</th><th>RelAnp52n</th></tr><tr><th></th><th title=\"String\">String</th><th title=\"Float64\">Float64</th><th title=\"Float64\">Float64</th><th title=\"Float64\">Float64</th><th title=\"Float64\">Float64</th><th title=\"Float64\">Float64</th><th title=\"Float64\">Float64</th><th title=\"Float64\">Float64</th></tr></thead><tbody><tr><th>1</th><td>P1</td><td>6.8052</td><td>15.7507</td><td>5.55138</td><td>64.4694</td><td>0.100763</td><td>0.0386653</td><td>1.46895</td></tr><tr><th>2</th><td>P100</td><td>7.44864</td><td>17.2661</td><td>6.29013</td><td>68.8278</td><td>0.109509</td><td>0.0403151</td><td>2.14316</td></tr><tr><th>3</th><td>P102</td><td>8.41863</td><td>19.6416</td><td>7.62555</td><td>74.8067</td><td>0.120167</td><td>0.0413075</td><td>1.63959</td></tr><tr><th>4</th><td>P103</td><td>6.80517</td><td>15.7504</td><td>5.55126</td><td>88.5857</td><td>0.100763</td><td>0.0386653</td><td>1.46893</td></tr><tr><th>5</th><td>P104</td><td>6.80557</td><td>15.7518</td><td>5.55172</td><td>88.5879</td><td>0.100765</td><td>0.0386653</td><td>1.46904</td></tr><tr><th>6</th><td>P105</td><td>10.4545</td><td>24.1281</td><td>10.4518</td><td>88.2749</td><td>0.144238</td><td>0.0441876</td><td>1.85993</td></tr><tr><th>7</th><td>P108</td><td>8.41863</td><td>19.6416</td><td>7.62555</td><td>74.8067</td><td>0.120167</td><td>0.0413075</td><td>1.63959</td></tr><tr><th>8</th><td>P109</td><td>10.4528</td><td>24.1272</td><td>10.4453</td><td>88.2629</td><td>0.144226</td><td>0.0440745</td><td>1.86013</td></tr><tr><th>9</th><td>P110</td><td>6.8052</td><td>15.7507</td><td>5.55138</td><td>64.4694</td><td>0.100763</td><td>0.0386653</td><td>1.46895</td></tr><tr><th>10</th><td>P111</td><td>6.80587</td><td>15.751</td><td>5.55325</td><td>64.4738</td><td>0.100768</td><td>0.0386937</td><td>1.46889</td></tr><tr><th>11</th><td>P112</td><td>10.4532</td><td>24.1287</td><td>10.4459</td><td>88.2643</td><td>0.144227</td><td>0.0440746</td><td>1.86023</td></tr><tr><th>12</th><td>P113</td><td>8.41863</td><td>19.6416</td><td>7.62555</td><td>74.8067</td><td>0.120167</td><td>0.0413075</td><td>1.63959</td></tr><tr><th>13</th><td>P115</td><td>10.4532</td><td>24.1287</td><td>10.4459</td><td>88.2643</td><td>0.144227</td><td>0.0440746</td><td>1.86023</td></tr><tr><th>14</th><td>P116</td><td>8.41863</td><td>19.6416</td><td>7.62555</td><td>74.8067</td><td>0.120167</td><td>0.0413075</td><td>1.63959</td></tr><tr><th>15</th><td>P117</td><td>6.80431</td><td>15.7506</td><td>5.54724</td><td>64.4627</td><td>0.100756</td><td>0.0385746</td><td>1.46915</td></tr><tr><th>16</th><td>P118</td><td>8.41863</td><td>19.6416</td><td>7.62555</td><td>74.8067</td><td>0.120167</td><td>0.0413075</td><td>1.63959</td></tr><tr><th>17</th><td>P12</td><td>7.44864</td><td>17.2661</td><td>6.29013</td><td>68.8278</td><td>0.109509</td><td>0.0403151</td><td>2.14316</td></tr><tr><th>18</th><td>P120</td><td>9.81549</td><td>22.2493</td><td>9.89401</td><td>84.8452</td><td>0.137409</td><td>0.0447539</td><td>2.04555</td></tr><tr><th>19</th><td>P122</td><td>8.41931</td><td>19.6415</td><td>7.62849</td><td>74.8121</td><td>0.120173</td><td>0.0413565</td><td>1.63945</td></tr><tr><th>20</th><td>P124</td><td>6.80531</td><td>15.7505</td><td>5.5513</td><td>52.4116</td><td>0.100764</td><td>0.0386653</td><td>1.46893</td></tr><tr><th>21</th><td>P126</td><td>7.44864</td><td>17.2661</td><td>6.29013</td><td>68.8278</td><td>0.109509</td><td>0.0403151</td><td>2.14316</td></tr><tr><th>22</th><td>P128</td><td>6.8052</td><td>15.7507</td><td>5.55138</td><td>64.4694</td><td>0.100763</td><td>0.0386653</td><td>1.46895</td></tr><tr><th>23</th><td>P13</td><td>12.6286</td><td>19.6407</td><td>7.62816</td><td>104.098</td><td>0.120172</td><td>0.0413565</td><td>1.63939</td></tr><tr><th>24</th><td>P131</td><td>6.80526</td><td>15.7509</td><td>5.55144</td><td>64.4696</td><td>0.100763</td><td>0.0386653</td><td>1.46897</td></tr><tr><th>25</th><td>P132</td><td>10.4528</td><td>24.1273</td><td>10.4453</td><td>88.2628</td><td>0.144226</td><td>0.0440745</td><td>1.86013</td></tr><tr><th>26</th><td>P133</td><td>8.41863</td><td>19.6416</td><td>7.62555</td><td>74.8067</td><td>0.120167</td><td>0.0413075</td><td>1.63959</td></tr><tr><th>27</th><td>P137</td><td>6.8054</td><td>15.7503</td><td>5.55121</td><td>124.762</td><td>0.100764</td><td>0.0386653</td><td>1.46891</td></tr><tr><th>28</th><td>P138</td><td>9.39685</td><td>21.8112</td><td>8.75125</td><td>81.5455</td><td>0.13338</td><td>0.042954</td><td>2.39629</td></tr><tr><th>29</th><td>P139</td><td>8.41863</td><td>19.6416</td><td>7.62555</td><td>74.8067</td><td>0.120167</td><td>0.0413075</td><td>1.63959</td></tr><tr><th>30</th><td>P14</td><td>8.41836</td><td>19.6405</td><td>7.62512</td><td>104.09</td><td>0.120166</td><td>0.0413075</td><td>1.63951</td></tr><tr><th>&vellip;</th><td>&vellip;</td><td>&vellip;</td><td>&vellip;</td><td>&vellip;</td><td>&vellip;</td><td>&vellip;</td><td>&vellip;</td><td>&vellip;</td></tr></tbody></table></div>"
      ],
      "text/latex": [
       "\\begin{tabular}{r|ccccccccc}\n",
       "\t& patient\\_ID & cMyct & RelAnp50n & cRelnp50n & Bcl2t & Cycdt & tcRel & RelAnp52n & \\\\\n",
       "\t\\hline\n",
       "\t& String & Float64 & Float64 & Float64 & Float64 & Float64 & Float64 & Float64 & \\\\\n",
       "\t\\hline\n",
       "\t1 & P1 & 6.8052 & 15.7507 & 5.55138 & 64.4694 & 0.100763 & 0.0386653 & 1.46895 & $\\dots$ \\\\\n",
       "\t2 & P100 & 7.44864 & 17.2661 & 6.29013 & 68.8278 & 0.109509 & 0.0403151 & 2.14316 & $\\dots$ \\\\\n",
       "\t3 & P102 & 8.41863 & 19.6416 & 7.62555 & 74.8067 & 0.120167 & 0.0413075 & 1.63959 & $\\dots$ \\\\\n",
       "\t4 & P103 & 6.80517 & 15.7504 & 5.55126 & 88.5857 & 0.100763 & 0.0386653 & 1.46893 & $\\dots$ \\\\\n",
       "\t5 & P104 & 6.80557 & 15.7518 & 5.55172 & 88.5879 & 0.100765 & 0.0386653 & 1.46904 & $\\dots$ \\\\\n",
       "\t6 & P105 & 10.4545 & 24.1281 & 10.4518 & 88.2749 & 0.144238 & 0.0441876 & 1.85993 & $\\dots$ \\\\\n",
       "\t7 & P108 & 8.41863 & 19.6416 & 7.62555 & 74.8067 & 0.120167 & 0.0413075 & 1.63959 & $\\dots$ \\\\\n",
       "\t8 & P109 & 10.4528 & 24.1272 & 10.4453 & 88.2629 & 0.144226 & 0.0440745 & 1.86013 & $\\dots$ \\\\\n",
       "\t9 & P110 & 6.8052 & 15.7507 & 5.55138 & 64.4694 & 0.100763 & 0.0386653 & 1.46895 & $\\dots$ \\\\\n",
       "\t10 & P111 & 6.80587 & 15.751 & 5.55325 & 64.4738 & 0.100768 & 0.0386937 & 1.46889 & $\\dots$ \\\\\n",
       "\t11 & P112 & 10.4532 & 24.1287 & 10.4459 & 88.2643 & 0.144227 & 0.0440746 & 1.86023 & $\\dots$ \\\\\n",
       "\t12 & P113 & 8.41863 & 19.6416 & 7.62555 & 74.8067 & 0.120167 & 0.0413075 & 1.63959 & $\\dots$ \\\\\n",
       "\t13 & P115 & 10.4532 & 24.1287 & 10.4459 & 88.2643 & 0.144227 & 0.0440746 & 1.86023 & $\\dots$ \\\\\n",
       "\t14 & P116 & 8.41863 & 19.6416 & 7.62555 & 74.8067 & 0.120167 & 0.0413075 & 1.63959 & $\\dots$ \\\\\n",
       "\t15 & P117 & 6.80431 & 15.7506 & 5.54724 & 64.4627 & 0.100756 & 0.0385746 & 1.46915 & $\\dots$ \\\\\n",
       "\t16 & P118 & 8.41863 & 19.6416 & 7.62555 & 74.8067 & 0.120167 & 0.0413075 & 1.63959 & $\\dots$ \\\\\n",
       "\t17 & P12 & 7.44864 & 17.2661 & 6.29013 & 68.8278 & 0.109509 & 0.0403151 & 2.14316 & $\\dots$ \\\\\n",
       "\t18 & P120 & 9.81549 & 22.2493 & 9.89401 & 84.8452 & 0.137409 & 0.0447539 & 2.04555 & $\\dots$ \\\\\n",
       "\t19 & P122 & 8.41931 & 19.6415 & 7.62849 & 74.8121 & 0.120173 & 0.0413565 & 1.63945 & $\\dots$ \\\\\n",
       "\t20 & P124 & 6.80531 & 15.7505 & 5.5513 & 52.4116 & 0.100764 & 0.0386653 & 1.46893 & $\\dots$ \\\\\n",
       "\t21 & P126 & 7.44864 & 17.2661 & 6.29013 & 68.8278 & 0.109509 & 0.0403151 & 2.14316 & $\\dots$ \\\\\n",
       "\t22 & P128 & 6.8052 & 15.7507 & 5.55138 & 64.4694 & 0.100763 & 0.0386653 & 1.46895 & $\\dots$ \\\\\n",
       "\t23 & P13 & 12.6286 & 19.6407 & 7.62816 & 104.098 & 0.120172 & 0.0413565 & 1.63939 & $\\dots$ \\\\\n",
       "\t24 & P131 & 6.80526 & 15.7509 & 5.55144 & 64.4696 & 0.100763 & 0.0386653 & 1.46897 & $\\dots$ \\\\\n",
       "\t25 & P132 & 10.4528 & 24.1273 & 10.4453 & 88.2628 & 0.144226 & 0.0440745 & 1.86013 & $\\dots$ \\\\\n",
       "\t26 & P133 & 8.41863 & 19.6416 & 7.62555 & 74.8067 & 0.120167 & 0.0413075 & 1.63959 & $\\dots$ \\\\\n",
       "\t27 & P137 & 6.8054 & 15.7503 & 5.55121 & 124.762 & 0.100764 & 0.0386653 & 1.46891 & $\\dots$ \\\\\n",
       "\t28 & P138 & 9.39685 & 21.8112 & 8.75125 & 81.5455 & 0.13338 & 0.042954 & 2.39629 & $\\dots$ \\\\\n",
       "\t29 & P139 & 8.41863 & 19.6416 & 7.62555 & 74.8067 & 0.120167 & 0.0413075 & 1.63959 & $\\dots$ \\\\\n",
       "\t30 & P14 & 8.41836 & 19.6405 & 7.62512 & 104.09 & 0.120166 & 0.0413075 & 1.63951 & $\\dots$ \\\\\n",
       "\t$\\dots$ & $\\dots$ & $\\dots$ & $\\dots$ & $\\dots$ & $\\dots$ & $\\dots$ & $\\dots$ & $\\dots$ &  \\\\\n",
       "\\end{tabular}\n"
      ],
      "text/plain": [
       "\u001b[1m564×195 DataFrame\u001b[0m\n",
       "\u001b[1m Row \u001b[0m│\u001b[1m patient_ID \u001b[0m\u001b[1m cMyct    \u001b[0m\u001b[1m RelAnp50n \u001b[0m\u001b[1m cRelnp50n \u001b[0m\u001b[1m Bcl2t    \u001b[0m\u001b[1m Cycdt    \u001b[0m\u001b[1m tcRel  \u001b[0m ⋯\n",
       "\u001b[1m     \u001b[0m│\u001b[90m String     \u001b[0m\u001b[90m Float64  \u001b[0m\u001b[90m Float64   \u001b[0m\u001b[90m Float64   \u001b[0m\u001b[90m Float64  \u001b[0m\u001b[90m Float64  \u001b[0m\u001b[90m Float64\u001b[0m ⋯\n",
       "─────┼──────────────────────────────────────────────────────────────────────────\n",
       "   1 │ P1           6.8052     15.7507    5.55138   64.4694  0.100763  0.03866 ⋯\n",
       "   2 │ P100         7.44864    17.2661    6.29013   68.8278  0.109509  0.04031\n",
       "   3 │ P102         8.41863    19.6416    7.62555   74.8067  0.120167  0.04130\n",
       "   4 │ P103         6.80517    15.7504    5.55126   88.5857  0.100763  0.03866\n",
       "   5 │ P104         6.80557    15.7518    5.55172   88.5879  0.100765  0.03866 ⋯\n",
       "   6 │ P105        10.4545     24.1281   10.4518    88.2749  0.144238  0.04418\n",
       "   7 │ P108         8.41863    19.6416    7.62555   74.8067  0.120167  0.04130\n",
       "   8 │ P109        10.4528     24.1272   10.4453    88.2629  0.144226  0.04407\n",
       "   9 │ P110         6.8052     15.7507    5.55138   64.4694  0.100763  0.03866 ⋯\n",
       "  10 │ P111         6.80587    15.751     5.55325   64.4738  0.100768  0.03869\n",
       "  11 │ P112        10.4532     24.1287   10.4459    88.2643  0.144227  0.04407\n",
       "  ⋮  │     ⋮          ⋮          ⋮          ⋮         ⋮         ⋮          ⋮   ⋱\n",
       " 555 │ P92          6.8055     15.7516    5.55164   64.4704  0.100764  0.03866\n",
       " 556 │ P920         6.80562    15.7503    5.55301   64.4727  0.100766  0.03869 ⋯\n",
       " 557 │ P924         9.39685    21.8112    8.75125   81.5455  0.13338   0.04295\n",
       " 558 │ P93          6.8052     15.7507    5.55138   64.4694  0.100763  0.03866\n",
       " 559 │ P94          7.44864    17.2661    6.29013   68.8278  0.109509  0.04031\n",
       " 560 │ P95         10.4458     24.1278   10.3932   178.19    0.144185  0.03965 ⋯\n",
       " 561 │ P96          7.44875    17.2663    6.29044   68.8285  0.10951   0.04032\n",
       " 562 │ P97          6.80517    15.7504    5.55126   88.5857  0.100763  0.03866\n",
       " 563 │ P98          6.8052     15.7507    5.55138   64.4694  0.100763  0.03866\n",
       " 564 │ P99          6.80517    15.7504    5.55126   88.5857  0.100763  0.03866 ⋯\n",
       "\u001b[36m                                                189 columns and 543 rows omitted\u001b[0m"
      ]
     },
     "execution_count": 84,
     "metadata": {},
     "output_type": "execute_result"
    }
   ],
   "source": [
    "sort!(C2_strict_all_6h, :patient_ID)"
   ]
  },
  {
   "cell_type": "code",
   "execution_count": 85,
   "id": "211ce09d",
   "metadata": {},
   "outputs": [
    {
     "data": {
      "text/plain": [
       "\"C2_strict_all_6h.csv\""
      ]
     },
     "execution_count": 85,
     "metadata": {},
     "output_type": "execute_result"
    }
   ],
   "source": [
    "CSV.write(\"C2_strict_all_6h.csv\", C2_strict_all_6h)"
   ]
  },
  {
   "cell_type": "code",
   "execution_count": 86,
   "id": "d1aef493",
   "metadata": {
    "scrolled": true
   },
   "outputs": [
    {
     "data": {
      "text/html": [
       "<div class=\"data-frame\"><p>928 rows × 13 columns (omitted printing of 6 columns)</p><table class=\"data-frame\"><thead><tr><th></th><th>PID</th><th>age_gt_60</th><th>IPI</th><th>ICDO3</th><th>rchop_treated</th><th>de_novo</th><th>cluster_AIC</th></tr><tr><th></th><th title=\"String7\">String7</th><th title=\"String3\">String3</th><th title=\"String31\">String31</th><th title=\"String31\">String31</th><th title=\"String3\">String3</th><th title=\"String3\">String3</th><th title=\"String15\">String15</th></tr></thead><tbody><tr><th>1</th><td>P1</td><td>No</td><td>Low</td><td>Diffuse NOS</td><td>Yes</td><td>Yes</td><td>NOTCH2</td></tr><tr><th>2</th><td>P2</td><td>Yes</td><td>Missing</td><td>Diffuse NOS</td><td>No</td><td>Yes</td><td>NEC</td></tr><tr><th>3</th><td>P3</td><td>Yes</td><td>Missing</td><td>Diffuse NOS</td><td>No</td><td>No</td><td>BCL2</td></tr><tr><th>4</th><td>P4</td><td>Yes</td><td>Missing</td><td>Plasmablastic</td><td>No</td><td>Yes</td><td>NEC</td></tr><tr><th>5</th><td>P5</td><td>Yes</td><td>Intermediate/High</td><td>Diffuse NOS</td><td>Yes</td><td>Yes</td><td>NOTCH2</td></tr><tr><th>6</th><td>P6</td><td>Yes</td><td>Low</td><td>Diffuse NOS</td><td>Yes</td><td>Yes</td><td>SOCS1/SGK1</td></tr><tr><th>7</th><td>P7</td><td>Yes</td><td>Low</td><td>Diffuse NOS</td><td>Yes</td><td>Yes</td><td>NEC</td></tr><tr><th>8</th><td>P8</td><td>Yes</td><td>Missing</td><td>Diffuse NOS</td><td>Yes</td><td>No</td><td>NEC</td></tr><tr><th>9</th><td>P9</td><td>Yes</td><td>Low/Intermediate</td><td>Diffuse NOS</td><td>No</td><td>Yes</td><td>MYD88</td></tr><tr><th>10</th><td>P10</td><td>Yes</td><td>High</td><td>Diffuse NOS</td><td>Yes</td><td>Yes</td><td>TET2/SGK1</td></tr><tr><th>11</th><td>P11</td><td>Yes</td><td>Intermediate/High</td><td>Diffuse NOS</td><td>Yes</td><td>Yes</td><td>MYD88</td></tr><tr><th>12</th><td>P12</td><td>Yes</td><td>High</td><td>Diffuse NOS</td><td>Yes</td><td>Yes</td><td>BCL2</td></tr><tr><th>13</th><td>P13</td><td>Yes</td><td>High</td><td>Diffuse NOS</td><td>Yes</td><td>Yes</td><td>NEC</td></tr><tr><th>14</th><td>P14</td><td>No</td><td>Missing</td><td>Diffuse NOS</td><td>Yes</td><td>Yes</td><td>SOCS1/SGK1</td></tr><tr><th>15</th><td>P15</td><td>Yes</td><td>High</td><td>Diffuse NOS</td><td>Yes</td><td>Yes</td><td>NOTCH2</td></tr><tr><th>16</th><td>P16</td><td>Yes</td><td>Intermediate/High</td><td>Diffuse NOS</td><td>Yes</td><td>Yes</td><td>BCL2</td></tr><tr><th>17</th><td>P17</td><td>No</td><td>Low</td><td>Diffuse NOS</td><td>Yes</td><td>Yes</td><td>SOCS1/SGK1</td></tr><tr><th>18</th><td>P18</td><td>Yes</td><td>Intermediate/High</td><td>Diffuse NOS</td><td>No</td><td>Yes</td><td>NEC</td></tr><tr><th>19</th><td>P19</td><td>Yes</td><td>Intermediate/High</td><td>Diffuse NOS</td><td>Yes</td><td>Yes</td><td>BCL2</td></tr><tr><th>20</th><td>P20</td><td>No</td><td>Missing</td><td>Diffuse NOS</td><td>No</td><td>Yes</td><td>NEC</td></tr><tr><th>21</th><td>P21</td><td>No</td><td>Intermediate/High</td><td>Diffuse NOS</td><td>No</td><td>Yes</td><td>BCL2</td></tr><tr><th>22</th><td>P22</td><td>Yes</td><td>Missing</td><td>Diffuse NOS</td><td>Yes</td><td>Yes</td><td>MYD88</td></tr><tr><th>23</th><td>P23</td><td>Yes</td><td>Missing</td><td>Diffuse NOS</td><td>No</td><td>Yes</td><td>NEC</td></tr><tr><th>24</th><td>P24</td><td>Yes</td><td>High</td><td>Diffuse NOS</td><td>No</td><td>Yes</td><td>SOCS1/SGK1</td></tr><tr><th>25</th><td>P25</td><td>Yes</td><td>Intermediate/High</td><td>Diffuse NOS</td><td>Yes</td><td>Yes</td><td>SOCS1/SGK1</td></tr><tr><th>26</th><td>P26</td><td>No</td><td>Low</td><td>Diffuse NOS</td><td>Yes</td><td>Yes</td><td>NEC</td></tr><tr><th>27</th><td>P27</td><td>No</td><td>Low</td><td>Diffuse NOS</td><td>Yes</td><td>Yes</td><td>NEC</td></tr><tr><th>28</th><td>P28</td><td>Yes</td><td>Low/Intermediate</td><td>Diffuse NOS</td><td>Yes</td><td>Yes</td><td>BCL2</td></tr><tr><th>29</th><td>P29</td><td>Yes</td><td>Missing</td><td>Diffuse NOS</td><td>No</td><td>Yes</td><td>MYD88</td></tr><tr><th>30</th><td>P30</td><td>Yes</td><td>Intermediate/High</td><td>Diffuse NOS</td><td>No</td><td>Yes</td><td>MYD88</td></tr><tr><th>&vellip;</th><td>&vellip;</td><td>&vellip;</td><td>&vellip;</td><td>&vellip;</td><td>&vellip;</td><td>&vellip;</td><td>&vellip;</td></tr></tbody></table></div>"
      ],
      "text/latex": [
       "\\begin{tabular}{r|cccccccc}\n",
       "\t& PID & age\\_gt\\_60 & IPI & ICDO3 & rchop\\_treated & de\\_novo & cluster\\_AIC & \\\\\n",
       "\t\\hline\n",
       "\t& String7 & String3 & String31 & String31 & String3 & String3 & String15 & \\\\\n",
       "\t\\hline\n",
       "\t1 & P1 & No & Low & Diffuse NOS & Yes & Yes & NOTCH2 & $\\dots$ \\\\\n",
       "\t2 & P2 & Yes & Missing & Diffuse NOS & No & Yes & NEC & $\\dots$ \\\\\n",
       "\t3 & P3 & Yes & Missing & Diffuse NOS & No & No & BCL2 & $\\dots$ \\\\\n",
       "\t4 & P4 & Yes & Missing & Plasmablastic & No & Yes & NEC & $\\dots$ \\\\\n",
       "\t5 & P5 & Yes & Intermediate/High & Diffuse NOS & Yes & Yes & NOTCH2 & $\\dots$ \\\\\n",
       "\t6 & P6 & Yes & Low & Diffuse NOS & Yes & Yes & SOCS1/SGK1 & $\\dots$ \\\\\n",
       "\t7 & P7 & Yes & Low & Diffuse NOS & Yes & Yes & NEC & $\\dots$ \\\\\n",
       "\t8 & P8 & Yes & Missing & Diffuse NOS & Yes & No & NEC & $\\dots$ \\\\\n",
       "\t9 & P9 & Yes & Low/Intermediate & Diffuse NOS & No & Yes & MYD88 & $\\dots$ \\\\\n",
       "\t10 & P10 & Yes & High & Diffuse NOS & Yes & Yes & TET2/SGK1 & $\\dots$ \\\\\n",
       "\t11 & P11 & Yes & Intermediate/High & Diffuse NOS & Yes & Yes & MYD88 & $\\dots$ \\\\\n",
       "\t12 & P12 & Yes & High & Diffuse NOS & Yes & Yes & BCL2 & $\\dots$ \\\\\n",
       "\t13 & P13 & Yes & High & Diffuse NOS & Yes & Yes & NEC & $\\dots$ \\\\\n",
       "\t14 & P14 & No & Missing & Diffuse NOS & Yes & Yes & SOCS1/SGK1 & $\\dots$ \\\\\n",
       "\t15 & P15 & Yes & High & Diffuse NOS & Yes & Yes & NOTCH2 & $\\dots$ \\\\\n",
       "\t16 & P16 & Yes & Intermediate/High & Diffuse NOS & Yes & Yes & BCL2 & $\\dots$ \\\\\n",
       "\t17 & P17 & No & Low & Diffuse NOS & Yes & Yes & SOCS1/SGK1 & $\\dots$ \\\\\n",
       "\t18 & P18 & Yes & Intermediate/High & Diffuse NOS & No & Yes & NEC & $\\dots$ \\\\\n",
       "\t19 & P19 & Yes & Intermediate/High & Diffuse NOS & Yes & Yes & BCL2 & $\\dots$ \\\\\n",
       "\t20 & P20 & No & Missing & Diffuse NOS & No & Yes & NEC & $\\dots$ \\\\\n",
       "\t21 & P21 & No & Intermediate/High & Diffuse NOS & No & Yes & BCL2 & $\\dots$ \\\\\n",
       "\t22 & P22 & Yes & Missing & Diffuse NOS & Yes & Yes & MYD88 & $\\dots$ \\\\\n",
       "\t23 & P23 & Yes & Missing & Diffuse NOS & No & Yes & NEC & $\\dots$ \\\\\n",
       "\t24 & P24 & Yes & High & Diffuse NOS & No & Yes & SOCS1/SGK1 & $\\dots$ \\\\\n",
       "\t25 & P25 & Yes & Intermediate/High & Diffuse NOS & Yes & Yes & SOCS1/SGK1 & $\\dots$ \\\\\n",
       "\t26 & P26 & No & Low & Diffuse NOS & Yes & Yes & NEC & $\\dots$ \\\\\n",
       "\t27 & P27 & No & Low & Diffuse NOS & Yes & Yes & NEC & $\\dots$ \\\\\n",
       "\t28 & P28 & Yes & Low/Intermediate & Diffuse NOS & Yes & Yes & BCL2 & $\\dots$ \\\\\n",
       "\t29 & P29 & Yes & Missing & Diffuse NOS & No & Yes & MYD88 & $\\dots$ \\\\\n",
       "\t30 & P30 & Yes & Intermediate/High & Diffuse NOS & No & Yes & MYD88 & $\\dots$ \\\\\n",
       "\t$\\dots$ & $\\dots$ & $\\dots$ & $\\dots$ & $\\dots$ & $\\dots$ & $\\dots$ & $\\dots$ &  \\\\\n",
       "\\end{tabular}\n"
      ],
      "text/plain": [
       "\u001b[1m928×13 DataFrame\u001b[0m\n",
       "\u001b[1m Row \u001b[0m│\u001b[1m PID     \u001b[0m\u001b[1m age_gt_60 \u001b[0m\u001b[1m IPI               \u001b[0m\u001b[1m ICDO3                    \u001b[0m\u001b[1m rchop_\u001b[0m ⋯\n",
       "\u001b[1m     \u001b[0m│\u001b[90m String7 \u001b[0m\u001b[90m String3   \u001b[0m\u001b[90m String31          \u001b[0m\u001b[90m String31                 \u001b[0m\u001b[90m String\u001b[0m ⋯\n",
       "─────┼──────────────────────────────────────────────────────────────────────────\n",
       "   1 │ P1       No         Low                Diffuse NOS               Yes    ⋯\n",
       "   2 │ P2       Yes        Missing            Diffuse NOS               No\n",
       "   3 │ P3       Yes        Missing            Diffuse NOS               No\n",
       "   4 │ P4       Yes        Missing            Plasmablastic             No\n",
       "   5 │ P5       Yes        Intermediate/High  Diffuse NOS               Yes    ⋯\n",
       "   6 │ P6       Yes        Low                Diffuse NOS               Yes\n",
       "   7 │ P7       Yes        Low                Diffuse NOS               Yes\n",
       "   8 │ P8       Yes        Missing            Diffuse NOS               Yes\n",
       "   9 │ P9       Yes        Low/Intermediate   Diffuse NOS               No     ⋯\n",
       "  10 │ P10      Yes        High               Diffuse NOS               Yes\n",
       "  11 │ P11      Yes        Intermediate/High  Diffuse NOS               Yes\n",
       "  ⋮  │    ⋮         ⋮              ⋮                     ⋮                     ⋱\n",
       " 919 │ P919     Yes        Intermediate/High  Diffuse NOS               Yes\n",
       " 920 │ P920     No         Low/Intermediate   Primary DLBCL of the CNS  No     ⋯\n",
       " 921 │ P921     Yes        High               T-cell/histiocyte-rich    Yes\n",
       " 922 │ P922     Yes        Missing            Diffuse NOS               No\n",
       " 923 │ P923     No         Missing            Diffuse NOS               Yes\n",
       " 924 │ P924     Yes        High               Diffuse NOS               No     ⋯\n",
       " 925 │ P925     No         Low                Diffuse NOS               Yes\n",
       " 926 │ P926     Yes        Intermediate/High  Diffuse NOS               No\n",
       " 927 │ P927     Yes        High               Diffuse NOS               Yes\n",
       " 928 │ P928     Yes        Missing            Diffuse NOS               No     ⋯\n",
       "\u001b[36m                                                  9 columns and 907 rows omitted\u001b[0m"
      ]
     },
     "execution_count": 86,
     "metadata": {},
     "output_type": "execute_result"
    }
   ],
   "source": [
    "C2_patient_info = DataFrame(CSV.File(\"C2_patient_info.csv\"))"
   ]
  },
  {
   "cell_type": "code",
   "execution_count": 87,
   "id": "20d50af8",
   "metadata": {
    "scrolled": true
   },
   "outputs": [
    {
     "data": {
      "text/html": [
       "<div class=\"data-frame\"><p>564 rows × 13 columns (omitted printing of 6 columns)</p><table class=\"data-frame\"><thead><tr><th></th><th>PID</th><th>age_gt_60</th><th>IPI</th><th>ICDO3</th><th>rchop_treated</th><th>de_novo</th><th>cluster_AIC</th></tr><tr><th></th><th title=\"String7\">String7</th><th title=\"String3\">String3</th><th title=\"String31\">String31</th><th title=\"String31\">String31</th><th title=\"String3\">String3</th><th title=\"String3\">String3</th><th title=\"String15\">String15</th></tr></thead><tbody><tr><th>1</th><td>P1</td><td>No</td><td>Low</td><td>Diffuse NOS</td><td>Yes</td><td>Yes</td><td>NOTCH2</td></tr><tr><th>2</th><td>P2</td><td>Yes</td><td>Missing</td><td>Diffuse NOS</td><td>No</td><td>Yes</td><td>NEC</td></tr><tr><th>3</th><td>P5</td><td>Yes</td><td>Intermediate/High</td><td>Diffuse NOS</td><td>Yes</td><td>Yes</td><td>NOTCH2</td></tr><tr><th>4</th><td>P7</td><td>Yes</td><td>Low</td><td>Diffuse NOS</td><td>Yes</td><td>Yes</td><td>NEC</td></tr><tr><th>5</th><td>P8</td><td>Yes</td><td>Missing</td><td>Diffuse NOS</td><td>Yes</td><td>No</td><td>NEC</td></tr><tr><th>6</th><td>P9</td><td>Yes</td><td>Low/Intermediate</td><td>Diffuse NOS</td><td>No</td><td>Yes</td><td>MYD88</td></tr><tr><th>7</th><td>P12</td><td>Yes</td><td>High</td><td>Diffuse NOS</td><td>Yes</td><td>Yes</td><td>BCL2</td></tr><tr><th>8</th><td>P13</td><td>Yes</td><td>High</td><td>Diffuse NOS</td><td>Yes</td><td>Yes</td><td>NEC</td></tr><tr><th>9</th><td>P14</td><td>No</td><td>Missing</td><td>Diffuse NOS</td><td>Yes</td><td>Yes</td><td>SOCS1/SGK1</td></tr><tr><th>10</th><td>P15</td><td>Yes</td><td>High</td><td>Diffuse NOS</td><td>Yes</td><td>Yes</td><td>NOTCH2</td></tr><tr><th>11</th><td>P16</td><td>Yes</td><td>Intermediate/High</td><td>Diffuse NOS</td><td>Yes</td><td>Yes</td><td>BCL2</td></tr><tr><th>12</th><td>P17</td><td>No</td><td>Low</td><td>Diffuse NOS</td><td>Yes</td><td>Yes</td><td>SOCS1/SGK1</td></tr><tr><th>13</th><td>P19</td><td>Yes</td><td>Intermediate/High</td><td>Diffuse NOS</td><td>Yes</td><td>Yes</td><td>BCL2</td></tr><tr><th>14</th><td>P22</td><td>Yes</td><td>Missing</td><td>Diffuse NOS</td><td>Yes</td><td>Yes</td><td>MYD88</td></tr><tr><th>15</th><td>P24</td><td>Yes</td><td>High</td><td>Diffuse NOS</td><td>No</td><td>Yes</td><td>SOCS1/SGK1</td></tr><tr><th>16</th><td>P29</td><td>Yes</td><td>Missing</td><td>Diffuse NOS</td><td>No</td><td>Yes</td><td>MYD88</td></tr><tr><th>17</th><td>P30</td><td>Yes</td><td>Intermediate/High</td><td>Diffuse NOS</td><td>No</td><td>Yes</td><td>MYD88</td></tr><tr><th>18</th><td>P33</td><td>Yes</td><td>Low/Intermediate</td><td>Diffuse NOS</td><td>Yes</td><td>Yes</td><td>SOCS1/SGK1</td></tr><tr><th>19</th><td>P36</td><td>Yes</td><td>Missing</td><td>Diffuse NOS</td><td>No</td><td>Yes</td><td>NOTCH2</td></tr><tr><th>20</th><td>P38</td><td>Yes</td><td>Missing</td><td>Diffuse NOS</td><td>Yes</td><td>Yes</td><td>NOTCH2</td></tr><tr><th>21</th><td>P39</td><td>No</td><td>Missing</td><td>Diffuse NOS</td><td>No</td><td>Yes</td><td>MYD88</td></tr><tr><th>22</th><td>P40</td><td>No</td><td>Low/Intermediate</td><td>Diffuse NOS</td><td>Yes</td><td>Yes</td><td>BCL2</td></tr><tr><th>23</th><td>P41</td><td>Yes</td><td>Intermediate/High</td><td>Diffuse NOS</td><td>Yes</td><td>Yes</td><td>NEC</td></tr><tr><th>24</th><td>P44</td><td>Yes</td><td>Missing</td><td>Diffuse NOS</td><td>No</td><td>No</td><td>NOTCH2</td></tr><tr><th>25</th><td>P46</td><td>Yes</td><td>High</td><td>Plasmablastic</td><td>No</td><td>Yes</td><td>NEC</td></tr><tr><th>26</th><td>P47</td><td>No</td><td>Low</td><td>Diffuse NOS</td><td>Yes</td><td>Yes</td><td>NEC</td></tr><tr><th>27</th><td>P48</td><td>Yes</td><td>Intermediate/High</td><td>Diffuse NOS</td><td>Yes</td><td>Yes</td><td>BCL2</td></tr><tr><th>28</th><td>P49</td><td>Yes</td><td>Low/Intermediate</td><td>Diffuse NOS</td><td>Yes</td><td>Yes</td><td>SOCS1/SGK1</td></tr><tr><th>29</th><td>P50</td><td>Yes</td><td>Intermediate/High</td><td>Diffuse NOS</td><td>No</td><td>Yes</td><td>MYD88</td></tr><tr><th>30</th><td>P51</td><td>Yes</td><td>Missing</td><td>Diffuse NOS</td><td>No</td><td>Yes</td><td>NEC</td></tr><tr><th>&vellip;</th><td>&vellip;</td><td>&vellip;</td><td>&vellip;</td><td>&vellip;</td><td>&vellip;</td><td>&vellip;</td><td>&vellip;</td></tr></tbody></table></div>"
      ],
      "text/latex": [
       "\\begin{tabular}{r|cccccccc}\n",
       "\t& PID & age\\_gt\\_60 & IPI & ICDO3 & rchop\\_treated & de\\_novo & cluster\\_AIC & \\\\\n",
       "\t\\hline\n",
       "\t& String7 & String3 & String31 & String31 & String3 & String3 & String15 & \\\\\n",
       "\t\\hline\n",
       "\t1 & P1 & No & Low & Diffuse NOS & Yes & Yes & NOTCH2 & $\\dots$ \\\\\n",
       "\t2 & P2 & Yes & Missing & Diffuse NOS & No & Yes & NEC & $\\dots$ \\\\\n",
       "\t3 & P5 & Yes & Intermediate/High & Diffuse NOS & Yes & Yes & NOTCH2 & $\\dots$ \\\\\n",
       "\t4 & P7 & Yes & Low & Diffuse NOS & Yes & Yes & NEC & $\\dots$ \\\\\n",
       "\t5 & P8 & Yes & Missing & Diffuse NOS & Yes & No & NEC & $\\dots$ \\\\\n",
       "\t6 & P9 & Yes & Low/Intermediate & Diffuse NOS & No & Yes & MYD88 & $\\dots$ \\\\\n",
       "\t7 & P12 & Yes & High & Diffuse NOS & Yes & Yes & BCL2 & $\\dots$ \\\\\n",
       "\t8 & P13 & Yes & High & Diffuse NOS & Yes & Yes & NEC & $\\dots$ \\\\\n",
       "\t9 & P14 & No & Missing & Diffuse NOS & Yes & Yes & SOCS1/SGK1 & $\\dots$ \\\\\n",
       "\t10 & P15 & Yes & High & Diffuse NOS & Yes & Yes & NOTCH2 & $\\dots$ \\\\\n",
       "\t11 & P16 & Yes & Intermediate/High & Diffuse NOS & Yes & Yes & BCL2 & $\\dots$ \\\\\n",
       "\t12 & P17 & No & Low & Diffuse NOS & Yes & Yes & SOCS1/SGK1 & $\\dots$ \\\\\n",
       "\t13 & P19 & Yes & Intermediate/High & Diffuse NOS & Yes & Yes & BCL2 & $\\dots$ \\\\\n",
       "\t14 & P22 & Yes & Missing & Diffuse NOS & Yes & Yes & MYD88 & $\\dots$ \\\\\n",
       "\t15 & P24 & Yes & High & Diffuse NOS & No & Yes & SOCS1/SGK1 & $\\dots$ \\\\\n",
       "\t16 & P29 & Yes & Missing & Diffuse NOS & No & Yes & MYD88 & $\\dots$ \\\\\n",
       "\t17 & P30 & Yes & Intermediate/High & Diffuse NOS & No & Yes & MYD88 & $\\dots$ \\\\\n",
       "\t18 & P33 & Yes & Low/Intermediate & Diffuse NOS & Yes & Yes & SOCS1/SGK1 & $\\dots$ \\\\\n",
       "\t19 & P36 & Yes & Missing & Diffuse NOS & No & Yes & NOTCH2 & $\\dots$ \\\\\n",
       "\t20 & P38 & Yes & Missing & Diffuse NOS & Yes & Yes & NOTCH2 & $\\dots$ \\\\\n",
       "\t21 & P39 & No & Missing & Diffuse NOS & No & Yes & MYD88 & $\\dots$ \\\\\n",
       "\t22 & P40 & No & Low/Intermediate & Diffuse NOS & Yes & Yes & BCL2 & $\\dots$ \\\\\n",
       "\t23 & P41 & Yes & Intermediate/High & Diffuse NOS & Yes & Yes & NEC & $\\dots$ \\\\\n",
       "\t24 & P44 & Yes & Missing & Diffuse NOS & No & No & NOTCH2 & $\\dots$ \\\\\n",
       "\t25 & P46 & Yes & High & Plasmablastic & No & Yes & NEC & $\\dots$ \\\\\n",
       "\t26 & P47 & No & Low & Diffuse NOS & Yes & Yes & NEC & $\\dots$ \\\\\n",
       "\t27 & P48 & Yes & Intermediate/High & Diffuse NOS & Yes & Yes & BCL2 & $\\dots$ \\\\\n",
       "\t28 & P49 & Yes & Low/Intermediate & Diffuse NOS & Yes & Yes & SOCS1/SGK1 & $\\dots$ \\\\\n",
       "\t29 & P50 & Yes & Intermediate/High & Diffuse NOS & No & Yes & MYD88 & $\\dots$ \\\\\n",
       "\t30 & P51 & Yes & Missing & Diffuse NOS & No & Yes & NEC & $\\dots$ \\\\\n",
       "\t$\\dots$ & $\\dots$ & $\\dots$ & $\\dots$ & $\\dots$ & $\\dots$ & $\\dots$ & $\\dots$ &  \\\\\n",
       "\\end{tabular}\n"
      ],
      "text/plain": [
       "\u001b[1m564×13 DataFrame\u001b[0m\n",
       "\u001b[1m Row \u001b[0m│\u001b[1m PID     \u001b[0m\u001b[1m age_gt_60 \u001b[0m\u001b[1m IPI               \u001b[0m\u001b[1m ICDO3                    \u001b[0m\u001b[1m rchop_\u001b[0m ⋯\n",
       "\u001b[1m     \u001b[0m│\u001b[90m String7 \u001b[0m\u001b[90m String3   \u001b[0m\u001b[90m String31          \u001b[0m\u001b[90m String31                 \u001b[0m\u001b[90m String\u001b[0m ⋯\n",
       "─────┼──────────────────────────────────────────────────────────────────────────\n",
       "   1 │ P1       No         Low                Diffuse NOS               Yes    ⋯\n",
       "   2 │ P2       Yes        Missing            Diffuse NOS               No\n",
       "   3 │ P5       Yes        Intermediate/High  Diffuse NOS               Yes\n",
       "   4 │ P7       Yes        Low                Diffuse NOS               Yes\n",
       "   5 │ P8       Yes        Missing            Diffuse NOS               Yes    ⋯\n",
       "   6 │ P9       Yes        Low/Intermediate   Diffuse NOS               No\n",
       "   7 │ P12      Yes        High               Diffuse NOS               Yes\n",
       "   8 │ P13      Yes        High               Diffuse NOS               Yes\n",
       "   9 │ P14      No         Missing            Diffuse NOS               Yes    ⋯\n",
       "  10 │ P15      Yes        High               Diffuse NOS               Yes\n",
       "  11 │ P16      Yes        Intermediate/High  Diffuse NOS               Yes\n",
       "  ⋮  │    ⋮         ⋮              ⋮                     ⋮                     ⋱\n",
       " 555 │ P908     Yes        Low/Intermediate   Diffuse NOS               Yes\n",
       " 556 │ P909     Yes        Missing            Diffuse NOS               No     ⋯\n",
       " 557 │ P911     No         Low                Diffuse NOS               Yes\n",
       " 558 │ P912     Yes        Intermediate/High  Diffuse NOS               Yes\n",
       " 559 │ P913     Yes        Missing            Diffuse NOS               Yes\n",
       " 560 │ P914     Yes        Low/Intermediate   Diffuse NOS               Yes    ⋯\n",
       " 561 │ P917     No         Low                Diffuse NOS               Yes\n",
       " 562 │ P918     Yes        High               Diffuse NOS               Yes\n",
       " 563 │ P920     No         Low/Intermediate   Primary DLBCL of the CNS  No\n",
       " 564 │ P924     Yes        High               Diffuse NOS               No     ⋯\n",
       "\u001b[36m                                                  9 columns and 543 rows omitted\u001b[0m"
      ]
     },
     "execution_count": 87,
     "metadata": {},
     "output_type": "execute_result"
    }
   ],
   "source": [
    "C2_strict_pat_info = C2_patient_info[ [x in C2_strict_all_6h.patient_ID for x in C2_patient_info[!, :PID]] ,:]"
   ]
  },
  {
   "cell_type": "code",
   "execution_count": 89,
   "id": "d30ff92b",
   "metadata": {
    "scrolled": true
   },
   "outputs": [
    {
     "data": {
      "text/html": [
       "<div class=\"data-frame\"><p>564 rows × 195 columns (omitted printing of 187 columns)</p><table class=\"data-frame\"><thead><tr><th></th><th>PID</th><th>cMyct</th><th>RelAnp50n</th><th>cRelnp50n</th><th>Bcl2t</th><th>Cycdt</th><th>tcRel</th><th>RelAnp52n</th></tr><tr><th></th><th title=\"String\">String</th><th title=\"Float64\">Float64</th><th title=\"Float64\">Float64</th><th title=\"Float64\">Float64</th><th title=\"Float64\">Float64</th><th title=\"Float64\">Float64</th><th title=\"Float64\">Float64</th><th title=\"Float64\">Float64</th></tr></thead><tbody><tr><th>1</th><td>P1</td><td>6.8052</td><td>15.7507</td><td>5.55138</td><td>64.4694</td><td>0.100763</td><td>0.0386653</td><td>1.46895</td></tr><tr><th>2</th><td>P100</td><td>7.44864</td><td>17.2661</td><td>6.29013</td><td>68.8278</td><td>0.109509</td><td>0.0403151</td><td>2.14316</td></tr><tr><th>3</th><td>P102</td><td>8.41863</td><td>19.6416</td><td>7.62555</td><td>74.8067</td><td>0.120167</td><td>0.0413075</td><td>1.63959</td></tr><tr><th>4</th><td>P103</td><td>6.80517</td><td>15.7504</td><td>5.55126</td><td>88.5857</td><td>0.100763</td><td>0.0386653</td><td>1.46893</td></tr><tr><th>5</th><td>P104</td><td>6.80557</td><td>15.7518</td><td>5.55172</td><td>88.5879</td><td>0.100765</td><td>0.0386653</td><td>1.46904</td></tr><tr><th>6</th><td>P105</td><td>10.4545</td><td>24.1281</td><td>10.4518</td><td>88.2749</td><td>0.144238</td><td>0.0441876</td><td>1.85993</td></tr><tr><th>7</th><td>P108</td><td>8.41863</td><td>19.6416</td><td>7.62555</td><td>74.8067</td><td>0.120167</td><td>0.0413075</td><td>1.63959</td></tr><tr><th>8</th><td>P109</td><td>10.4528</td><td>24.1272</td><td>10.4453</td><td>88.2629</td><td>0.144226</td><td>0.0440745</td><td>1.86013</td></tr><tr><th>9</th><td>P110</td><td>6.8052</td><td>15.7507</td><td>5.55138</td><td>64.4694</td><td>0.100763</td><td>0.0386653</td><td>1.46895</td></tr><tr><th>10</th><td>P111</td><td>6.80587</td><td>15.751</td><td>5.55325</td><td>64.4738</td><td>0.100768</td><td>0.0386937</td><td>1.46889</td></tr><tr><th>11</th><td>P112</td><td>10.4532</td><td>24.1287</td><td>10.4459</td><td>88.2643</td><td>0.144227</td><td>0.0440746</td><td>1.86023</td></tr><tr><th>12</th><td>P113</td><td>8.41863</td><td>19.6416</td><td>7.62555</td><td>74.8067</td><td>0.120167</td><td>0.0413075</td><td>1.63959</td></tr><tr><th>13</th><td>P115</td><td>10.4532</td><td>24.1287</td><td>10.4459</td><td>88.2643</td><td>0.144227</td><td>0.0440746</td><td>1.86023</td></tr><tr><th>14</th><td>P116</td><td>8.41863</td><td>19.6416</td><td>7.62555</td><td>74.8067</td><td>0.120167</td><td>0.0413075</td><td>1.63959</td></tr><tr><th>15</th><td>P117</td><td>6.80431</td><td>15.7506</td><td>5.54724</td><td>64.4627</td><td>0.100756</td><td>0.0385746</td><td>1.46915</td></tr><tr><th>16</th><td>P118</td><td>8.41863</td><td>19.6416</td><td>7.62555</td><td>74.8067</td><td>0.120167</td><td>0.0413075</td><td>1.63959</td></tr><tr><th>17</th><td>P12</td><td>7.44864</td><td>17.2661</td><td>6.29013</td><td>68.8278</td><td>0.109509</td><td>0.0403151</td><td>2.14316</td></tr><tr><th>18</th><td>P120</td><td>9.81549</td><td>22.2493</td><td>9.89401</td><td>84.8452</td><td>0.137409</td><td>0.0447539</td><td>2.04555</td></tr><tr><th>19</th><td>P122</td><td>8.41931</td><td>19.6415</td><td>7.62849</td><td>74.8121</td><td>0.120173</td><td>0.0413565</td><td>1.63945</td></tr><tr><th>20</th><td>P124</td><td>6.80531</td><td>15.7505</td><td>5.5513</td><td>52.4116</td><td>0.100764</td><td>0.0386653</td><td>1.46893</td></tr><tr><th>21</th><td>P126</td><td>7.44864</td><td>17.2661</td><td>6.29013</td><td>68.8278</td><td>0.109509</td><td>0.0403151</td><td>2.14316</td></tr><tr><th>22</th><td>P128</td><td>6.8052</td><td>15.7507</td><td>5.55138</td><td>64.4694</td><td>0.100763</td><td>0.0386653</td><td>1.46895</td></tr><tr><th>23</th><td>P13</td><td>12.6286</td><td>19.6407</td><td>7.62816</td><td>104.098</td><td>0.120172</td><td>0.0413565</td><td>1.63939</td></tr><tr><th>24</th><td>P131</td><td>6.80526</td><td>15.7509</td><td>5.55144</td><td>64.4696</td><td>0.100763</td><td>0.0386653</td><td>1.46897</td></tr><tr><th>25</th><td>P132</td><td>10.4528</td><td>24.1273</td><td>10.4453</td><td>88.2628</td><td>0.144226</td><td>0.0440745</td><td>1.86013</td></tr><tr><th>26</th><td>P133</td><td>8.41863</td><td>19.6416</td><td>7.62555</td><td>74.8067</td><td>0.120167</td><td>0.0413075</td><td>1.63959</td></tr><tr><th>27</th><td>P137</td><td>6.8054</td><td>15.7503</td><td>5.55121</td><td>124.762</td><td>0.100764</td><td>0.0386653</td><td>1.46891</td></tr><tr><th>28</th><td>P138</td><td>9.39685</td><td>21.8112</td><td>8.75125</td><td>81.5455</td><td>0.13338</td><td>0.042954</td><td>2.39629</td></tr><tr><th>29</th><td>P139</td><td>8.41863</td><td>19.6416</td><td>7.62555</td><td>74.8067</td><td>0.120167</td><td>0.0413075</td><td>1.63959</td></tr><tr><th>30</th><td>P14</td><td>8.41836</td><td>19.6405</td><td>7.62512</td><td>104.09</td><td>0.120166</td><td>0.0413075</td><td>1.63951</td></tr><tr><th>&vellip;</th><td>&vellip;</td><td>&vellip;</td><td>&vellip;</td><td>&vellip;</td><td>&vellip;</td><td>&vellip;</td><td>&vellip;</td><td>&vellip;</td></tr></tbody></table></div>"
      ],
      "text/latex": [
       "\\begin{tabular}{r|ccccccccc}\n",
       "\t& PID & cMyct & RelAnp50n & cRelnp50n & Bcl2t & Cycdt & tcRel & RelAnp52n & \\\\\n",
       "\t\\hline\n",
       "\t& String & Float64 & Float64 & Float64 & Float64 & Float64 & Float64 & Float64 & \\\\\n",
       "\t\\hline\n",
       "\t1 & P1 & 6.8052 & 15.7507 & 5.55138 & 64.4694 & 0.100763 & 0.0386653 & 1.46895 & $\\dots$ \\\\\n",
       "\t2 & P100 & 7.44864 & 17.2661 & 6.29013 & 68.8278 & 0.109509 & 0.0403151 & 2.14316 & $\\dots$ \\\\\n",
       "\t3 & P102 & 8.41863 & 19.6416 & 7.62555 & 74.8067 & 0.120167 & 0.0413075 & 1.63959 & $\\dots$ \\\\\n",
       "\t4 & P103 & 6.80517 & 15.7504 & 5.55126 & 88.5857 & 0.100763 & 0.0386653 & 1.46893 & $\\dots$ \\\\\n",
       "\t5 & P104 & 6.80557 & 15.7518 & 5.55172 & 88.5879 & 0.100765 & 0.0386653 & 1.46904 & $\\dots$ \\\\\n",
       "\t6 & P105 & 10.4545 & 24.1281 & 10.4518 & 88.2749 & 0.144238 & 0.0441876 & 1.85993 & $\\dots$ \\\\\n",
       "\t7 & P108 & 8.41863 & 19.6416 & 7.62555 & 74.8067 & 0.120167 & 0.0413075 & 1.63959 & $\\dots$ \\\\\n",
       "\t8 & P109 & 10.4528 & 24.1272 & 10.4453 & 88.2629 & 0.144226 & 0.0440745 & 1.86013 & $\\dots$ \\\\\n",
       "\t9 & P110 & 6.8052 & 15.7507 & 5.55138 & 64.4694 & 0.100763 & 0.0386653 & 1.46895 & $\\dots$ \\\\\n",
       "\t10 & P111 & 6.80587 & 15.751 & 5.55325 & 64.4738 & 0.100768 & 0.0386937 & 1.46889 & $\\dots$ \\\\\n",
       "\t11 & P112 & 10.4532 & 24.1287 & 10.4459 & 88.2643 & 0.144227 & 0.0440746 & 1.86023 & $\\dots$ \\\\\n",
       "\t12 & P113 & 8.41863 & 19.6416 & 7.62555 & 74.8067 & 0.120167 & 0.0413075 & 1.63959 & $\\dots$ \\\\\n",
       "\t13 & P115 & 10.4532 & 24.1287 & 10.4459 & 88.2643 & 0.144227 & 0.0440746 & 1.86023 & $\\dots$ \\\\\n",
       "\t14 & P116 & 8.41863 & 19.6416 & 7.62555 & 74.8067 & 0.120167 & 0.0413075 & 1.63959 & $\\dots$ \\\\\n",
       "\t15 & P117 & 6.80431 & 15.7506 & 5.54724 & 64.4627 & 0.100756 & 0.0385746 & 1.46915 & $\\dots$ \\\\\n",
       "\t16 & P118 & 8.41863 & 19.6416 & 7.62555 & 74.8067 & 0.120167 & 0.0413075 & 1.63959 & $\\dots$ \\\\\n",
       "\t17 & P12 & 7.44864 & 17.2661 & 6.29013 & 68.8278 & 0.109509 & 0.0403151 & 2.14316 & $\\dots$ \\\\\n",
       "\t18 & P120 & 9.81549 & 22.2493 & 9.89401 & 84.8452 & 0.137409 & 0.0447539 & 2.04555 & $\\dots$ \\\\\n",
       "\t19 & P122 & 8.41931 & 19.6415 & 7.62849 & 74.8121 & 0.120173 & 0.0413565 & 1.63945 & $\\dots$ \\\\\n",
       "\t20 & P124 & 6.80531 & 15.7505 & 5.5513 & 52.4116 & 0.100764 & 0.0386653 & 1.46893 & $\\dots$ \\\\\n",
       "\t21 & P126 & 7.44864 & 17.2661 & 6.29013 & 68.8278 & 0.109509 & 0.0403151 & 2.14316 & $\\dots$ \\\\\n",
       "\t22 & P128 & 6.8052 & 15.7507 & 5.55138 & 64.4694 & 0.100763 & 0.0386653 & 1.46895 & $\\dots$ \\\\\n",
       "\t23 & P13 & 12.6286 & 19.6407 & 7.62816 & 104.098 & 0.120172 & 0.0413565 & 1.63939 & $\\dots$ \\\\\n",
       "\t24 & P131 & 6.80526 & 15.7509 & 5.55144 & 64.4696 & 0.100763 & 0.0386653 & 1.46897 & $\\dots$ \\\\\n",
       "\t25 & P132 & 10.4528 & 24.1273 & 10.4453 & 88.2628 & 0.144226 & 0.0440745 & 1.86013 & $\\dots$ \\\\\n",
       "\t26 & P133 & 8.41863 & 19.6416 & 7.62555 & 74.8067 & 0.120167 & 0.0413075 & 1.63959 & $\\dots$ \\\\\n",
       "\t27 & P137 & 6.8054 & 15.7503 & 5.55121 & 124.762 & 0.100764 & 0.0386653 & 1.46891 & $\\dots$ \\\\\n",
       "\t28 & P138 & 9.39685 & 21.8112 & 8.75125 & 81.5455 & 0.13338 & 0.042954 & 2.39629 & $\\dots$ \\\\\n",
       "\t29 & P139 & 8.41863 & 19.6416 & 7.62555 & 74.8067 & 0.120167 & 0.0413075 & 1.63959 & $\\dots$ \\\\\n",
       "\t30 & P14 & 8.41836 & 19.6405 & 7.62512 & 104.09 & 0.120166 & 0.0413075 & 1.63951 & $\\dots$ \\\\\n",
       "\t$\\dots$ & $\\dots$ & $\\dots$ & $\\dots$ & $\\dots$ & $\\dots$ & $\\dots$ & $\\dots$ & $\\dots$ &  \\\\\n",
       "\\end{tabular}\n"
      ],
      "text/plain": [
       "\u001b[1m564×195 DataFrame\u001b[0m\n",
       "\u001b[1m Row \u001b[0m│\u001b[1m PID    \u001b[0m\u001b[1m cMyct    \u001b[0m\u001b[1m RelAnp50n \u001b[0m\u001b[1m cRelnp50n \u001b[0m\u001b[1m Bcl2t    \u001b[0m\u001b[1m Cycdt    \u001b[0m\u001b[1m tcRel     \u001b[0m\u001b[1m \u001b[0m ⋯\n",
       "\u001b[1m     \u001b[0m│\u001b[90m String \u001b[0m\u001b[90m Float64  \u001b[0m\u001b[90m Float64   \u001b[0m\u001b[90m Float64   \u001b[0m\u001b[90m Float64  \u001b[0m\u001b[90m Float64  \u001b[0m\u001b[90m Float64   \u001b[0m\u001b[90m \u001b[0m ⋯\n",
       "─────┼──────────────────────────────────────────────────────────────────────────\n",
       "   1 │ P1       6.8052     15.7507    5.55138   64.4694  0.100763  0.0386653   ⋯\n",
       "   2 │ P100     7.44864    17.2661    6.29013   68.8278  0.109509  0.0403151\n",
       "   3 │ P102     8.41863    19.6416    7.62555   74.8067  0.120167  0.0413075\n",
       "   4 │ P103     6.80517    15.7504    5.55126   88.5857  0.100763  0.0386653\n",
       "   5 │ P104     6.80557    15.7518    5.55172   88.5879  0.100765  0.0386653   ⋯\n",
       "   6 │ P105    10.4545     24.1281   10.4518    88.2749  0.144238  0.0441876\n",
       "   7 │ P108     8.41863    19.6416    7.62555   74.8067  0.120167  0.0413075\n",
       "   8 │ P109    10.4528     24.1272   10.4453    88.2629  0.144226  0.0440745\n",
       "   9 │ P110     6.8052     15.7507    5.55138   64.4694  0.100763  0.0386653   ⋯\n",
       "  10 │ P111     6.80587    15.751     5.55325   64.4738  0.100768  0.0386937\n",
       "  11 │ P112    10.4532     24.1287   10.4459    88.2643  0.144227  0.0440746\n",
       "  ⋮  │   ⋮        ⋮          ⋮          ⋮         ⋮         ⋮          ⋮       ⋱\n",
       " 555 │ P92      6.8055     15.7516    5.55164   64.4704  0.100764  0.0386653\n",
       " 556 │ P920     6.80562    15.7503    5.55301   64.4727  0.100766  0.0386937   ⋯\n",
       " 557 │ P924     9.39685    21.8112    8.75125   81.5455  0.13338   0.042954\n",
       " 558 │ P93      6.8052     15.7507    5.55138   64.4694  0.100763  0.0386653\n",
       " 559 │ P94      7.44864    17.2661    6.29013   68.8278  0.109509  0.0403151\n",
       " 560 │ P95     10.4458     24.1278   10.3932   178.19    0.144185  0.0396551   ⋯\n",
       " 561 │ P96      7.44875    17.2663    6.29044   68.8285  0.10951   0.0403268\n",
       " 562 │ P97      6.80517    15.7504    5.55126   88.5857  0.100763  0.0386653\n",
       " 563 │ P98      6.8052     15.7507    5.55138   64.4694  0.100763  0.0386653\n",
       " 564 │ P99      6.80517    15.7504    5.55126   88.5857  0.100763  0.0386653   ⋯\n",
       "\u001b[36m                                                188 columns and 543 rows omitted\u001b[0m"
      ]
     },
     "execution_count": 89,
     "metadata": {},
     "output_type": "execute_result"
    }
   ],
   "source": [
    "rename!(C2_strict_all_6h, :patient_ID => :PID)"
   ]
  },
  {
   "cell_type": "code",
   "execution_count": 91,
   "id": "920b7bab",
   "metadata": {
    "scrolled": true
   },
   "outputs": [
    {
     "data": {
      "text/html": [
       "<div class=\"data-frame\"><p>564 rows × 207 columns (omitted printing of 202 columns)</p><table class=\"data-frame\"><thead><tr><th></th><th>PID</th><th>age_gt_60</th><th>IPI</th><th>ICDO3</th><th>rchop_treated</th></tr><tr><th></th><th title=\"String7\">String7</th><th title=\"String3\">String3</th><th title=\"String31\">String31</th><th title=\"String31\">String31</th><th title=\"String3\">String3</th></tr></thead><tbody><tr><th>1</th><td>P1</td><td>No</td><td>Low</td><td>Diffuse NOS</td><td>Yes</td></tr><tr><th>2</th><td>P100</td><td>Yes</td><td>Low</td><td>Diffuse NOS</td><td>Yes</td></tr><tr><th>3</th><td>P102</td><td>Yes</td><td>Intermediate/High</td><td>Diffuse NOS</td><td>Yes</td></tr><tr><th>4</th><td>P103</td><td>No</td><td>Low</td><td>Diffuse NOS</td><td>Yes</td></tr><tr><th>5</th><td>P104</td><td>Yes</td><td>High</td><td>Diffuse NOS</td><td>Yes</td></tr><tr><th>6</th><td>P105</td><td>Yes</td><td>Missing</td><td>Diffuse NOS</td><td>Yes</td></tr><tr><th>7</th><td>P108</td><td>Yes</td><td>Missing</td><td>Diffuse NOS</td><td>No</td></tr><tr><th>8</th><td>P109</td><td>Yes</td><td>Missing</td><td>Diffuse NOS</td><td>Yes</td></tr><tr><th>9</th><td>P110</td><td>Yes</td><td>Low/Intermediate</td><td>Diffuse NOS</td><td>Yes</td></tr><tr><th>10</th><td>P111</td><td>Yes</td><td>Low</td><td>Diffuse NOS</td><td>Yes</td></tr><tr><th>11</th><td>P112</td><td>No</td><td>Missing</td><td>Diffuse NOS</td><td>No</td></tr><tr><th>12</th><td>P113</td><td>Yes</td><td>High</td><td>Diffuse NOS</td><td>Yes</td></tr><tr><th>13</th><td>P115</td><td>No</td><td>Low</td><td>Diffuse NOS</td><td>Yes</td></tr><tr><th>14</th><td>P116</td><td>Yes</td><td>Missing</td><td>Diffuse NOS</td><td>Yes</td></tr><tr><th>15</th><td>P117</td><td>Yes</td><td>Missing</td><td>Diffuse NOS</td><td>No</td></tr><tr><th>16</th><td>P118</td><td>Yes</td><td>Missing</td><td>Diffuse NOS</td><td>No</td></tr><tr><th>17</th><td>P12</td><td>Yes</td><td>High</td><td>Diffuse NOS</td><td>Yes</td></tr><tr><th>18</th><td>P120</td><td>No</td><td>Low</td><td>Diffuse NOS</td><td>Yes</td></tr><tr><th>19</th><td>P122</td><td>Yes</td><td>Missing</td><td>Diffuse NOS</td><td>No</td></tr><tr><th>20</th><td>P124</td><td>No</td><td>Low</td><td>Diffuse NOS</td><td>Yes</td></tr><tr><th>21</th><td>P126</td><td>Yes</td><td>Low</td><td>Primary mediastinal (thymic)</td><td>Yes</td></tr><tr><th>22</th><td>P128</td><td>Yes</td><td>Missing</td><td>Diffuse NOS</td><td>Yes</td></tr><tr><th>23</th><td>P13</td><td>Yes</td><td>High</td><td>Diffuse NOS</td><td>Yes</td></tr><tr><th>24</th><td>P131</td><td>No</td><td>Low</td><td>Diffuse NOS</td><td>Yes</td></tr><tr><th>25</th><td>P132</td><td>Yes</td><td>Missing</td><td>Diffuse NOS</td><td>No</td></tr><tr><th>26</th><td>P133</td><td>Yes</td><td>Low</td><td>Diffuse NOS</td><td>No</td></tr><tr><th>27</th><td>P137</td><td>Yes</td><td>Intermediate/High</td><td>Diffuse NOS</td><td>Yes</td></tr><tr><th>28</th><td>P138</td><td>Yes</td><td>Intermediate/High</td><td>Diffuse NOS</td><td>No</td></tr><tr><th>29</th><td>P139</td><td>Yes</td><td>Low</td><td>Diffuse NOS</td><td>No</td></tr><tr><th>30</th><td>P14</td><td>No</td><td>Missing</td><td>Diffuse NOS</td><td>Yes</td></tr><tr><th>&vellip;</th><td>&vellip;</td><td>&vellip;</td><td>&vellip;</td><td>&vellip;</td><td>&vellip;</td></tr></tbody></table></div>"
      ],
      "text/latex": [
       "\\begin{tabular}{r|cccccc}\n",
       "\t& PID & age\\_gt\\_60 & IPI & ICDO3 & rchop\\_treated & \\\\\n",
       "\t\\hline\n",
       "\t& String7 & String3 & String31 & String31 & String3 & \\\\\n",
       "\t\\hline\n",
       "\t1 & P1 & No & Low & Diffuse NOS & Yes & $\\dots$ \\\\\n",
       "\t2 & P100 & Yes & Low & Diffuse NOS & Yes & $\\dots$ \\\\\n",
       "\t3 & P102 & Yes & Intermediate/High & Diffuse NOS & Yes & $\\dots$ \\\\\n",
       "\t4 & P103 & No & Low & Diffuse NOS & Yes & $\\dots$ \\\\\n",
       "\t5 & P104 & Yes & High & Diffuse NOS & Yes & $\\dots$ \\\\\n",
       "\t6 & P105 & Yes & Missing & Diffuse NOS & Yes & $\\dots$ \\\\\n",
       "\t7 & P108 & Yes & Missing & Diffuse NOS & No & $\\dots$ \\\\\n",
       "\t8 & P109 & Yes & Missing & Diffuse NOS & Yes & $\\dots$ \\\\\n",
       "\t9 & P110 & Yes & Low/Intermediate & Diffuse NOS & Yes & $\\dots$ \\\\\n",
       "\t10 & P111 & Yes & Low & Diffuse NOS & Yes & $\\dots$ \\\\\n",
       "\t11 & P112 & No & Missing & Diffuse NOS & No & $\\dots$ \\\\\n",
       "\t12 & P113 & Yes & High & Diffuse NOS & Yes & $\\dots$ \\\\\n",
       "\t13 & P115 & No & Low & Diffuse NOS & Yes & $\\dots$ \\\\\n",
       "\t14 & P116 & Yes & Missing & Diffuse NOS & Yes & $\\dots$ \\\\\n",
       "\t15 & P117 & Yes & Missing & Diffuse NOS & No & $\\dots$ \\\\\n",
       "\t16 & P118 & Yes & Missing & Diffuse NOS & No & $\\dots$ \\\\\n",
       "\t17 & P12 & Yes & High & Diffuse NOS & Yes & $\\dots$ \\\\\n",
       "\t18 & P120 & No & Low & Diffuse NOS & Yes & $\\dots$ \\\\\n",
       "\t19 & P122 & Yes & Missing & Diffuse NOS & No & $\\dots$ \\\\\n",
       "\t20 & P124 & No & Low & Diffuse NOS & Yes & $\\dots$ \\\\\n",
       "\t21 & P126 & Yes & Low & Primary mediastinal (thymic) & Yes & $\\dots$ \\\\\n",
       "\t22 & P128 & Yes & Missing & Diffuse NOS & Yes & $\\dots$ \\\\\n",
       "\t23 & P13 & Yes & High & Diffuse NOS & Yes & $\\dots$ \\\\\n",
       "\t24 & P131 & No & Low & Diffuse NOS & Yes & $\\dots$ \\\\\n",
       "\t25 & P132 & Yes & Missing & Diffuse NOS & No & $\\dots$ \\\\\n",
       "\t26 & P133 & Yes & Low & Diffuse NOS & No & $\\dots$ \\\\\n",
       "\t27 & P137 & Yes & Intermediate/High & Diffuse NOS & Yes & $\\dots$ \\\\\n",
       "\t28 & P138 & Yes & Intermediate/High & Diffuse NOS & No & $\\dots$ \\\\\n",
       "\t29 & P139 & Yes & Low & Diffuse NOS & No & $\\dots$ \\\\\n",
       "\t30 & P14 & No & Missing & Diffuse NOS & Yes & $\\dots$ \\\\\n",
       "\t$\\dots$ & $\\dots$ & $\\dots$ & $\\dots$ & $\\dots$ & $\\dots$ &  \\\\\n",
       "\\end{tabular}\n"
      ],
      "text/plain": [
       "\u001b[1m564×207 DataFrame\u001b[0m\n",
       "\u001b[1m Row \u001b[0m│\u001b[1m PID     \u001b[0m\u001b[1m age_gt_60 \u001b[0m\u001b[1m IPI               \u001b[0m\u001b[1m ICDO3                    \u001b[0m\u001b[1m rchop_\u001b[0m ⋯\n",
       "\u001b[1m     \u001b[0m│\u001b[90m String7 \u001b[0m\u001b[90m String3   \u001b[0m\u001b[90m String31          \u001b[0m\u001b[90m String31                 \u001b[0m\u001b[90m String\u001b[0m ⋯\n",
       "─────┼──────────────────────────────────────────────────────────────────────────\n",
       "   1 │ P1       No         Low                Diffuse NOS               Yes    ⋯\n",
       "   2 │ P100     Yes        Low                Diffuse NOS               Yes\n",
       "   3 │ P102     Yes        Intermediate/High  Diffuse NOS               Yes\n",
       "   4 │ P103     No         Low                Diffuse NOS               Yes\n",
       "   5 │ P104     Yes        High               Diffuse NOS               Yes    ⋯\n",
       "   6 │ P105     Yes        Missing            Diffuse NOS               Yes\n",
       "   7 │ P108     Yes        Missing            Diffuse NOS               No\n",
       "   8 │ P109     Yes        Missing            Diffuse NOS               Yes\n",
       "   9 │ P110     Yes        Low/Intermediate   Diffuse NOS               Yes    ⋯\n",
       "  10 │ P111     Yes        Low                Diffuse NOS               Yes\n",
       "  11 │ P112     No         Missing            Diffuse NOS               No\n",
       "  ⋮  │    ⋮         ⋮              ⋮                     ⋮                     ⋱\n",
       " 555 │ P92      Yes        Missing            Plasmablastic             No\n",
       " 556 │ P920     No         Low/Intermediate   Primary DLBCL of the CNS  No     ⋯\n",
       " 557 │ P924     Yes        High               Diffuse NOS               No\n",
       " 558 │ P93      Yes        Missing            Primary DLBCL of the CNS  No\n",
       " 559 │ P94      Yes        Low                Diffuse NOS               No\n",
       " 560 │ P95      Yes        Intermediate/High  Diffuse NOS               Yes    ⋯\n",
       " 561 │ P96      No         Low                Diffuse NOS               Yes\n",
       " 562 │ P97      No         Low/Intermediate   Diffuse NOS               Yes\n",
       " 563 │ P98      Yes        Missing            Diffuse NOS               No\n",
       " 564 │ P99      Yes        Intermediate/High  Diffuse NOS               Yes    ⋯\n",
       "\u001b[36m                                                203 columns and 543 rows omitted\u001b[0m"
      ]
     },
     "execution_count": 91,
     "metadata": {},
     "output_type": "execute_result"
    }
   ],
   "source": [
    "C2_strict_all_6h_clin = innerjoin(C2_strict_pat_info, C2_strict_all_6h, on = :PID)"
   ]
  },
  {
   "cell_type": "code",
   "execution_count": 93,
   "id": "cd563835",
   "metadata": {
    "scrolled": true
   },
   "outputs": [
    {
     "data": {
      "text/html": [
       "<div class=\"data-frame\"><p>564 rows × 206 columns (omitted printing of 199 columns)</p><table class=\"data-frame\"><thead><tr><th></th><th>PID</th><th>age_gt_60</th><th>IPI</th><th>rchop_treated</th><th>de_novo</th><th>cluster_AIC</th><th>cluster_ICL</th></tr><tr><th></th><th title=\"String7\">String7</th><th title=\"String3\">String3</th><th title=\"String31\">String31</th><th title=\"String3\">String3</th><th title=\"String3\">String3</th><th title=\"String15\">String15</th><th title=\"String7\">String7</th></tr></thead><tbody><tr><th>1</th><td>P1</td><td>No</td><td>Low</td><td>Yes</td><td>Yes</td><td>NOTCH2</td><td>NEC</td></tr><tr><th>2</th><td>P100</td><td>Yes</td><td>Low</td><td>Yes</td><td>Yes</td><td>BCL2</td><td>BCL2</td></tr><tr><th>3</th><td>P102</td><td>Yes</td><td>Intermediate/High</td><td>Yes</td><td>Yes</td><td>MYD88</td><td>MYD88</td></tr><tr><th>4</th><td>P103</td><td>No</td><td>Low</td><td>Yes</td><td>Yes</td><td>NOTCH2</td><td>NEC</td></tr><tr><th>5</th><td>P104</td><td>Yes</td><td>High</td><td>Yes</td><td>Yes</td><td>NOTCH2</td><td>SGK1</td></tr><tr><th>6</th><td>P105</td><td>Yes</td><td>Missing</td><td>Yes</td><td>Yes</td><td>MYD88</td><td>MYD88</td></tr><tr><th>7</th><td>P108</td><td>Yes</td><td>Missing</td><td>No</td><td>Yes</td><td>MYD88</td><td>MYD88</td></tr><tr><th>8</th><td>P109</td><td>Yes</td><td>Missing</td><td>Yes</td><td>Yes</td><td>NOTCH2</td><td>NEC</td></tr><tr><th>9</th><td>P110</td><td>Yes</td><td>Low/Intermediate</td><td>Yes</td><td>Yes</td><td>NEC</td><td>NEC</td></tr><tr><th>10</th><td>P111</td><td>Yes</td><td>Low</td><td>Yes</td><td>Yes</td><td>MYD88</td><td>MYD88</td></tr><tr><th>11</th><td>P112</td><td>No</td><td>Missing</td><td>No</td><td>No</td><td>NOTCH2</td><td>BCL2</td></tr><tr><th>12</th><td>P113</td><td>Yes</td><td>High</td><td>Yes</td><td>Yes</td><td>NOTCH2</td><td>BCL2</td></tr><tr><th>13</th><td>P115</td><td>No</td><td>Low</td><td>Yes</td><td>Yes</td><td>NOTCH2</td><td>BCL2</td></tr><tr><th>14</th><td>P116</td><td>Yes</td><td>Missing</td><td>Yes</td><td>No</td><td>NOTCH2</td><td>NEC</td></tr><tr><th>15</th><td>P117</td><td>Yes</td><td>Missing</td><td>No</td><td>Yes</td><td>SOCS1/SGK1</td><td>SGK1</td></tr><tr><th>16</th><td>P118</td><td>Yes</td><td>Missing</td><td>No</td><td>Yes</td><td>SOCS1/SGK1</td><td>SGK1</td></tr><tr><th>17</th><td>P12</td><td>Yes</td><td>High</td><td>Yes</td><td>Yes</td><td>BCL2</td><td>BCL2</td></tr><tr><th>18</th><td>P120</td><td>No</td><td>Low</td><td>Yes</td><td>Yes</td><td>SOCS1/SGK1</td><td>SGK1</td></tr><tr><th>19</th><td>P122</td><td>Yes</td><td>Missing</td><td>No</td><td>Yes</td><td>MYD88</td><td>MYD88</td></tr><tr><th>20</th><td>P124</td><td>No</td><td>Low</td><td>Yes</td><td>Yes</td><td>NEC</td><td>BCL2</td></tr><tr><th>21</th><td>P126</td><td>Yes</td><td>Low</td><td>Yes</td><td>Yes</td><td>NOTCH2</td><td>NEC</td></tr><tr><th>22</th><td>P128</td><td>Yes</td><td>Missing</td><td>Yes</td><td>No</td><td>NEC</td><td>NEC</td></tr><tr><th>23</th><td>P13</td><td>Yes</td><td>High</td><td>Yes</td><td>Yes</td><td>NEC</td><td>NEC</td></tr><tr><th>24</th><td>P131</td><td>No</td><td>Low</td><td>Yes</td><td>Yes</td><td>MYD88</td><td>MYD88</td></tr><tr><th>25</th><td>P132</td><td>Yes</td><td>Missing</td><td>No</td><td>Yes</td><td>MYD88</td><td>MYD88</td></tr><tr><th>26</th><td>P133</td><td>Yes</td><td>Low</td><td>No</td><td>Yes</td><td>MYD88</td><td>MYD88</td></tr><tr><th>27</th><td>P137</td><td>Yes</td><td>Intermediate/High</td><td>Yes</td><td>Yes</td><td>NEC</td><td>NEC</td></tr><tr><th>28</th><td>P138</td><td>Yes</td><td>Intermediate/High</td><td>No</td><td>Yes</td><td>BCL2</td><td>BCL2</td></tr><tr><th>29</th><td>P139</td><td>Yes</td><td>Low</td><td>No</td><td>Yes</td><td>MYD88</td><td>MYD88</td></tr><tr><th>30</th><td>P14</td><td>No</td><td>Missing</td><td>Yes</td><td>Yes</td><td>SOCS1/SGK1</td><td>SGK1</td></tr><tr><th>&vellip;</th><td>&vellip;</td><td>&vellip;</td><td>&vellip;</td><td>&vellip;</td><td>&vellip;</td><td>&vellip;</td><td>&vellip;</td></tr></tbody></table></div>"
      ],
      "text/latex": [
       "\\begin{tabular}{r|cccccccc}\n",
       "\t& PID & age\\_gt\\_60 & IPI & rchop\\_treated & de\\_novo & cluster\\_AIC & cluster\\_ICL & \\\\\n",
       "\t\\hline\n",
       "\t& String7 & String3 & String31 & String3 & String3 & String15 & String7 & \\\\\n",
       "\t\\hline\n",
       "\t1 & P1 & No & Low & Yes & Yes & NOTCH2 & NEC & $\\dots$ \\\\\n",
       "\t2 & P100 & Yes & Low & Yes & Yes & BCL2 & BCL2 & $\\dots$ \\\\\n",
       "\t3 & P102 & Yes & Intermediate/High & Yes & Yes & MYD88 & MYD88 & $\\dots$ \\\\\n",
       "\t4 & P103 & No & Low & Yes & Yes & NOTCH2 & NEC & $\\dots$ \\\\\n",
       "\t5 & P104 & Yes & High & Yes & Yes & NOTCH2 & SGK1 & $\\dots$ \\\\\n",
       "\t6 & P105 & Yes & Missing & Yes & Yes & MYD88 & MYD88 & $\\dots$ \\\\\n",
       "\t7 & P108 & Yes & Missing & No & Yes & MYD88 & MYD88 & $\\dots$ \\\\\n",
       "\t8 & P109 & Yes & Missing & Yes & Yes & NOTCH2 & NEC & $\\dots$ \\\\\n",
       "\t9 & P110 & Yes & Low/Intermediate & Yes & Yes & NEC & NEC & $\\dots$ \\\\\n",
       "\t10 & P111 & Yes & Low & Yes & Yes & MYD88 & MYD88 & $\\dots$ \\\\\n",
       "\t11 & P112 & No & Missing & No & No & NOTCH2 & BCL2 & $\\dots$ \\\\\n",
       "\t12 & P113 & Yes & High & Yes & Yes & NOTCH2 & BCL2 & $\\dots$ \\\\\n",
       "\t13 & P115 & No & Low & Yes & Yes & NOTCH2 & BCL2 & $\\dots$ \\\\\n",
       "\t14 & P116 & Yes & Missing & Yes & No & NOTCH2 & NEC & $\\dots$ \\\\\n",
       "\t15 & P117 & Yes & Missing & No & Yes & SOCS1/SGK1 & SGK1 & $\\dots$ \\\\\n",
       "\t16 & P118 & Yes & Missing & No & Yes & SOCS1/SGK1 & SGK1 & $\\dots$ \\\\\n",
       "\t17 & P12 & Yes & High & Yes & Yes & BCL2 & BCL2 & $\\dots$ \\\\\n",
       "\t18 & P120 & No & Low & Yes & Yes & SOCS1/SGK1 & SGK1 & $\\dots$ \\\\\n",
       "\t19 & P122 & Yes & Missing & No & Yes & MYD88 & MYD88 & $\\dots$ \\\\\n",
       "\t20 & P124 & No & Low & Yes & Yes & NEC & BCL2 & $\\dots$ \\\\\n",
       "\t21 & P126 & Yes & Low & Yes & Yes & NOTCH2 & NEC & $\\dots$ \\\\\n",
       "\t22 & P128 & Yes & Missing & Yes & No & NEC & NEC & $\\dots$ \\\\\n",
       "\t23 & P13 & Yes & High & Yes & Yes & NEC & NEC & $\\dots$ \\\\\n",
       "\t24 & P131 & No & Low & Yes & Yes & MYD88 & MYD88 & $\\dots$ \\\\\n",
       "\t25 & P132 & Yes & Missing & No & Yes & MYD88 & MYD88 & $\\dots$ \\\\\n",
       "\t26 & P133 & Yes & Low & No & Yes & MYD88 & MYD88 & $\\dots$ \\\\\n",
       "\t27 & P137 & Yes & Intermediate/High & Yes & Yes & NEC & NEC & $\\dots$ \\\\\n",
       "\t28 & P138 & Yes & Intermediate/High & No & Yes & BCL2 & BCL2 & $\\dots$ \\\\\n",
       "\t29 & P139 & Yes & Low & No & Yes & MYD88 & MYD88 & $\\dots$ \\\\\n",
       "\t30 & P14 & No & Missing & Yes & Yes & SOCS1/SGK1 & SGK1 & $\\dots$ \\\\\n",
       "\t$\\dots$ & $\\dots$ & $\\dots$ & $\\dots$ & $\\dots$ & $\\dots$ & $\\dots$ & $\\dots$ &  \\\\\n",
       "\\end{tabular}\n"
      ],
      "text/plain": [
       "\u001b[1m564×206 DataFrame\u001b[0m\n",
       "\u001b[1m Row \u001b[0m│\u001b[1m PID     \u001b[0m\u001b[1m age_gt_60 \u001b[0m\u001b[1m IPI               \u001b[0m\u001b[1m rchop_treated \u001b[0m\u001b[1m de_novo \u001b[0m\u001b[1m cluster_\u001b[0m ⋯\n",
       "\u001b[1m     \u001b[0m│\u001b[90m String7 \u001b[0m\u001b[90m String3   \u001b[0m\u001b[90m String31          \u001b[0m\u001b[90m String3       \u001b[0m\u001b[90m String3 \u001b[0m\u001b[90m String15\u001b[0m ⋯\n",
       "─────┼──────────────────────────────────────────────────────────────────────────\n",
       "   1 │ P1       No         Low                Yes            Yes      NOTCH2   ⋯\n",
       "   2 │ P100     Yes        Low                Yes            Yes      BCL2\n",
       "   3 │ P102     Yes        Intermediate/High  Yes            Yes      MYD88\n",
       "   4 │ P103     No         Low                Yes            Yes      NOTCH2\n",
       "   5 │ P104     Yes        High               Yes            Yes      NOTCH2   ⋯\n",
       "   6 │ P105     Yes        Missing            Yes            Yes      MYD88\n",
       "   7 │ P108     Yes        Missing            No             Yes      MYD88\n",
       "   8 │ P109     Yes        Missing            Yes            Yes      NOTCH2\n",
       "   9 │ P110     Yes        Low/Intermediate   Yes            Yes      NEC      ⋯\n",
       "  10 │ P111     Yes        Low                Yes            Yes      MYD88\n",
       "  11 │ P112     No         Missing            No             No       NOTCH2\n",
       "  ⋮  │    ⋮         ⋮              ⋮                ⋮           ⋮          ⋮   ⋱\n",
       " 555 │ P92      Yes        Missing            No             Yes      NOTCH2\n",
       " 556 │ P920     No         Low/Intermediate   No             Yes      MYD88    ⋯\n",
       " 557 │ P924     Yes        High               No             Yes      TET2/SGK\n",
       " 558 │ P93      Yes        Missing            No             Yes      MYD88\n",
       " 559 │ P94      Yes        Low                No             Yes      TET2/SGK\n",
       " 560 │ P95      Yes        Intermediate/High  Yes            Yes      SOCS1/SG ⋯\n",
       " 561 │ P96      No         Low                Yes            Yes      BCL2\n",
       " 562 │ P97      No         Low/Intermediate   Yes            Yes      BCL2\n",
       " 563 │ P98      Yes        Missing            No             Yes      MYD88\n",
       " 564 │ P99      Yes        Intermediate/High  Yes            Yes      BCL2     ⋯\n",
       "\u001b[36m                                                201 columns and 543 rows omitted\u001b[0m"
      ]
     },
     "execution_count": 93,
     "metadata": {},
     "output_type": "execute_result"
    }
   ],
   "source": [
    "select!(C2_strict_all_6h_clin, Not([:ICDO3]))"
   ]
  },
  {
   "cell_type": "code",
   "execution_count": 94,
   "id": "ce5bb323",
   "metadata": {},
   "outputs": [
    {
     "data": {
      "text/plain": [
       "\"C2_strict_all_6h_clin.csv\""
      ]
     },
     "execution_count": 94,
     "metadata": {},
     "output_type": "execute_result"
    }
   ],
   "source": [
    "CSV.write(\"C2_strict_all_6h_clin.csv\", C2_strict_all_6h_clin)"
   ]
  },
  {
   "cell_type": "code",
   "execution_count": null,
   "id": "bf19d3ae",
   "metadata": {},
   "outputs": [],
   "source": []
  }
 ],
 "metadata": {
  "kernelspec": {
   "display_name": "Julia 1.6.2",
   "language": "julia",
   "name": "julia-1.6"
  },
  "language_info": {
   "file_extension": ".jl",
   "mimetype": "application/julia",
   "name": "julia",
   "version": "1.6.2"
  }
 },
 "nbformat": 4,
 "nbformat_minor": 5
}

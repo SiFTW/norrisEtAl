{
 "cells": [
  {
   "cell_type": "code",
   "execution_count": null,
   "id": "cfa82852",
   "metadata": {},
   "outputs": [],
   "source": [
    "using Plots \n",
    "using CSV\n",
    "using Tables\n",
    "using DataFrames\n",
    "using GLM\n",
    "using Measures\n",
    "plotly()"
   ]
  },
  {
   "cell_type": "code",
   "execution_count": null,
   "id": "4f9ce436",
   "metadata": {},
   "outputs": [],
   "source": [
    "colors=palette(:seaborn_colorblind)"
   ]
  },
  {
   "cell_type": "code",
   "execution_count": null,
   "id": "0dd80759",
   "metadata": {
    "scrolled": true
   },
   "outputs": [],
   "source": [
    "res = DataFrame(CSV.File(\"clinicalAndMetrics.csv\"))"
   ]
  },
  {
   "cell_type": "code",
   "execution_count": null,
   "id": "5a49b04c",
   "metadata": {},
   "outputs": [],
   "source": [
    "res.synMetric=res.peakSyn./res.peakEIA;\n",
    "res.COONumber=res.\"COO_by_Any_GEP_+_Nanostring(string)\"\n",
    "res[res.COONumber.==\"GCB\",:COONumber].=string(1)\n",
    "res[res.COONumber.==\"ABC\",:COONumber].=string(2)\n",
    "res[res.COONumber.==\"Unclassified\",:COONumber].=string(3)\n",
    "res[res.COONumber.==\"N/A\",:COONumber].=string(3)\n",
    "\n",
    "\n",
    "res.OS=res.\"Overall_Survival_Months(number)\";"
   ]
  },
  {
   "cell_type": "code",
   "execution_count": null,
   "id": "4fe8bd91",
   "metadata": {
    "scrolled": true
   },
   "outputs": [],
   "source": [
    "# This is the last deceased patient before the first living one\n",
    "lowOS_res=res[res.OS .<= 33.9, :];"
   ]
  },
  {
   "cell_type": "code",
   "execution_count": null,
   "id": "2dedc948",
   "metadata": {},
   "outputs": [],
   "source": [
    "pred_all = DataFrame(OS = 0:1:127);"
   ]
  },
  {
   "cell_type": "code",
   "execution_count": null,
   "id": "bd4e5b78",
   "metadata": {},
   "outputs": [],
   "source": [
    "function plotSyn(OS_col, metric_col, ylabel, n)    \n",
    "        p = plot(legend=:outertopright)\n",
    "            plot!(pred.OS, predFrame.prediction, label=\"model\", linewidth=2,color=colors[1])\n",
    "            plot!(pred.OS, predFrame.prediction, label=\"model\", linewidth=0, color=colors[1],fillalpha=0.3,\n",
    "                    ribbon = (predFrame.prediction .- predFrame.lower, predFrame.upper .- predFrame.prediction))\n",
    "            plot!(OS_col, metric_col, label=\"data\", seriestype=:scatter, xlab=\"Overall survival (months)\",\n",
    "                   ylab=ylabel, color=colors[4],markersize=5,markerstrokewidth=0)\n",
    "            plot!(legend=false)\n",
    "            #plot!(yticks=(log10.(collect(range(100,1000,10))),collect(range(100,1000,10))))\n",
    "            if n == 130\n",
    "                plot!(xticks=((collect(range(0,130,14))),collect(range(0,130,14))))\n",
    "            else\n",
    "                plot!(xticks=((collect(range(0,30,7))),collect(range(0,30,7))))\n",
    "            end\n",
    "            plot!(size=(900,500))\n",
    "            #plot!(left_margin = 10mm)\n",
    "            plot!(tickfontsize=12, xguidefontsize=18, yguidefontsize=18)\n",
    "        display(p)\n",
    "    return(p)\n",
    "end"
   ]
  },
  {
   "cell_type": "code",
   "execution_count": null,
   "id": "196ca0d0",
   "metadata": {},
   "outputs": [],
   "source": [
    "function plotSynCluster(OS_col, metric_col, ylabel, n,colorCol)    \n",
    "        p = plot(legend=:outertopright)\n",
    "            plot!(pred.OS, predFrame.prediction, label=false, linewidth=2,color=colors[1])\n",
    "            plot!(pred.OS, predFrame.prediction, label=false, linewidth=0, color=colors[1],fillalpha=0.3,\n",
    "                    ribbon = (predFrame.prediction .- predFrame.lower, predFrame.upper .- predFrame.prediction))\n",
    "            plot!(OS_col, metric_col, label=colorCol, seriestype=:scatter, xlab=\"Overall survival (months)\",\n",
    "                   ylab=ylabel, color=colorCol,markersize=5,markerstrokewidth=0,palette =colors)\n",
    "            plot!(legend=false)\n",
    "            #plot!(yticks=(log10.(collect(range(100,1000,10))),collect(range(100,1000,10))))\n",
    "            if n == 130\n",
    "                plot!(xticks=((collect(range(0,130,14))),collect(range(0,130,14))))\n",
    "            else\n",
    "                plot!(xticks=((collect(range(0,30,7))),collect(range(0,30,7))))\n",
    "            end\n",
    "            plot!(size=(900,500))\n",
    "            #plot!(left_margin = 10mm)\n",
    "            plot!(tickfontsize=12, xguidefontsize=18, yguidefontsize=18)\n",
    "        display(p)\n",
    "    return(p)\n",
    "end"
   ]
  },
  {
   "cell_type": "markdown",
   "id": "df5611be",
   "metadata": {},
   "source": [
    "## Low overall survival results - synergy metric"
   ]
  },
  {
   "cell_type": "code",
   "execution_count": null,
   "id": "5b13ff1d",
   "metadata": {
    "scrolled": false
   },
   "outputs": [],
   "source": [
    "### OS(M) vs synergy \n",
    "pred = DataFrame(OS = 0:1:34);\n",
    "model = lm(@formula(synMetric ~ OS), lowOS_res)\n",
    "predFrame = predict(model, pred, level = 0.95,interval = :confidence);\n",
    "plotSyn(lowOS_res.\"Overall_Survival_Months(number)\", lowOS_res.synMetric, \"Synergy score\", 34)\n",
    "println(\"r squared = \"*string(r2(model)))"
   ]
  },
  {
   "cell_type": "code",
   "execution_count": null,
   "id": "26b7d1f7",
   "metadata": {},
   "outputs": [],
   "source": [
    "synDF=copy(lowOS_res)\n",
    "\n",
    "cutoff=mean(synDF.synMetric)\n",
    "synDF=copy(synDF)\n",
    "synDF2 = copy(synDF)\n",
    "synDF3 = copy(synDF)\n",
    "synDF=filter(:synMetric => n -> n > 0.5, synDF)\n",
    "synDF2=filter(:synMetric => n -> n > 0.25 && (n<=0.5), synDF2)\n",
    "synDF3=filter(:synMetric => n -> n <= 0.25, synDF3)\n",
    "\n",
    "@df synDF boxplot([1], :OS, label=\"syn metric >0.5\",linewidth=2)\n",
    "@df synDF dotplot!([1], :OS, marker=(:blue,stroke(0)), label=\"\",mode = :density)\n",
    "\n",
    "@df synDF2 boxplot!([2], :OS, label=\"syn metric[0.25,0.5)\",linewidth=2)\n",
    "@df synDF2 dotplot!([2], :OS, marker=(:green,stroke(0)), label=\"\",xlim=(0,4),ylim=(0,40),ylabel=\"OS\",mode = :density)\n",
    "\n",
    "@df synDF3 boxplot!([3], :OS, label=\"syn metric<0.25\",linewidth=2)\n",
    "@df synDF3 dotplot!([3], :OS, marker=(:orange,stroke(0)), label=\"\",xlim=(0,4),ylim=(0,50),ylabel=\"OS\",mode = :density)\n",
    "\n",
    "xticks!([1], [\"\"])\n",
    "plot!(legend=:outertopright)\n",
    "#pval=pvalue(ApproximateTwoSampleKSTest(synDF.newNormSyn, synDF2.newNormSyn); tail = :both)\n",
    "pval=pvalue(MannWhitneyUTest(synDF.OS, synDF2.OS); tail = :both)\n",
    "annotate!(1.5,40,\"p=\"*string(round(pval,digits=3)))\n",
    "pval=pvalue(MannWhitneyUTest(synDF2.OS, synDF3.OS); tail = :both)\n",
    "annotate!(2.5,40,\"p=\"*string(round(pval,digits=3)))\n",
    "pval=pvalue(MannWhitneyUTest(synDF.OS, synDF3.OS); tail = :both)\n",
    "annotate!(2,50,\"p=\"*string(round(pval,digits=3)))\n",
    "\n",
    "xticks!([1,2], [\"\"])"
   ]
  },
  {
   "cell_type": "code",
   "execution_count": null,
   "id": "0f48924d",
   "metadata": {},
   "outputs": [],
   "source": [
    "display(colors[1:5])\n",
    "println(\"Cluster: 1,2,3,4,5\")"
   ]
  },
  {
   "cell_type": "code",
   "execution_count": null,
   "id": "391544c8",
   "metadata": {},
   "outputs": [],
   "source": [
    "pred = DataFrame(OS = 0:1:34);\n",
    "model = lm(@formula(synMetric ~ OS), lowOS_res)\n",
    "predFrame = predict(model, pred, level = 0.95,interval = :confidence);\n",
    "plotSynCluster(lowOS_res.\"Overall_Survival_Months(number)\", lowOS_res.synMetric, \"Synergy score\", 30,lowOS_res.\"Cluster(number)\")\n",
    "println(\"r squared = \"*string(r2(model)))"
   ]
  },
  {
   "cell_type": "code",
   "execution_count": null,
   "id": "4770da91",
   "metadata": {},
   "outputs": [],
   "source": [
    "display(colors[1:3])\n",
    "println(\"COO: GCB,ABC,UNC\")"
   ]
  },
  {
   "cell_type": "code",
   "execution_count": null,
   "id": "1fdc03a9",
   "metadata": {
    "scrolled": false
   },
   "outputs": [],
   "source": [
    "pred = DataFrame(OS = 0:1:34);\n",
    "model = lm(@formula(synMetric ~ OS), lowOS_res)\n",
    "predFrame = predict(model, pred, level = 0.95,interval = :confidence);\n",
    "plotSynCluster(lowOS_res.\"Overall_Survival_Months(number)\", lowOS_res.synMetric, \"Synergy score\", 30,parse.(Int64, lowOS_res.COONumber))\n",
    "println(\"r squared = \"*string(r2(model)))"
   ]
  },
  {
   "cell_type": "code",
   "execution_count": null,
   "id": "e4fcf0e7",
   "metadata": {},
   "outputs": [],
   "source": [
    "display(colors[1:6])\n",
    "println(\"IPI: 1  2  3  4  5\")"
   ]
  },
  {
   "cell_type": "code",
   "execution_count": null,
   "id": "1b5fea11",
   "metadata": {},
   "outputs": [],
   "source": [
    "pred = DataFrame(OS = 0:1:34);\n",
    "model = lm(@formula(synMetric ~ OS), lowOS_res)\n",
    "predFrame = predict(model, pred, level = 0.95,interval = :confidence);\n",
    "plotSynCluster(lowOS_res.\"Overall_Survival_Months(number)\", lowOS_res.synMetric, \"Synergy score\", 30,parse.(Int64, lowOS_res.\"IPI(number)\"))\n",
    "println(\"r squared = \"*string(r2(model)))"
   ]
  },
  {
   "cell_type": "markdown",
   "id": "4db983dd",
   "metadata": {},
   "source": [
    "# using peak cell number"
   ]
  },
  {
   "cell_type": "code",
   "execution_count": null,
   "id": "8f06e8ae",
   "metadata": {},
   "outputs": [],
   "source": [
    "pred = DataFrame(OS = 0:1:34);\n",
    "model = lm(@formula(peakCN~ OS), lowOS_res)\n",
    "predFrame = predict(model, pred, level = 0.95,interval = :confidence);\n",
    "plotSyn(lowOS_res.\"Overall_Survival_Months(number)\", lowOS_res.peakCN, \"peak CN \", 30)\n",
    "println(\"r squared = \"*string(r2(model)))"
   ]
  },
  {
   "cell_type": "code",
   "execution_count": null,
   "id": "e7a3e12a",
   "metadata": {
    "scrolled": true
   },
   "outputs": [],
   "source": [
    "lowOS_res.log10peakCN=log10.(lowOS_res.peakCN)\n",
    "pred = DataFrame(OS = 0:1:34);\n",
    "model = lm(@formula(log10peakCN~ OS), lowOS_res)\n",
    "predFrame = predict(model, pred, level = 0.95,interval = :confidence);\n",
    "plotSyn(lowOS_res.\"Overall_Survival_Months(number)\", lowOS_res.log10peakCN, \"log10 peak CN\", 30)\n",
    "println(\"r squared = \"*string(r2(model)))"
   ]
  },
  {
   "cell_type": "code",
   "execution_count": null,
   "id": "818d4bbf",
   "metadata": {
    "scrolled": false
   },
   "outputs": [],
   "source": [
    "Pkg.add(\"HypothesisTests\")"
   ]
  },
  {
   "cell_type": "code",
   "execution_count": null,
   "id": "8f99d39f",
   "metadata": {},
   "outputs": [],
   "source": [
    "using Statistics\n",
    "using StatsPlots\n",
    "using Query\n",
    "using HypothesisTests\n",
    "using Statistics\n",
    "using DataFrames"
   ]
  },
  {
   "cell_type": "code",
   "execution_count": null,
   "id": "c37b2b23",
   "metadata": {},
   "outputs": [],
   "source": []
  }
 ],
 "metadata": {
  "kernelspec": {
   "display_name": "Julia 32 threads 1.7.3",
   "language": "julia",
   "name": "julia-32-threads-1.7"
  },
  "language_info": {
   "file_extension": ".jl",
   "mimetype": "application/julia",
   "name": "julia",
   "version": "1.7.3"
  }
 },
 "nbformat": 4,
 "nbformat_minor": 5
}

{
 "cells": [
  {
   "cell_type": "markdown",
   "id": "f1ea46a3",
   "metadata": {},
   "source": [
    "## This script runs a parameter distribution for WT and Bcl2 (x1.5) for the apoptosis model and plots the output (for figure 1E)"
   ]
  },
  {
   "cell_type": "code",
   "execution_count": 1,
   "id": "7c5a46e4",
   "metadata": {},
   "outputs": [],
   "source": [
    "using Plots \n",
    "using CSV\n",
    "using Distributions\n",
    "using Random\n",
    "using DataFrames\n",
    "using JLD2\n",
    "using DelimitedFiles\n",
    "using FileIO\n",
    "using Sundials\n",
    "using LinearAlgebra\n",
    "using DifferentialEquations"
   ]
  },
  {
   "cell_type": "code",
   "execution_count": 7,
   "id": "d777f1f1",
   "metadata": {
    "scrolled": true
   },
   "outputs": [
    {
     "name": "stdout",
     "output_type": "stream",
     "text": [
      "inline\n",
      "Running CSV2JuliaDiffEq with parameters hard-coded into the CSV file, if this is not correct, re-run with the 5th argument set to 'scan' or 'param'\n",
      "Opening rateLaws_apop.csv as rate law file\n",
      "Opening parameters.csv as parameters file\n",
      "Opening reactions.csv as reactions file\n"
     ]
    },
    {
     "data": {
      "text/plain": [
       "Process(`\u001b[4mpython3\u001b[24m \u001b[4mcsv2model-multiscale.py\u001b[24m \u001b[4mreactions.csv\u001b[24m \u001b[4mparameters.csv\u001b[24m \u001b[4mrateLaws_apop.csv\u001b[24m \u001b[4modeApoptosis.jl\u001b[24m`, ProcessExited(0))"
      ]
     },
     "execution_count": 7,
     "metadata": {},
     "output_type": "execute_result"
    }
   ],
   "source": [
    "#set up where CSV2Julia is\n",
    "locationOfCSV2Julia=\"csv2model-multiscale.py\"\n",
    "\n",
    "#identify the three CSV sheets that describe the model\n",
    "reactionsFile=\"reactions.csv\"\n",
    "parametersFile=\"parameters.csv\"\n",
    "rateLawsFile=\"rateLaws_apop.csv\"\n",
    "\n",
    "#build a command to execute csv2julia\n",
    "arguments=[reactionsFile, parametersFile, rateLawsFile, \"odeApoptosis.jl\"]\n",
    "cmd=`python3 $locationOfCSV2Julia $arguments`\n",
    "\n",
    "#lets run csv2julia (requires python to be installed)\n",
    "run(cmd)"
   ]
  },
  {
   "cell_type": "code",
   "execution_count": 8,
   "id": "bbd6e0af",
   "metadata": {},
   "outputs": [
    {
     "data": {
      "text/plain": [
       "0.32"
      ]
     },
     "execution_count": 8,
     "metadata": {},
     "output_type": "execute_result"
    }
   ],
   "source": [
    "#CV =  coefficient of variation\n",
    "preConcCV=0.32 # how much should we distribute starting parameters for each cell\n",
    "# We need a concentration CV of about 32% (if we were doing parameters it would be 11%ish)\n",
    "# I've tried 32% and it seems too high, the effect of variability ends up way greater than the effect of\n",
    "# the BCL-2 inhibition so I reduced this to 11%... can we justify that cell-to-cell variability is lower\n",
    "# between cell lines than between primary cells? Probably.\n",
    "# as reported here: https://www.pnas.org/content/115/12/E2888\n",
    "\n",
    "#DISincrease=0.000001"
   ]
  },
  {
   "cell_type": "code",
   "execution_count": 9,
   "id": "780ed487",
   "metadata": {},
   "outputs": [
    {
     "data": {
      "text/plain": [
       "myLogNormal (generic function with 1 method)"
      ]
     },
     "execution_count": 9,
     "metadata": {},
     "output_type": "execute_result"
    }
   ],
   "source": [
    "function myLogNormal(m,std)\n",
    "    γ = 1+std^2/m^2\n",
    "    μ = log(m/sqrt(γ))\n",
    "    σ = sqrt(log(γ))\n",
    "    return LogNormal(μ,σ)\n",
    "end"
   ]
  },
  {
   "cell_type": "code",
   "execution_count": 10,
   "id": "86e8cc98",
   "metadata": {},
   "outputs": [
    {
     "data": {
      "text/plain": [
       "sampleInit (generic function with 1 method)"
      ]
     },
     "execution_count": 10,
     "metadata": {},
     "output_type": "execute_result"
    }
   ],
   "source": [
    "#this function takes some initial conditions and distributes them by a set CV, returning new initial conditions\n",
    "function sampleInit(y0,cv)\n",
    "    #note mean of distribution is 1 so CV = standard deviation\n",
    "    distribution=Truncated(myLogNormal(1,cv),0,Inf)\n",
    "    scaling=rand(distribution, 1)\n",
    "    scalingMatrix=[ rand(distribution, 1)[1] for i=1:length(y0)]\n",
    "    ynew=y0.*scalingMatrix\n",
    "    return ynew\n",
    "end"
   ]
  },
  {
   "cell_type": "code",
   "execution_count": 11,
   "id": "b7c2d4c3",
   "metadata": {},
   "outputs": [
    {
     "data": {
      "text/plain": [
       "1"
      ]
     },
     "execution_count": 11,
     "metadata": {},
     "output_type": "execute_result"
    }
   ],
   "source": [
    "odeFile=include(\"odeApoptosis.jl\")\n",
    "include(\"variableNames.jl\")\n",
    "p=1\n",
    "maxTimeSS=100000.0\n",
    "maxTimeTC=144*60.0\n",
    "params=1"
   ]
  },
  {
   "cell_type": "code",
   "execution_count": 12,
   "id": "bf0806dc",
   "metadata": {
    "scrolled": true
   },
   "outputs": [
    {
     "data": {
      "text/plain": [
       "odeApoptosis! (generic function with 1 method)"
      ]
     },
     "execution_count": 12,
     "metadata": {},
     "output_type": "execute_result"
    }
   ],
   "source": [
    "# fix species\n",
    "include(\"fixSpecies.jl\")\n",
    "fixSpecies(\"odeApoptosis.jl\",\"odeApoptosisFixed.jl\",1)\n",
    "odeFile = include(\"odeApoptosisFixed.jl\")"
   ]
  },
  {
   "cell_type": "code",
   "execution_count": 13,
   "id": "635fdbb5",
   "metadata": {},
   "outputs": [
    {
     "data": {
      "text/plain": [
       "initConditionsApop (generic function with 1 method)"
      ]
     },
     "execution_count": 13,
     "metadata": {},
     "output_type": "execute_result"
    }
   ],
   "source": [
    "## Bcl2t values:\n",
    "\n",
    "# WT  = 277\n",
    "# 1.5 = 415.5\n",
    "# 2.0 = 554\n",
    "# 2.5 = 692.5\n",
    "# 3.0 = 831\n",
    "# 3.5 = 969.5\n",
    "\n",
    "# replace xxx with value for copy number\n",
    "\n",
    "function initConditionsApop(y0,syms)\n",
    "   #units: M\n",
    "   #source: the supplement of Albeck et al 2008 PLOS Biology\n",
    "   y0[findfirst(isequal(\"L\"),syms)]=0\n",
    "   y0[findfirst(isequal(\"R\"),syms)]=1000\n",
    "   y0[findfirst(isequal(\"flip\"),syms)]=2000\n",
    "   y0[findfirst(isequal(\"pC8\"),syms)]=10000\n",
    "   y0[findfirst(isequal(\"BAR\"),syms)]=1000\n",
    "   y0[findfirst(isequal(\"pC3\"),syms)]=10000\n",
    "   y0[findfirst(isequal(\"pC6\"),syms)]=10000\n",
    "   y0[findfirst(isequal(\"XIAP\"),syms)]=100000\n",
    "   y0[findfirst(isequal(\"PARP\"),syms)]=1000000\n",
    "   y0[findfirst(isequal(\"Bid\"),syms)]=60000\n",
    "   y0[findfirst(isequal(\"Bcl2c\"),syms)]=20000\n",
    "   y0[findfirst(isequal(\"Bax\"),syms)]=80000\n",
    "   y0[findfirst(isequal(\"Bcl2\"),syms)]=30000\n",
    "   y0[findfirst(isequal(\"Mito\"),syms)]=500000\n",
    "   y0[findfirst(isequal(\"mCytoC\"),syms)]=500000\n",
    "   y0[findfirst(isequal(\"mSMac\"),syms)]=100000\n",
    "   y0[findfirst(isequal(\"Apaf\"),syms)]=100000\n",
    "   y0[findfirst(isequal(\"Procasp9\"),syms)]=100000\n",
    "   #this is new and will be replaced by cRel control in multiscale modeling\n",
    "   y0[findfirst(isequal(\"Bcl2t\"),syms)]=277\n",
    "    return y0\n",
    "end"
   ]
  },
  {
   "cell_type": "code",
   "execution_count": 14,
   "id": "f75bce20",
   "metadata": {},
   "outputs": [
    {
     "data": {
      "text/plain": [
       "(::ODEFunction{true, SciMLBase.FullSpecialize, typeof(odeApoptosis!), UniformScaling{Bool}, Nothing, Nothing, Nothing, Nothing, Nothing, Nothing, Nothing, Nothing, Nothing, Nothing, Vector{Symbol}, Nothing, Nothing, typeof(SciMLBase.DEFAULT_OBSERVED), Nothing, Nothing}) (generic function with 1 method)"
      ]
     },
     "execution_count": 14,
     "metadata": {},
     "output_type": "execute_result"
    }
   ],
   "source": [
    "global f=ODEFunction(odeFile,syms=Symbol.(syms))"
   ]
  },
  {
   "cell_type": "code",
   "execution_count": 15,
   "id": "c07257cd",
   "metadata": {},
   "outputs": [],
   "source": [
    "import Base.Threads"
   ]
  },
  {
   "cell_type": "code",
   "execution_count": 16,
   "id": "a8875e7a",
   "metadata": {},
   "outputs": [
    {
     "data": {
      "text/plain": [
       "2-element Vector{Float64}:\n",
       " 1.0\n",
       " 1.5"
      ]
     },
     "execution_count": 16,
     "metadata": {},
     "output_type": "execute_result"
    }
   ],
   "source": [
    "conditions=[\"WT\",\"Bcl2_mut\"]\n",
    "bcl2Vals=[1,1.5]"
   ]
  },
  {
   "cell_type": "code",
   "execution_count": 17,
   "id": "f733eb2b",
   "metadata": {},
   "outputs": [
    {
     "data": {
      "text/plain": [
       "1000"
      ]
     },
     "execution_count": 17,
     "metadata": {},
     "output_type": "execute_result"
    }
   ],
   "source": [
    "first_cell = 1\n",
    "last_cell = 1000"
   ]
  },
  {
   "cell_type": "markdown",
   "id": "73e8e92c",
   "metadata": {},
   "source": [
    "### Steady state"
   ]
  },
  {
   "cell_type": "code",
   "execution_count": 18,
   "id": "c488111c",
   "metadata": {},
   "outputs": [
    {
     "data": {
      "text/plain": [
       "genSSconds (generic function with 1 method)"
      ]
     },
     "execution_count": 18,
     "metadata": {},
     "output_type": "execute_result"
    }
   ],
   "source": [
    "function genSSconds(Bcl2,mut)\n",
    "    y0=zeros(length(syms))\n",
    "    y0=initConditionsApop(y0,syms)\n",
    "    y0[findfirst(isequal(\"L\"),syms)]=0\n",
    "    y0[findfirst(isequal(\"Bcl2t\"),syms)]=277*Bcl2\n",
    "\n",
    "    #solve the steady state\n",
    "    prob=ODEProblem(f,y0,(0.0,maxTimeSS),abstol=1e-5,reltol=1e-3, maxiters=1e10)\n",
    "    solss=solve(prob, Rosenbrock23(), saveat=maxTimeSS/1000)\n",
    "\n",
    "    #dynamic phase, use SS solution as initial conditions\n",
    "    y0_ss=vec(convert(Array, solss[:,end]))    \n",
    "    y0_ss[findfirst(isequal(\"L\"),syms)]=1\n",
    "\n",
    "    # save y0 as csv\n",
    "    writedlm(\"steady_state_\"*mut*\".csv\", y0_ss, ',')\n",
    "    println(\"steady state conditions saved\")\n",
    "end"
   ]
  },
  {
   "cell_type": "code",
   "execution_count": 19,
   "id": "bc6e3596",
   "metadata": {},
   "outputs": [
    {
     "name": "stdout",
     "output_type": "stream",
     "text": [
      "steady state conditions saved\n"
     ]
    }
   ],
   "source": [
    "genSSconds(1,\"WT\")"
   ]
  },
  {
   "cell_type": "code",
   "execution_count": 25,
   "id": "6ba285d6",
   "metadata": {},
   "outputs": [
    {
     "name": "stdout",
     "output_type": "stream",
     "text": [
      "steady state conditions saved\n"
     ]
    }
   ],
   "source": [
    "genSSconds(1.5,\"Bcl2_mut\")"
   ]
  },
  {
   "cell_type": "code",
   "execution_count": 21,
   "id": "ce548a47",
   "metadata": {},
   "outputs": [
    {
     "data": {
      "text/plain": [
       "genRunConds (generic function with 1 method)"
      ]
     },
     "execution_count": 21,
     "metadata": {},
     "output_type": "execute_result"
    }
   ],
   "source": [
    "function genRunConds(Bcl2, condition_folder)\n",
    "    Random.seed!(1234) #for reproducibility\n",
    "    for i in first_cell:last_cell\n",
    "        #import SS conds\n",
    "        y0_ss = readdlm(\"steady_state_WT.csv\")\n",
    "        #set L value\n",
    "        y0_ss[findfirst(isequal(\"L\"),syms)]=1\n",
    "        \n",
    "        #distribute all initial conditions\n",
    "        y0_ss = sampleInit(y0_ss,preConcCV)\n",
    "\n",
    "        # set Bcl2 value\n",
    "        y0_ss[findfirst(isequal(\"Bcl2t\"),syms)]=277*Bcl2\n",
    "\n",
    "        # save y0 as csv\n",
    "        writedlm(\"SS_conds/\"*condition_folder*\"/SS_conds_\"*string(i)*\".csv\", y0_ss, ',')    \n",
    "        println(\"Run conditions saved\")\n",
    "    end\n",
    "end"
   ]
  },
  {
   "cell_type": "code",
   "execution_count": 22,
   "id": "8f1a93c2",
   "metadata": {},
   "outputs": [
    {
     "data": {
      "text/plain": [
       "runSimSS (generic function with 1 method)"
      ]
     },
     "execution_count": 22,
     "metadata": {},
     "output_type": "execute_result"
    }
   ],
   "source": [
    "function runSimSS(first_cell, last_cell, Bcl2, thisCondition)\n",
    "    Threads.@threads for i in first_cell:last_cell\n",
    "        solveSS(i, Bcl2, thisCondition)\n",
    "    end\n",
    "end"
   ]
  },
  {
   "cell_type": "markdown",
   "id": "962adfea",
   "metadata": {},
   "source": [
    "### Run full sim"
   ]
  },
  {
   "cell_type": "code",
   "execution_count": 23,
   "id": "6a0662b0",
   "metadata": {},
   "outputs": [
    {
     "data": {
      "text/plain": [
       "genInitConds (generic function with 1 method)"
      ]
     },
     "execution_count": 23,
     "metadata": {},
     "output_type": "execute_result"
    }
   ],
   "source": [
    "function genInitConds(first_cell, last_cell, Bcl2, thisCondition)\n",
    "    #import SS conds\n",
    "    y0_ss = vec(readdlm(\"steady_state_\"*thisCondition*\".csv\"))\n",
    "    \n",
    "    for i in first_cell:last_cell\n",
    "        #distribute all initial conditions\n",
    "        y0_init = sampleInit(y0_ss,preConcCV)\n",
    "                \n",
    "        # set Bcl2 value\n",
    "        y0_init[findfirst(isequal(\"Bcl2t\"),syms)]=277*Bcl2\n",
    "\n",
    "        # save y0 as csv\n",
    "        writedlm(\"SS_conds/\"*thisCondition*\"/SS_conds_\"*string(i)*\".csv\", y0_init, ',')\n",
    "    end\n",
    "    println(\"conditions for \"*thisCondition*\" saved\")\n",
    "end"
   ]
  },
  {
   "cell_type": "code",
   "execution_count": 26,
   "id": "17290ef8",
   "metadata": {},
   "outputs": [
    {
     "name": "stdout",
     "output_type": "stream",
     "text": [
      "conditions for WT saved\n",
      "conditions for Bcl2_mut saved\n"
     ]
    }
   ],
   "source": [
    "for condIndex in 1:length(conditions)\n",
    "    #set seed\n",
    "    Random.seed!(1234) #for reproducibility\n",
    "    #get conditions\n",
    "    thisCondition=conditions[condIndex]\n",
    "    thisBCL2Scale=bcl2Vals[condIndex]\n",
    "    #create folder to save SS conditions\n",
    "    mkpath(\"SS_conds/\"*thisCondition*\"/\")\n",
    "    #run simulations\n",
    "    genInitConds(first_cell, last_cell, thisBCL2Scale, thisCondition)\n",
    "end"
   ]
  },
  {
   "cell_type": "code",
   "execution_count": 27,
   "id": "a8d56953",
   "metadata": {},
   "outputs": [],
   "source": [
    "#find cleaved parp\n",
    "speciesToPlot=\"CPARP\"\n",
    "#find total PARP\n",
    "denominator=[\"PARP\",\"PARP_C3\",\"CPARP\"]\n",
    "CPARPIndex=findfirst(isequal(speciesToPlot),syms)\n",
    "denominatorIndexes=Array{Int64}(undef,length(denominator))\n",
    "for i in 1:length(denominator)\n",
    "    thisIndex=findfirst(isequal(denominator[i]),syms)\n",
    "    denominatorIndexes[i]=convert(Int64,thisIndex)\n",
    "end"
   ]
  },
  {
   "cell_type": "code",
   "execution_count": 33,
   "id": "2a257a0d",
   "metadata": {},
   "outputs": [
    {
     "data": {
      "text/plain": [
       "calcT2D (generic function with 2 methods)"
      ]
     },
     "execution_count": 33,
     "metadata": {},
     "output_type": "execute_result"
    }
   ],
   "source": [
    "function calcT2D(sol, i, thisCondition)\n",
    "    cParray=zeros(1,Int(maxTimeTC)+1)\n",
    "    thisNumerator=sol[CPARPIndex,:] #cPARP\n",
    "    thisDenominatorTCs=sol[denominatorIndexes,:]\n",
    "    thisDenominator=sum(thisDenominatorTCs,dims=1) #other PARP species\n",
    "    parpPercentage=thisNumerator./thisDenominator'\n",
    "    cParray=[cParray;parpPercentage']\n",
    "    if cParray[end] > 0.01\n",
    "        T2Death = findfirst(x->x>0.01, cParray)            \n",
    "        T2D_t = T2Death[2]\n",
    "        T2D_df = DataFrame(Cell=\"cell_\"*string(i), T2D=T2D_t)\n",
    "        CSV.write(\"T2D_res/T2D_res_\"*thisCondition*\"/cell_\"*string(i)*\"_res.csv\", T2D_df)\n",
    "    else\n",
    "    end\n",
    "end"
   ]
  },
  {
   "cell_type": "code",
   "execution_count": 34,
   "id": "6054929d",
   "metadata": {},
   "outputs": [
    {
     "data": {
      "text/plain": [
       "solveCell (generic function with 1 method)"
      ]
     },
     "execution_count": 34,
     "metadata": {},
     "output_type": "execute_result"
    }
   ],
   "source": [
    "function solveCell(i, Bcl2, thisCondition)    \n",
    "        \n",
    "    for i in first_cell:last_cell\n",
    "        \n",
    "        y0_init = vec(readdlm(\"SS_conds/\"*thisCondition*\"/SS_conds_\"*string(i)*\".csv\"))\n",
    "        \n",
    "        prob=ODEProblem(f,y0_init,(0.0,maxTimeTC),abstol=1e-5,reltol=1e-3, maxiters=1e10)\n",
    "        sol=solve(prob, Rosenbrock23(), saveat=1.0, progress = true)\n",
    "\n",
    "        calcT2D(sol, i, thisCondition)\n",
    "\n",
    "    end\n",
    "    println(thisCondition*\" finished\")\n",
    "end"
   ]
  },
  {
   "cell_type": "code",
   "execution_count": 30,
   "id": "88e409e8",
   "metadata": {},
   "outputs": [
    {
     "data": {
      "text/plain": [
       "runSim (generic function with 1 method)"
      ]
     },
     "execution_count": 30,
     "metadata": {},
     "output_type": "execute_result"
    }
   ],
   "source": [
    "function runSim(first_cell, last_cell, Bcl2, thisCondition)\n",
    "    Threads.@threads for i in first_cell:last_cell\n",
    "            solveCell(i, Bcl2, thisCondition)\n",
    "    end\n",
    "end"
   ]
  },
  {
   "cell_type": "markdown",
   "id": "a5ff495e",
   "metadata": {},
   "source": [
    "### Run simulation"
   ]
  },
  {
   "cell_type": "code",
   "execution_count": null,
   "id": "9c8e27ec",
   "metadata": {
    "scrolled": true
   },
   "outputs": [],
   "source": [
    "for condIndex in 1:length(conditions)\n",
    "    #set seed\n",
    "    Random.seed!(1234) #for reproducibility\n",
    "    #get conditions\n",
    "    thisCondition=conditions[condIndex]\n",
    "    thisBCL2Scale=bcl2Vals[condIndex]\n",
    "    #create folder to save SS conditions\n",
    "    mkpath(\"T2D_res/T2D_res_\"*thisCondition*\"/\")\n",
    "    #run simulations\n",
    "    runSim(first_cell, last_cell, thisBCL2Scale, thisCondition)\n",
    "end"
   ]
  },
  {
   "cell_type": "code",
   "execution_count": null,
   "id": "dcce825c",
   "metadata": {},
   "outputs": [],
   "source": [
    "#set seed\n",
    "Random.seed!(1234) #for reproducibility\n",
    "#get conditions\n",
    "thisCondition=conditions[2]\n",
    "thisBCL2Scale=bcl2Vals[2]\n",
    "#create folder to save SS conditions\n",
    "#mkpath(\"T2D_res/T2D_res_\"*thisCondition*\"/\")\n",
    "#run simulations\n",
    "runSim(first_cell, last_cell, thisBCL2Scale, thisCondition)"
   ]
  },
  {
   "cell_type": "markdown",
   "id": "364f2e07",
   "metadata": {},
   "source": [
    "### Code for importing results and plotting"
   ]
  },
  {
   "cell_type": "code",
   "execution_count": null,
   "id": "925a56f4",
   "metadata": {},
   "outputs": [],
   "source": [
    "### Get T2D times\n",
    "\n",
    "function getT2Dtimes(mut_folder)\n",
    "    T2D_times_df = DataFrame(Cell=[], T2D=Int64[])\n",
    "\n",
    "    for i in first_cell:last_cell\n",
    "        if isfile(\"T2D_res/T2D_res_\"*mut_folder*\"/cell_\"*string(i)*\"_res.csv\") == true\n",
    "            T2D_times = DataFrame(CSV.File(\"T2D_res/T2D_res_\"*mut_folder*\"/cell_\"*string(i)*\"_res.csv\", header=true))\n",
    "            append!(T2D_times_df, T2D_times)\n",
    "        else\n",
    "            continue\n",
    "        end\n",
    "    end\n",
    "    return(T2D_times_df)\n",
    "end"
   ]
  },
  {
   "cell_type": "code",
   "execution_count": null,
   "id": "bda13d3d",
   "metadata": {
    "scrolled": true
   },
   "outputs": [],
   "source": [
    "WT_res = getT2Dtimes(\"WT\")\n",
    "rename!(WT_res,:T2D => :WT)"
   ]
  },
  {
   "cell_type": "code",
   "execution_count": null,
   "id": "192087ef",
   "metadata": {
    "scrolled": true
   },
   "outputs": [],
   "source": [
    "Bcl2_mut_res = getT2Dtimes(\"Bcl2_mut\")\n",
    "rename!(Bcl2_mut_res,:T2D => :Bcl2_mut)"
   ]
  },
  {
   "cell_type": "code",
   "execution_count": null,
   "id": "94cb035c",
   "metadata": {},
   "outputs": [],
   "source": [
    "WT_res_mod = filter(:Cell => in(Bcl2_mut_res.Cell), WT_res)"
   ]
  },
  {
   "cell_type": "code",
   "execution_count": null,
   "id": "74bc6dc0",
   "metadata": {},
   "outputs": [],
   "source": [
    "WT_Bcl2_res = innerjoin(WT_res_mod, Bcl2_mut_res, on = :Cell)\n",
    "WT_Bcl2_res = sort!(WT_Bcl2_res, [:WT], rev=true)"
   ]
  },
  {
   "cell_type": "code",
   "execution_count": null,
   "id": "a221b993",
   "metadata": {},
   "outputs": [],
   "source": [
    "bar(WT_Bcl2_res.Bcl2_mut, orientation=:h, size=(900,900), linewidth = 0, color=:green, alpha=0.5, legend=false)\n",
    "bar!(WT_Bcl2_res.WT, orientation=:h, size=(900,900), linewidth = 0, color=:black, alpha=0.5, legend=false)\n",
    "s=string.(collect(0:20:140))\n",
    "plot!(xticks = (0:(60*20):(60*140),s),xlabel=\"time (hours)\",ylabel=\"cell number\",fmt = :png,\n",
    "        xtickfontsize=22,\n",
    "        ytickfontsize=22,\n",
    "        xguidefontsize=22,\n",
    "        yguidefontsize=22)"
   ]
  }
 ],
 "metadata": {
  "@webio": {
   "lastCommId": null,
   "lastKernelId": null
  },
  "kernelspec": {
   "display_name": "Julia (32 threads) 1.7.3",
   "language": "julia",
   "name": "julia-_32-threads_-1.7"
  },
  "language_info": {
   "file_extension": ".jl",
   "mimetype": "application/julia",
   "name": "julia",
   "version": "1.7.3"
  }
 },
 "nbformat": 4,
 "nbformat_minor": 5
}

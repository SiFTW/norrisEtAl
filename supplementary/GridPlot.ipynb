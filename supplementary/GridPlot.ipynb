{
 "cells": [
  {
   "cell_type": "code",
   "execution_count": 1,
   "id": "30f4fb82",
   "metadata": {},
   "outputs": [],
   "source": [
    "#packages we need\n",
    "using DifferentialEquations\n",
    "using Plots \n",
    "using CSV\n",
    "using Distributions\n",
    "using Random\n",
    "using DataFrames\n",
    "using JLD2\n",
    "using DelimitedFiles\n",
    "using FileIO"
   ]
  },
  {
   "cell_type": "code",
   "execution_count": 2,
   "id": "8bec79cf",
   "metadata": {},
   "outputs": [
    {
     "data": {
      "text/plain": [
       "1000"
      ]
     },
     "execution_count": 2,
     "metadata": {},
     "output_type": "execute_result"
    }
   ],
   "source": [
    "first_cell = 1\n",
    "last_cell = 1000"
   ]
  },
  {
   "cell_type": "code",
   "execution_count": 3,
   "id": "7d0522d2",
   "metadata": {},
   "outputs": [
    {
     "data": {
      "text/plain": [
       "getCCtimes_nq (generic function with 1 method)"
      ]
     },
     "execution_count": 3,
     "metadata": {},
     "output_type": "execute_result"
    }
   ],
   "source": [
    "### Get plot times split into normal and quiescent cells NEW\n",
    "\n",
    "function getCCtimes_nq(mut_folder, q)\n",
    "    CC_times_df = DataFrame(G1S=Int64[], SG2=Int64[], G2M=Int64[], M=Int64[], Cell=Int64[], State=String[], Plotn=Int64[], Plotq=Int64[])\n",
    "\n",
    "    for i in first_cell:last_cell\n",
    "        if isfile(\"outputFiles_cell_cycle/\"*mut_folder*\"/plot_times/plot_times_\"*string(i)*\".csv\") == true\n",
    "            plot_times = DataFrame(CSV.File(\"outputFiles_cell_cycle/\"*mut_folder*\"/plot_times/plot_times_\"*string(i)*\".csv\", header=true))\n",
    "            plot_times[!, :Cell] = [i]\n",
    "            plot_times[!, :State] = [\"n\"]\n",
    "            plot_times[!, :Plotn] = plot_times[!, :M]\n",
    "            plot_times[!, :Plotq] = [0]                    \n",
    "            append!(CC_times_df, plot_times)\n",
    "        elseif isfile(\"outputFiles_cell_cycle/\"*mut_folder*\"/quiescent/sol_df\"*string(i)*\".csv\") == true\n",
    "            plot_times = DataFrame(G1S=1, SG2=2, G2M=3, M=q)\n",
    "            plot_times[!, :Cell] = [i]\n",
    "            plot_times[!, :State] = [\"q\"]\n",
    "            plot_times[!, :Plotn] = [0]\n",
    "            plot_times[!, :Plotq] = plot_times[!, :M]\n",
    "            append!(CC_times_df, plot_times)\n",
    "        else\n",
    "            continue\n",
    "        end\n",
    "    end\n",
    "    return(CC_times_df)\n",
    "end"
   ]
  },
  {
   "cell_type": "code",
   "execution_count": 4,
   "id": "88f2358b",
   "metadata": {
    "scrolled": true
   },
   "outputs": [
    {
     "data": {
      "text/html": [
       "<div class=\"data-frame\"><p>993 rows × 8 columns</p><table class=\"data-frame\"><thead><tr><th></th><th>G1S</th><th>SG2</th><th>G2M</th><th>M</th><th>Cell</th><th>State</th><th>Plotn</th><th>Plotq</th></tr><tr><th></th><th title=\"Int64\">Int64</th><th title=\"Int64\">Int64</th><th title=\"Int64\">Int64</th><th title=\"Int64\">Int64</th><th title=\"Int64\">Int64</th><th title=\"String\">String</th><th title=\"Int64\">Int64</th><th title=\"Int64\">Int64</th></tr></thead><tbody><tr><th>1</th><td>621</td><td>896</td><td>1004</td><td>1048</td><td>1</td><td>n</td><td>1048</td><td>0</td></tr><tr><th>2</th><td>365</td><td>653</td><td>765</td><td>824</td><td>2</td><td>n</td><td>824</td><td>0</td></tr><tr><th>3</th><td>711</td><td>997</td><td>1095</td><td>1136</td><td>3</td><td>n</td><td>1136</td><td>0</td></tr><tr><th>4</th><td>207</td><td>492</td><td>601</td><td>645</td><td>4</td><td>n</td><td>645</td><td>0</td></tr><tr><th>5</th><td>425</td><td>711</td><td>816</td><td>858</td><td>5</td><td>n</td><td>858</td><td>0</td></tr><tr><th>6</th><td>436</td><td>719</td><td>815</td><td>855</td><td>6</td><td>n</td><td>855</td><td>0</td></tr><tr><th>7</th><td>357</td><td>623</td><td>728</td><td>767</td><td>7</td><td>n</td><td>767</td><td>0</td></tr><tr><th>8</th><td>234</td><td>527</td><td>633</td><td>677</td><td>8</td><td>n</td><td>677</td><td>0</td></tr><tr><th>9</th><td>487</td><td>791</td><td>891</td><td>935</td><td>9</td><td>n</td><td>935</td><td>0</td></tr><tr><th>10</th><td>509</td><td>774</td><td>879</td><td>915</td><td>10</td><td>n</td><td>915</td><td>0</td></tr><tr><th>11</th><td>233</td><td>505</td><td>606</td><td>645</td><td>11</td><td>n</td><td>645</td><td>0</td></tr><tr><th>12</th><td>1</td><td>2</td><td>3</td><td>4000</td><td>12</td><td>q</td><td>0</td><td>4000</td></tr><tr><th>13</th><td>628</td><td>911</td><td>1016</td><td>1059</td><td>13</td><td>n</td><td>1059</td><td>0</td></tr><tr><th>14</th><td>213</td><td>492</td><td>598</td><td>638</td><td>14</td><td>n</td><td>638</td><td>0</td></tr><tr><th>15</th><td>306</td><td>597</td><td>700</td><td>742</td><td>15</td><td>n</td><td>742</td><td>0</td></tr><tr><th>16</th><td>445</td><td>732</td><td>831</td><td>878</td><td>16</td><td>n</td><td>878</td><td>0</td></tr><tr><th>17</th><td>240</td><td>534</td><td>642</td><td>687</td><td>17</td><td>n</td><td>687</td><td>0</td></tr><tr><th>18</th><td>459</td><td>747</td><td>852</td><td>894</td><td>18</td><td>n</td><td>894</td><td>0</td></tr><tr><th>19</th><td>674</td><td>944</td><td>1044</td><td>1085</td><td>19</td><td>n</td><td>1085</td><td>0</td></tr><tr><th>20</th><td>247</td><td>537</td><td>640</td><td>682</td><td>20</td><td>n</td><td>682</td><td>0</td></tr><tr><th>21</th><td>1</td><td>2</td><td>3</td><td>4000</td><td>21</td><td>q</td><td>0</td><td>4000</td></tr><tr><th>22</th><td>283</td><td>564</td><td>661</td><td>705</td><td>22</td><td>n</td><td>705</td><td>0</td></tr><tr><th>23</th><td>551</td><td>841</td><td>944</td><td>983</td><td>23</td><td>n</td><td>983</td><td>0</td></tr><tr><th>24</th><td>233</td><td>506</td><td>605</td><td>644</td><td>24</td><td>n</td><td>644</td><td>0</td></tr><tr><th>25</th><td>267</td><td>541</td><td>638</td><td>678</td><td>25</td><td>n</td><td>678</td><td>0</td></tr><tr><th>26</th><td>204</td><td>498</td><td>602</td><td>641</td><td>26</td><td>n</td><td>641</td><td>0</td></tr><tr><th>27</th><td>320</td><td>588</td><td>697</td><td>735</td><td>27</td><td>n</td><td>735</td><td>0</td></tr><tr><th>28</th><td>234</td><td>506</td><td>606</td><td>649</td><td>28</td><td>n</td><td>649</td><td>0</td></tr><tr><th>29</th><td>245</td><td>534</td><td>633</td><td>673</td><td>29</td><td>n</td><td>673</td><td>0</td></tr><tr><th>30</th><td>260</td><td>559</td><td>658</td><td>705</td><td>30</td><td>n</td><td>705</td><td>0</td></tr><tr><th>&vellip;</th><td>&vellip;</td><td>&vellip;</td><td>&vellip;</td><td>&vellip;</td><td>&vellip;</td><td>&vellip;</td><td>&vellip;</td><td>&vellip;</td></tr></tbody></table></div>"
      ],
      "text/latex": [
       "\\begin{tabular}{r|cccccccc}\n",
       "\t& G1S & SG2 & G2M & M & Cell & State & Plotn & Plotq\\\\\n",
       "\t\\hline\n",
       "\t& Int64 & Int64 & Int64 & Int64 & Int64 & String & Int64 & Int64\\\\\n",
       "\t\\hline\n",
       "\t1 & 621 & 896 & 1004 & 1048 & 1 & n & 1048 & 0 \\\\\n",
       "\t2 & 365 & 653 & 765 & 824 & 2 & n & 824 & 0 \\\\\n",
       "\t3 & 711 & 997 & 1095 & 1136 & 3 & n & 1136 & 0 \\\\\n",
       "\t4 & 207 & 492 & 601 & 645 & 4 & n & 645 & 0 \\\\\n",
       "\t5 & 425 & 711 & 816 & 858 & 5 & n & 858 & 0 \\\\\n",
       "\t6 & 436 & 719 & 815 & 855 & 6 & n & 855 & 0 \\\\\n",
       "\t7 & 357 & 623 & 728 & 767 & 7 & n & 767 & 0 \\\\\n",
       "\t8 & 234 & 527 & 633 & 677 & 8 & n & 677 & 0 \\\\\n",
       "\t9 & 487 & 791 & 891 & 935 & 9 & n & 935 & 0 \\\\\n",
       "\t10 & 509 & 774 & 879 & 915 & 10 & n & 915 & 0 \\\\\n",
       "\t11 & 233 & 505 & 606 & 645 & 11 & n & 645 & 0 \\\\\n",
       "\t12 & 1 & 2 & 3 & 4000 & 12 & q & 0 & 4000 \\\\\n",
       "\t13 & 628 & 911 & 1016 & 1059 & 13 & n & 1059 & 0 \\\\\n",
       "\t14 & 213 & 492 & 598 & 638 & 14 & n & 638 & 0 \\\\\n",
       "\t15 & 306 & 597 & 700 & 742 & 15 & n & 742 & 0 \\\\\n",
       "\t16 & 445 & 732 & 831 & 878 & 16 & n & 878 & 0 \\\\\n",
       "\t17 & 240 & 534 & 642 & 687 & 17 & n & 687 & 0 \\\\\n",
       "\t18 & 459 & 747 & 852 & 894 & 18 & n & 894 & 0 \\\\\n",
       "\t19 & 674 & 944 & 1044 & 1085 & 19 & n & 1085 & 0 \\\\\n",
       "\t20 & 247 & 537 & 640 & 682 & 20 & n & 682 & 0 \\\\\n",
       "\t21 & 1 & 2 & 3 & 4000 & 21 & q & 0 & 4000 \\\\\n",
       "\t22 & 283 & 564 & 661 & 705 & 22 & n & 705 & 0 \\\\\n",
       "\t23 & 551 & 841 & 944 & 983 & 23 & n & 983 & 0 \\\\\n",
       "\t24 & 233 & 506 & 605 & 644 & 24 & n & 644 & 0 \\\\\n",
       "\t25 & 267 & 541 & 638 & 678 & 25 & n & 678 & 0 \\\\\n",
       "\t26 & 204 & 498 & 602 & 641 & 26 & n & 641 & 0 \\\\\n",
       "\t27 & 320 & 588 & 697 & 735 & 27 & n & 735 & 0 \\\\\n",
       "\t28 & 234 & 506 & 606 & 649 & 28 & n & 649 & 0 \\\\\n",
       "\t29 & 245 & 534 & 633 & 673 & 29 & n & 673 & 0 \\\\\n",
       "\t30 & 260 & 559 & 658 & 705 & 30 & n & 705 & 0 \\\\\n",
       "\t$\\dots$ & $\\dots$ & $\\dots$ & $\\dots$ & $\\dots$ & $\\dots$ & $\\dots$ & $\\dots$ & $\\dots$ \\\\\n",
       "\\end{tabular}\n"
      ],
      "text/plain": [
       "\u001b[1m993×8 DataFrame\u001b[0m\n",
       "\u001b[1m Row \u001b[0m│\u001b[1m G1S   \u001b[0m\u001b[1m SG2   \u001b[0m\u001b[1m G2M   \u001b[0m\u001b[1m M     \u001b[0m\u001b[1m Cell  \u001b[0m\u001b[1m State  \u001b[0m\u001b[1m Plotn \u001b[0m\u001b[1m Plotq \u001b[0m\n",
       "\u001b[1m     \u001b[0m│\u001b[90m Int64 \u001b[0m\u001b[90m Int64 \u001b[0m\u001b[90m Int64 \u001b[0m\u001b[90m Int64 \u001b[0m\u001b[90m Int64 \u001b[0m\u001b[90m String \u001b[0m\u001b[90m Int64 \u001b[0m\u001b[90m Int64 \u001b[0m\n",
       "─────┼─────────────────────────────────────────────────────────\n",
       "   1 │   621    896   1004   1048      1  n        1048      0\n",
       "   2 │   365    653    765    824      2  n         824      0\n",
       "   3 │   711    997   1095   1136      3  n        1136      0\n",
       "   4 │   207    492    601    645      4  n         645      0\n",
       "   5 │   425    711    816    858      5  n         858      0\n",
       "   6 │   436    719    815    855      6  n         855      0\n",
       "   7 │   357    623    728    767      7  n         767      0\n",
       "   8 │   234    527    633    677      8  n         677      0\n",
       "   9 │   487    791    891    935      9  n         935      0\n",
       "  10 │   509    774    879    915     10  n         915      0\n",
       "  11 │   233    505    606    645     11  n         645      0\n",
       "  ⋮  │   ⋮      ⋮      ⋮      ⋮      ⋮      ⋮       ⋮      ⋮\n",
       " 984 │   263    558    664    713    991  n         713      0\n",
       " 985 │   202    503    609    652    992  n         652      0\n",
       " 986 │   209    497    599    644    993  n         644      0\n",
       " 987 │   266    546    644    684    994  n         684      0\n",
       " 988 │   643    920   1023   1065    995  n        1065      0\n",
       " 989 │   326    606    707    748    996  n         748      0\n",
       " 990 │   417    691    787    825    997  n         825      0\n",
       " 991 │  1251   1527   1632   1674    998  n        1674      0\n",
       " 992 │   719    997   1101   1148    999  n        1148      0\n",
       " 993 │   279    555    651    693   1000  n         693      0\n",
       "\u001b[36m                                               972 rows omitted\u001b[0m"
      ]
     },
     "execution_count": 4,
     "metadata": {},
     "output_type": "execute_result"
    }
   ],
   "source": [
    "CC_times_WT = getCCtimes_nq(\"WT\", 4000)"
   ]
  },
  {
   "cell_type": "code",
   "execution_count": 5,
   "id": "147fa7db",
   "metadata": {},
   "outputs": [],
   "source": [
    "CC_times_myc_mut = getCCtimes_nq(\"myc_mut\", 4000)"
   ]
  },
  {
   "cell_type": "code",
   "execution_count": 5,
   "id": "7606b0ba",
   "metadata": {},
   "outputs": [
    {
     "data": {
      "text/plain": [
       "mergeCCtimes (generic function with 1 method)"
      ]
     },
     "execution_count": 5,
     "metadata": {},
     "output_type": "execute_result"
    }
   ],
   "source": [
    "function mergeCCtimes(CC_times_df, mut)\n",
    "    CC_times_df_M = CC_times_df[!, [4,5,7,8]]\n",
    "    rename!(CC_times_df_M, :M => mut)\n",
    "    CC_times_WT_mut = innerjoin(CC_times_WT_M, CC_times_df_M, on = :Cell)\n",
    "    sort!(CC_times_WT_mut, [:WT], rev=true)\n",
    "    return(CC_times_WT_mut)\n",
    "end"
   ]
  },
  {
   "cell_type": "code",
   "execution_count": null,
   "id": "efaf51d1",
   "metadata": {},
   "outputs": [],
   "source": [
    "CC_times_WT_myc_mut = mergeCCtimes(CC_times_myc_mut, \"myc_mut\")"
   ]
  },
  {
   "cell_type": "markdown",
   "id": "18153e1b",
   "metadata": {},
   "source": [
    "### Grid plot"
   ]
  },
  {
   "cell_type": "code",
   "execution_count": 11,
   "id": "6392e769",
   "metadata": {},
   "outputs": [
    {
     "data": {
      "text/plain": [
       "Plots.PyPlotBackend()"
      ]
     },
     "execution_count": 11,
     "metadata": {},
     "output_type": "execute_result"
    }
   ],
   "source": [
    "pyplot()"
   ]
  },
  {
   "cell_type": "code",
   "execution_count": 10,
   "id": "279d2795",
   "metadata": {
    "scrolled": true
   },
   "outputs": [],
   "source": [
    "using StatsPlots"
   ]
  },
  {
   "cell_type": "code",
   "execution_count": 12,
   "id": "6df96059",
   "metadata": {},
   "outputs": [
    {
     "data": {
      "text/plain": [
       "plotGrid (generic function with 1 method)"
      ]
     },
     "execution_count": 12,
     "metadata": {},
     "output_type": "execute_result"
    }
   ],
   "source": [
    "function plotGrid(CC_times_comb, CC_times_mut, l1, l2, WT_col, mut_col, mut)\n",
    "\n",
    "        ## select WT results    \n",
    "        sort!(CC_times_comb, [:Plotn_WT], rev=true)\n",
    "        CC_times_comb[!, :id] = collect(1:nrow(CC_times_comb))\n",
    "    \n",
    "        CC_times_WTn = CC_times_comb[(CC_times_comb.Plotn_WT .!= 0), :];\n",
    "    \n",
    "        CC_times_WT_q=CC_times_comb[(CC_times_comb.Plotq_WT .!= 0), :];\n",
    "            \n",
    "        ## select mut results\n",
    "        CC_times_Mn = CC_times_comb[(CC_times_comb.Plotn .!= 0), :];\n",
    "    \n",
    "        CC_times_Mq=CC_times_comb[(CC_times_comb.Plotq .!= 0), :];\n",
    "\n",
    "        ## bar plot 1\n",
    "        plotb1=plot(ylim = (-10,1000))\n",
    "\n",
    "        for row in eachrow(CC_times_Mn)\n",
    "            plot!(plotb1,[0,row[mut]],[row[\"id\"],row[\"id\"]],color=mut_col,legend = false,lw=0.5)\n",
    "        end    \n",
    "        vline!([730], color=:grey, linestyle=:dash, lw=1, label=\"M WT 730 mins\")\n",
    "        plot!(CC_times_WTn[!, :Plotn_WT],CC_times_WTn[!, :id], color=WT_col, label=l1,lw=2)\n",
    "        s=string.(collect(0:5:55))\n",
    "        plot!(xticks = (0:(60*5):(60*55),s),xlabel=\"time (hours)\",ylabel=\"cell number\",fmt = :png)\n",
    "\n",
    "    \n",
    "        ## bar plot 2\n",
    "        plotb2=plot(yaxis=false,ylim = (-10,1000),xticks=false)\n",
    "        for row in eachrow(CC_times_WT_q)\n",
    "            plot!(plotb2,[0,row[\"Plotq_WT\"]],[row[\"id\"],row[\"id\"]],color=WT_col,legend = false)\n",
    "        end\n",
    "\n",
    "    \n",
    "        ## bar plot 3\n",
    "        plotb3=plot(yaxis=false,ylim = (-10,1000),xticks=false)\n",
    "        for row in eachrow(CC_times_Mq)\n",
    "            plot!(plotb3,[0,row[\"Plotq\"]],[row[\"id\"],row[\"id\"]],color=mut_col,legend = false)\n",
    "        end\n",
    "        \n",
    "        ## density\n",
    "        plotd = density(CC_times_WTn[!, :Plotn_WT], label = l1, alpha=0.5, color=WT_col)\n",
    "                density!(CC_times_Mn[!, :Plotn], label = l2, alpha=0.5, color=mut_col)\n",
    "                s=string.(collect(0:5:55))\n",
    "                plot!(xticks = (0:(60*5):(60*55),s),xlabel=\"time (hours)\",ylabel=\"density\",fmt = :png)\n",
    "    \n",
    "        ## bar plot 4\n",
    "        q_res1 = [nrow(CC_times_comb[(CC_times_comb.Plotq_WT .!= 0), :]),0]\n",
    "        q_res2 = [0, nrow(CC_times_comb[(CC_times_comb.Plotq .!= 0), :])]\n",
    "        #qres = \n",
    "        plotb4 = bar(q_res1,\n",
    "                    color=WT_col,\n",
    "                    bar_width=0.5,\n",
    "                    label=false,\n",
    "                    ylim = (0,200),\n",
    "                    xticks=(1:length([l1,l2]),[l1,l2]),\n",
    "                    linecolor = :match\n",
    "                    )\n",
    "                 bar!(q_res2, color=mut_col, label=false, bar_width=0.5,linecolor = :match)\n",
    "    \n",
    "        l = @layout [\n",
    "        a{0.5h,0.6w} b{0.5h,0.01w} c{0.5h,0.01w}\n",
    "        d{0.4h,0.62w} e{0.4h,0.1w}]\n",
    "    \n",
    "        plot_comb = plot(plotb1, plotb2, plotb3, plotd, plotb4, \n",
    "                    layout=l, size=(1000,1500))\n",
    "        return(plot_comb, plotb1, plotb2, plotd, plotb4)\n",
    "end"
   ]
  },
  {
   "cell_type": "code",
   "execution_count": 17,
   "id": "fa033c22",
   "metadata": {},
   "outputs": [
    {
     "data": {
      "text/plain": [
       "(Plot{Plots.PyPlotBackend() n=1079}, Plot{Plots.PyPlotBackend() n=979}, Plot{Plots.PyPlotBackend() n=81}, Plot{Plots.PyPlotBackend() n=2}, Plot{Plots.PyPlotBackend() n=2})"
      ]
     },
     "execution_count": 17,
     "metadata": {},
     "output_type": "execute_result"
    }
   ],
   "source": [
    "plots_WT_myc = plotGrid(CC_times_WT_myc_mut, CC_times_myc_mut, \"WT\", \"Myc x1.5\", :black, :green, \"myc_mut\")"
   ]
  }
 ],
 "metadata": {
  "@webio": {
   "lastCommId": null,
   "lastKernelId": null
  },
  "kernelspec": {
   "display_name": "Julia (16 threads) 1.7.3",
   "language": "julia",
   "name": "julia-_16-threads_-1.7"
  },
  "language_info": {
   "file_extension": ".jl",
   "mimetype": "application/julia",
   "name": "julia",
   "version": "1.7.3"
  }
 },
 "nbformat": 4,
 "nbformat_minor": 5
}

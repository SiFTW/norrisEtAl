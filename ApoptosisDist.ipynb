{
 "cells": [
  {
   "cell_type": "markdown",
   "id": "f1ea46a3",
   "metadata": {},
   "source": [
    "## apoptosis model - increasing Bcl2 copy number"
   ]
  },
  {
   "cell_type": "code",
   "execution_count": 2,
   "id": "7c5a46e4",
   "metadata": {},
   "outputs": [],
   "source": [
    "using Plots \n",
    "using CSV\n",
    "using Distributions\n",
    "using Random\n",
    "using DataFrames\n",
    "using JLD2\n",
    "using DelimitedFiles\n",
    "using FileIO\n",
    "using Sundials\n",
    "using LinearAlgebra\n",
    "using DifferentialEquations"
   ]
  },
  {
   "cell_type": "code",
   "execution_count": 3,
   "id": "d777f1f1",
   "metadata": {
    "scrolled": true
   },
   "outputs": [
    {
     "name": "stdout",
     "output_type": "stream",
     "text": [
      "inline\n",
      "Running CSV2JuliaDiffEq with parameters hard-coded into the CSV file, if this is not correct, re-run with the 5th argument set to 'scan' or 'param'\n",
      "Opening rateLaws.csv as rate law file\n",
      "Opening parameters.csv as parameters file\n",
      "Opening reactions.csv as reactions file\n"
     ]
    },
    {
     "data": {
      "text/plain": [
       "Process(`\u001b[4mpython3\u001b[24m \u001b[4mcsv2model-multiscale.py\u001b[24m \u001b[4mreactions.csv\u001b[24m \u001b[4mparameters.csv\u001b[24m \u001b[4mrateLaws.csv\u001b[24m \u001b[4modeApoptosis.jl\u001b[24m`, ProcessExited(0))"
      ]
     },
     "execution_count": 3,
     "metadata": {},
     "output_type": "execute_result"
    }
   ],
   "source": [
    "#set up where CSV2Julia is\n",
    "locationOfCSV2Julia=\"csv2model-multiscale.py\"\n",
    "\n",
    "#identify the three CSV sheets that describe the model\n",
    "reactionsFile=\"reactions.csv\"\n",
    "parametersFile=\"parameters.csv\"\n",
    "rateLawsFile=\"rateLaws.csv\"\n",
    "\n",
    "#build a command to execute csv2julia\n",
    "arguments=[reactionsFile, parametersFile, rateLawsFile, \"odeApoptosis.jl\"]\n",
    "cmd=`python3 $locationOfCSV2Julia $arguments`\n",
    "\n",
    "#lets run csv2julia (requires python to be installed)\n",
    "run(cmd)"
   ]
  },
  {
   "cell_type": "code",
   "execution_count": 4,
   "id": "bbd6e0af",
   "metadata": {},
   "outputs": [
    {
     "data": {
      "text/plain": [
       "0.32"
      ]
     },
     "execution_count": 4,
     "metadata": {},
     "output_type": "execute_result"
    }
   ],
   "source": [
    "#CV =  coefficient of variation\n",
    "preConcCV=0.32 # how much should we distribute starting parameters for each cell\n",
    "# We need a concentration CV of about 32% (if we were doing parameters it would be 11%ish)\n",
    "# I've tried 32% and it seems too high, the effect of variability ends up way greater than the effect of\n",
    "# the BCL-2 inhibition so I reduced this to 11%... can we justify that cell-to-cell variability is lower\n",
    "# between cell lines than between primary cells? Probably.\n",
    "# as reported here: https://www.pnas.org/content/115/12/E2888\n",
    "\n",
    "#DISincrease=0.000001"
   ]
  },
  {
   "cell_type": "code",
   "execution_count": 5,
   "id": "780ed487",
   "metadata": {},
   "outputs": [
    {
     "data": {
      "text/plain": [
       "myLogNormal (generic function with 1 method)"
      ]
     },
     "execution_count": 5,
     "metadata": {},
     "output_type": "execute_result"
    }
   ],
   "source": [
    "function myLogNormal(m,std)\n",
    "    γ = 1+std^2/m^2\n",
    "    μ = log(m/sqrt(γ))\n",
    "    σ = sqrt(log(γ))\n",
    "    return LogNormal(μ,σ)\n",
    "end"
   ]
  },
  {
   "cell_type": "code",
   "execution_count": 6,
   "id": "86e8cc98",
   "metadata": {},
   "outputs": [
    {
     "data": {
      "text/plain": [
       "sampleInit (generic function with 1 method)"
      ]
     },
     "execution_count": 6,
     "metadata": {},
     "output_type": "execute_result"
    }
   ],
   "source": [
    "#this function takes some initial conditions and distributes them by a set CV, returning new initial conditions\n",
    "function sampleInit(y0,cv)\n",
    "    #note mean of distribution is 1 so CV = standard deviation\n",
    "    distribution=Truncated(myLogNormal(1,cv),0,Inf)\n",
    "    scaling=rand(distribution, 1)\n",
    "    scalingMatrix=[ rand(distribution, 1)[1] for i=1:length(y0)]\n",
    "    ynew=y0.*scalingMatrix\n",
    "    return ynew\n",
    "end"
   ]
  },
  {
   "cell_type": "code",
   "execution_count": 7,
   "id": "b7c2d4c3",
   "metadata": {},
   "outputs": [
    {
     "data": {
      "text/plain": [
       "1"
      ]
     },
     "execution_count": 7,
     "metadata": {},
     "output_type": "execute_result"
    }
   ],
   "source": [
    "odeFile=include(\"odeApoptosis.jl\")\n",
    "include(\"variableNames.jl\")\n",
    "p=1\n",
    "maxTimeSS=100000.0\n",
    "maxTimeTC=144*60.0\n",
    "params=1"
   ]
  },
  {
   "cell_type": "code",
   "execution_count": 8,
   "id": "bf0806dc",
   "metadata": {
    "scrolled": true
   },
   "outputs": [
    {
     "data": {
      "text/plain": [
       "odeApoptosis! (generic function with 1 method)"
      ]
     },
     "execution_count": 8,
     "metadata": {},
     "output_type": "execute_result"
    }
   ],
   "source": [
    "# fix species\n",
    "include(\"fixSpecies.jl\")\n",
    "fixSpecies(\"odeApoptosis.jl\",\"odeApoptosisFixed.jl\",1)\n",
    "odeFile = include(\"odeApoptosisFixed.jl\")"
   ]
  },
  {
   "cell_type": "code",
   "execution_count": 9,
   "id": "635fdbb5",
   "metadata": {},
   "outputs": [
    {
     "data": {
      "text/plain": [
       "initConditionsApop (generic function with 1 method)"
      ]
     },
     "execution_count": 9,
     "metadata": {},
     "output_type": "execute_result"
    }
   ],
   "source": [
    "## Bcl2t values:\n",
    "\n",
    "# WT  = 277\n",
    "# 1.5 = 415.5\n",
    "# 2.0 = 554\n",
    "# 2.5 = 692.5\n",
    "# 3.0 = 831\n",
    "# 3.5 = 969.5\n",
    "\n",
    "# replace xxx with value for copy number\n",
    "\n",
    "function initConditionsApop(y0,syms)\n",
    "   #units: M\n",
    "   #source: the supplement of Albeck et al 2008 PLOS Biology\n",
    "   y0[findfirst(isequal(\"L\"),syms)]=0\n",
    "   y0[findfirst(isequal(\"R\"),syms)]=1000\n",
    "   y0[findfirst(isequal(\"flip\"),syms)]=2000\n",
    "   y0[findfirst(isequal(\"pC8\"),syms)]=10000\n",
    "   y0[findfirst(isequal(\"BAR\"),syms)]=1000\n",
    "   y0[findfirst(isequal(\"pC3\"),syms)]=10000\n",
    "   y0[findfirst(isequal(\"pC6\"),syms)]=10000\n",
    "   y0[findfirst(isequal(\"XIAP\"),syms)]=100000\n",
    "   y0[findfirst(isequal(\"PARP\"),syms)]=1000000\n",
    "   y0[findfirst(isequal(\"Bid\"),syms)]=60000\n",
    "   y0[findfirst(isequal(\"Bcl2c\"),syms)]=20000\n",
    "   y0[findfirst(isequal(\"Bax\"),syms)]=80000\n",
    "   y0[findfirst(isequal(\"Bcl2\"),syms)]=30000\n",
    "   y0[findfirst(isequal(\"Mito\"),syms)]=500000\n",
    "   y0[findfirst(isequal(\"mCytoC\"),syms)]=500000\n",
    "   y0[findfirst(isequal(\"mSMac\"),syms)]=100000\n",
    "   y0[findfirst(isequal(\"Apaf\"),syms)]=100000\n",
    "   y0[findfirst(isequal(\"Procasp9\"),syms)]=100000\n",
    "   #this is new and will be replaced by cRel control in multiscale modeling\n",
    "   y0[findfirst(isequal(\"Bcl2t\"),syms)]=277\n",
    "    return y0\n",
    "end"
   ]
  },
  {
   "cell_type": "code",
   "execution_count": 10,
   "id": "154dc3be",
   "metadata": {},
   "outputs": [
    {
     "data": {
      "text/plain": [
       "59"
      ]
     },
     "execution_count": 10,
     "metadata": {},
     "output_type": "execute_result"
    }
   ],
   "source": [
    "Bcl2tIndex=findfirst(isequal(\"Bcl2t\"),syms)"
   ]
  },
  {
   "cell_type": "code",
   "execution_count": 11,
   "id": "f75bce20",
   "metadata": {},
   "outputs": [
    {
     "data": {
      "text/plain": [
       "(::ODEFunction{true, SciMLBase.FullSpecialize, typeof(odeApoptosis!), UniformScaling{Bool}, Nothing, Nothing, Nothing, Nothing, Nothing, Nothing, Nothing, Nothing, Nothing, Nothing, Vector{Symbol}, Nothing, Nothing, typeof(SciMLBase.DEFAULT_OBSERVED), Nothing, Nothing}) (generic function with 1 method)"
      ]
     },
     "execution_count": 11,
     "metadata": {},
     "output_type": "execute_result"
    }
   ],
   "source": [
    "global f=ODEFunction(odeFile,syms=Symbol.(syms))"
   ]
  },
  {
   "cell_type": "code",
   "execution_count": 12,
   "id": "c07257cd",
   "metadata": {},
   "outputs": [],
   "source": [
    "import Base.Threads"
   ]
  },
  {
   "cell_type": "code",
   "execution_count": 13,
   "id": "a8875e7a",
   "metadata": {},
   "outputs": [
    {
     "data": {
      "text/plain": [
       "2-element Vector{Float64}:\n",
       " 1.0\n",
       " 1.5"
      ]
     },
     "execution_count": 13,
     "metadata": {},
     "output_type": "execute_result"
    }
   ],
   "source": [
    "conditions=[\"WT\",\"Bcl2_mut\"]\n",
    "bcl2Vals=[1,1.5]"
   ]
  },
  {
   "cell_type": "code",
   "execution_count": 14,
   "id": "f733eb2b",
   "metadata": {},
   "outputs": [
    {
     "data": {
      "text/plain": [
       "1000"
      ]
     },
     "execution_count": 14,
     "metadata": {},
     "output_type": "execute_result"
    }
   ],
   "source": [
    "first_cell = 1\n",
    "last_cell = 1000"
   ]
  },
  {
   "cell_type": "markdown",
   "id": "73e8e92c",
   "metadata": {},
   "source": [
    "### Steady state"
   ]
  },
  {
   "cell_type": "code",
   "execution_count": 14,
   "id": "c488111c",
   "metadata": {},
   "outputs": [
    {
     "data": {
      "text/plain": [
       "genSSconds (generic function with 1 method)"
      ]
     },
     "execution_count": 14,
     "metadata": {},
     "output_type": "execute_result"
    }
   ],
   "source": [
    "function genSSconds(Bcl2,mut)\n",
    "    y0=zeros(length(syms))\n",
    "    y0=initConditionsApop(y0,syms)\n",
    "    y0[findfirst(isequal(\"L\"),syms)]=0\n",
    "    y0[findfirst(isequal(\"Bcl2t\"),syms)]=277*Bcl2\n",
    "\n",
    "    #solve the steady state\n",
    "    prob=ODEProblem(f,y0,(0.0,maxTimeSS),abstol=1e-5,reltol=1e-3, maxiters=1e10)\n",
    "    solss=solve(prob, Rosenbrock23(), saveat=maxTimeSS/1000)\n",
    "\n",
    "    #dynamic phase, use SS solution as initial conditions\n",
    "    y0_ss=vec(convert(Array, solss[:,end]))    \n",
    "    y0_ss[findfirst(isequal(\"L\"),syms)]=1\n",
    "\n",
    "    # save y0 as csv\n",
    "    writedlm(\"steady_state_\"*mut*\".csv\", y0_ss, ',')\n",
    "    println(\"steady state conditions saved\")\n",
    "end"
   ]
  },
  {
   "cell_type": "code",
   "execution_count": null,
   "id": "bc6e3596",
   "metadata": {},
   "outputs": [],
   "source": [
    "genSSconds(1,\"WT\")"
   ]
  },
  {
   "cell_type": "code",
   "execution_count": null,
   "id": "6ba285d6",
   "metadata": {},
   "outputs": [],
   "source": [
    "genSSconds(1.5,\"Bcl2\")"
   ]
  },
  {
   "cell_type": "code",
   "execution_count": null,
   "id": "ce548a47",
   "metadata": {},
   "outputs": [],
   "source": [
    "function genRunConds(Bcl2, condition_folder)\n",
    "    Random.seed!(1234) #for reproducibility\n",
    "    for i in first_cell:last_cell\n",
    "        #import SS conds\n",
    "#         y0_ss = readdlm(\"steady_state_\"*condition_folder*\".csv\")\n",
    "        y0_ss = readdlm(\"steady_state_WT.csv\")\n",
    "        #set L value\n",
    "        y0_ss[findfirst(isequal(\"L\"),syms)]=1\n",
    "        \n",
    "        #distribute all initial conditions\n",
    "        y0_ss = sampleInit(y0_ss,preConcCV)\n",
    "#         thisDist=Truncated(myLogNormal(1,preConcCV),0,Inf)\n",
    "#         for j in 1:length(y0_ss)\n",
    "#             x = rand(thisDist,1)\n",
    "#             y0_ss[j] = y0_ss[j]*x[1]\n",
    "#         end\n",
    "                \n",
    "        # set Bcl2 value\n",
    "        y0_ss[findfirst(isequal(\"Bcl2t\"),syms)]=277*Bcl2\n",
    "\n",
    "        # save y0 as csv\n",
    "        writedlm(\"SS_conds/\"*condition_folder*\"/SS_conds_\"*string(i)*\".csv\", y0_ss, ',')    \n",
    "        println(\"Run conditions saved\")\n",
    "    end\n",
    "end"
   ]
  },
  {
   "cell_type": "code",
   "execution_count": null,
   "id": "8f1a93c2",
   "metadata": {},
   "outputs": [],
   "source": [
    "function runSimSS(first_cell, last_cell, Bcl2, thisCondition)\n",
    "    Threads.@threads for i in first_cell:last_cell\n",
    "        solveSS(i, Bcl2, thisCondition)\n",
    "    end\n",
    "end"
   ]
  },
  {
   "cell_type": "code",
   "execution_count": null,
   "id": "bc9700b4",
   "metadata": {
    "scrolled": true
   },
   "outputs": [],
   "source": [
    "y0_WT = vec(readdlm(\"steady_state_WT.csv\"))"
   ]
  },
  {
   "cell_type": "markdown",
   "id": "962adfea",
   "metadata": {},
   "source": [
    "### Run full sim"
   ]
  },
  {
   "cell_type": "code",
   "execution_count": 15,
   "id": "6a0662b0",
   "metadata": {},
   "outputs": [
    {
     "data": {
      "text/plain": [
       "genInitConds (generic function with 1 method)"
      ]
     },
     "execution_count": 15,
     "metadata": {},
     "output_type": "execute_result"
    }
   ],
   "source": [
    "function genInitConds(first_cell, last_cell, Bcl2, thisCondition)\n",
    "    #import SS conds\n",
    "    y0_ss = vec(readdlm(\"steady_state_\"*thisCondition*\".csv\"))\n",
    "    \n",
    "    for i in first_cell:last_cell\n",
    "        #distribute all initial conditions\n",
    "        y0_init = sampleInit(y0_ss,preConcCV)\n",
    "                \n",
    "        # set Bcl2 value\n",
    "        y0_init[findfirst(isequal(\"Bcl2t\"),syms)]=277*Bcl2\n",
    "\n",
    "        # save y0 as csv\n",
    "        writedlm(\"SS_conds/\"*thisCondition*\"/SS_conds_\"*string(i)*\".csv\", y0_init, ',')\n",
    "    end\n",
    "    println(\"conditions for \"*thisCondition*\" saved\")\n",
    "end"
   ]
  },
  {
   "cell_type": "code",
   "execution_count": 16,
   "id": "17290ef8",
   "metadata": {},
   "outputs": [
    {
     "name": "stdout",
     "output_type": "stream",
     "text": [
      "conditions for WT saved\n",
      "conditions for Bcl2_mut saved\n"
     ]
    }
   ],
   "source": [
    "for condIndex in 1:length(conditions)\n",
    "    #set seed\n",
    "    Random.seed!(1234) #for reproducibility\n",
    "    #get conditions\n",
    "    thisCondition=conditions[condIndex]\n",
    "    thisBCL2Scale=bcl2Vals[condIndex]\n",
    "    #create folder to save SS conditions\n",
    "    mkpath(\"SS_conds/\"*thisCondition*\"/\")\n",
    "    #run simulations\n",
    "    genInitConds(first_cell, last_cell, thisBCL2Scale, thisCondition)\n",
    "end"
   ]
  },
  {
   "cell_type": "code",
   "execution_count": 17,
   "id": "a8d56953",
   "metadata": {},
   "outputs": [],
   "source": [
    "#find cleaved parp\n",
    "speciesToPlot=\"CPARP\"\n",
    "#find total PARP\n",
    "denominator=[\"PARP\",\"PARP_C3\",\"CPARP\"]\n",
    "CPARPIndex=findfirst(isequal(speciesToPlot),syms)\n",
    "denominatorIndexes=Array{Int64}(undef,length(denominator))\n",
    "for i in 1:length(denominator)\n",
    "    thisIndex=findfirst(isequal(denominator[i]),syms)\n",
    "    denominatorIndexes[i]=convert(Int64,thisIndex)\n",
    "end"
   ]
  },
  {
   "cell_type": "code",
   "execution_count": 22,
   "id": "2a257a0d",
   "metadata": {},
   "outputs": [
    {
     "data": {
      "text/plain": [
       "calcT2D (generic function with 2 methods)"
      ]
     },
     "execution_count": 22,
     "metadata": {},
     "output_type": "execute_result"
    }
   ],
   "source": [
    "function calcT2D(sol, i)\n",
    "    cParray=zeros(1,Int(maxTimeTC)+1)\n",
    "    thisNumerator=sol[CPARPIndex,:] #cPARP\n",
    "    thisDenominatorTCs=sol[denominatorIndexes,:]\n",
    "    thisDenominator=sum(thisDenominatorTCs,dims=1) #other PARP species\n",
    "    parpPercentage=thisNumerator./thisDenominator'\n",
    "    cParray=[cParray;parpPercentage']\n",
    "    if cParray[end] > 0.01\n",
    "        T2Death = findfirst(x->x>0.01, cParray)            \n",
    "        T2D_t = T2Death[2]\n",
    "        T2D_df = DataFrame(Cell=\"cell_\"*string(i), T2D=T2D_t)\n",
    "        CSV.write(\"T2D_res/T2D_res_\"*thisCondition*\"/cell_\"*string(i)*\"_res.csv\", T2D_df)\n",
    "    else\n",
    "    end\n",
    "end"
   ]
  },
  {
   "cell_type": "code",
   "execution_count": 24,
   "id": "6054929d",
   "metadata": {},
   "outputs": [
    {
     "data": {
      "text/plain": [
       "solveCell (generic function with 1 method)"
      ]
     },
     "execution_count": 24,
     "metadata": {},
     "output_type": "execute_result"
    }
   ],
   "source": [
    "function solveCell(i, Bcl2, thisCondition)    \n",
    "        \n",
    "    for i in first_cell:last_cell\n",
    "        \n",
    "        y0_init = vec(readdlm(\"SS_conds/\"*thisCondition*\"/SS_conds_\"*string(i)*\".csv\"))\n",
    "        \n",
    "        prob=ODEProblem(f,y0_init,(0.0,maxTimeTC),abstol=1e-5,reltol=1e-3, maxiters=1e10)\n",
    "        sol=solve(prob, Rosenbrock23(), saveat=1.0, progress = true)\n",
    "\n",
    "        calcT2D(sol, i)\n",
    "\n",
    "    end\n",
    "    println(thisCondition*\" finished\")\n",
    "end"
   ]
  },
  {
   "cell_type": "code",
   "execution_count": 20,
   "id": "88e409e8",
   "metadata": {},
   "outputs": [
    {
     "data": {
      "text/plain": [
       "runSim (generic function with 1 method)"
      ]
     },
     "execution_count": 20,
     "metadata": {},
     "output_type": "execute_result"
    }
   ],
   "source": [
    "function runSim(first_cell, last_cell, Bcl2, thisCondition)\n",
    "    Threads.@threads for i in first_cell:last_cell\n",
    "#         try \n",
    "            solveCell(i, Bcl2, thisCondition)\n",
    "#         catch err\n",
    "#             println(\"cell \"*string(i)*\"failed, continuing.\")\n",
    "#             #println(err)\n",
    "#             continue\n",
    "#         end\n",
    "    end\n",
    "end"
   ]
  },
  {
   "cell_type": "markdown",
   "id": "a5ff495e",
   "metadata": {},
   "source": [
    "### Run simulation"
   ]
  },
  {
   "cell_type": "code",
   "execution_count": null,
   "id": "9c8e27ec",
   "metadata": {
    "scrolled": true
   },
   "outputs": [],
   "source": [
    "for condIndex in 1:length(conditions)\n",
    "    #set seed\n",
    "    Random.seed!(1234) #for reproducibility\n",
    "    #get conditions\n",
    "    thisCondition=conditions[condIndex]\n",
    "    thisBCL2Scale=bcl2Vals[condIndex]\n",
    "    #create folder to save SS conditions\n",
    "    mkpath(\"T2D_res/T2D_res_\"*thisCondition*\"/\")\n",
    "    #run simulations\n",
    "    runSim(first_cell, last_cell, thisBCL2Scale, thisCondition)\n",
    "end"
   ]
  },
  {
   "cell_type": "code",
   "execution_count": null,
   "id": "dcce825c",
   "metadata": {},
   "outputs": [],
   "source": [
    "#set seed\n",
    "Random.seed!(1234) #for reproducibility\n",
    "#get conditions\n",
    "thisCondition=conditions[2]\n",
    "thisBCL2Scale=bcl2Vals[2]\n",
    "#create folder to save SS conditions\n",
    "#mkpath(\"T2D_res/T2D_res_\"*thisCondition*\"/\")\n",
    "#run simulations\n",
    "runSim(first_cell, last_cell, thisBCL2Scale, thisCondition)"
   ]
  },
  {
   "cell_type": "markdown",
   "id": "6255accc",
   "metadata": {},
   "source": [
    "### New Plotting"
   ]
  },
  {
   "cell_type": "code",
   "execution_count": null,
   "id": "6c07d252",
   "metadata": {},
   "outputs": [],
   "source": [
    "colorArray=palette(:seaborn_colorblind)\n",
    "for condIndex in 1:length(conditions)\n",
    "    thisCondition=conditions[condIndex]\n",
    "    thisBCL2Scale=bcl2Vals[condIndex]\n",
    "    #plotly()\n",
    "    CPARPIndex=findfirst(isequal(\"CPARP\"),syms)\n",
    "\n",
    "    #plotVar=plot(legend=false,foreground_color_subplot=:white,title=\"all cells cparp percentage\")\n",
    "    plotT2D=Plots.plot!(title=\"all cells cparp percentage\")\n",
    "    for i in first_cell:last_cell\n",
    "        if isfile(\"solutions/\"*thisCondition*\"/cell_\"*string(i)*\".jld2\") == true\n",
    "            sol = load(\"solutions/\"*thisCondition*\"/cell_\"*string(i)*\".jld2\", \"solution\")\n",
    "\n",
    "            #calculate cleaved parp as a percentage of total and store in the array.\n",
    "            thisNumerator=sol[CPARPIndex,:] #cPARP\n",
    "            thisDenominatorTCs=sol[denominatorIndexes,:]\n",
    "            thisDenominator=sum(thisDenominatorTCs,dims=1) #other PARP species\n",
    "            parpPercentage=thisNumerator./thisDenominator'\n",
    "\n",
    "                plot!(plotT2D,parpPercentage.*100,color=colorArray[condIndex],legend=false,\n",
    "            xticks=(0:1000:8000))\n",
    "        else\n",
    "            continue\n",
    "        end\n",
    "    end\n",
    "end\n",
    "display(plotT2D)"
   ]
  },
  {
   "cell_type": "markdown",
   "id": "364f2e07",
   "metadata": {},
   "source": [
    "### Code for importing results and plotting"
   ]
  },
  {
   "cell_type": "code",
   "execution_count": null,
   "id": "1bc1e2b4",
   "metadata": {},
   "outputs": [],
   "source": [
    "function T2D(mut_folder, first_cell, last_cell)\n",
    "    T2D_array = zeros(first_cell, last_cell)\n",
    "    for i in first_cell:last_cell\n",
    "       if isfile(\"solutions/\"*mut_folder*\"/cell_\"*string(i)*\".jld2\") == true\n",
    "        cParray=zeros(1,Int(maxTimeTC)+1)\n",
    "        sol = load(\"solutions/\"*mut_folder*\"/cell_\"*string(i)*\".jld2\", \"solution\")    \n",
    "            thisNumerator=sol[CPARPIndex,:] #cPARP\n",
    "            thisDenominatorTCs=sol[denominatorIndexes,:]\n",
    "            thisDenominator=sum(thisDenominatorTCs,dims=1) #other PARP species\n",
    "            parpPercentage=thisNumerator./thisDenominator'\n",
    "            cParray=[cParray;parpPercentage']\n",
    "            if cParray[end] > 0.01\n",
    "                T2Death = findfirst(x->x>0.01, cParray)            \n",
    "                T2D_array[i] = T2Death[2]\n",
    "            else\n",
    "                continue\n",
    "            end\n",
    "        else\n",
    "            continue\n",
    "        end\n",
    "    end\n",
    "    T2D_array_df = DataFrame(T2D_array', :auto)\n",
    "    return(T2D_array_df)\n",
    "end"
   ]
  },
  {
   "cell_type": "code",
   "execution_count": null,
   "id": "bda13d3d",
   "metadata": {
    "scrolled": true
   },
   "outputs": [],
   "source": [
    "T2D_res_WT = T2D(\"WT\",1,100) "
   ]
  },
  {
   "cell_type": "code",
   "execution_count": null,
   "id": "192087ef",
   "metadata": {
    "scrolled": true
   },
   "outputs": [],
   "source": [
    "T2D_res_Bcl2mut = T2D(\"BCL2_mut\",1, 1000) "
   ]
  },
  {
   "cell_type": "code",
   "execution_count": null,
   "id": "cde9ddf2",
   "metadata": {},
   "outputs": [],
   "source": [
    "histogram(T2D_res_WT[!, :x1], \n",
    "            bins=200, size=(900,700), \n",
    "            label=\"WT\", \n",
    "            xlims = (55*60,65*60), \n",
    "            title=\"Time to cell death\",\n",
    "            xlab = \"time hours\") \n",
    "s=string.(collect(0:5:100))\n",
    "plot!(xticks = (0:(60*5):(60*100),s),xtickfontsize=14,ytickfontsize=14,xguidefontsize=18,yguidefontsize=18)"
   ]
  },
  {
   "cell_type": "code",
   "execution_count": null,
   "id": "69791fea",
   "metadata": {},
   "outputs": [],
   "source": [
    "mut_folder=\"WT\""
   ]
  },
  {
   "cell_type": "code",
   "execution_count": null,
   "id": "dfb0f7cf",
   "metadata": {},
   "outputs": [],
   "source": [
    "#plotly()\n",
    "CPARPIndex=findfirst(isequal(\"CPARP\"),syms)\n",
    "\n",
    "#plotVar=plot(legend=false,foreground_color_subplot=:white,title=\"all cells cparp percentage\")\n",
    "plotT2D=Plots.plot(title=\"all cells cparp percentage WT\")\n",
    "for i in first_cell:last_cell\n",
    "    if isfile(\"solutions/\"*mut_folder*\"/cell_\"*string(i)*\".jld2\") == true\n",
    "        sol = load(\"solutions/\"*mut_folder*\"/cell_\"*string(i)*\".jld2\", \"solution\")\n",
    "\n",
    "        #calculate cleaved parp as a percentage of total and store in the array.\n",
    "        thisNumerator=sol[CPARPIndex,:] #cPARP\n",
    "        thisDenominatorTCs=sol[denominatorIndexes,:]\n",
    "        thisDenominator=sum(thisDenominatorTCs,dims=1) #other PARP species\n",
    "        parpPercentage=thisNumerator./thisDenominator'\n",
    "        plot!(plotT2D,parpPercentage.*100,label=\"cell: \"*string(i),legend=false,\n",
    "        xticks=(0:1000:8000))\n",
    "    else\n",
    "        continue\n",
    "    end\n",
    "end\n",
    "display(plotT2D)"
   ]
  },
  {
   "cell_type": "code",
   "execution_count": null,
   "id": "15c9a59e",
   "metadata": {},
   "outputs": [],
   "source": [
    "#plotly()\n",
    "CPARPIndex=findfirst(isequal(\"CPARP\"),syms)\n",
    "\n",
    "#plotVar=plot(legend=false,foreground_color_subplot=:white,title=\"all cells cparp percentage\")\n",
    "plotT2D=Plots.plot(title=\"all cells cparp percentage WT\")\n",
    "for i in first_cell:last_cell\n",
    "    if isfile(\"solutions/\"*mut_folder*\"/cell_\"*string(i)*\".jld2\") == true\n",
    "        sol = load(\"solutions/\"*mut_folder*\"/cell_\"*string(i)*\".jld2\", \"solution\")\n",
    "\n",
    "        #calculate cleaved parp as a percentage of total and store in the array.\n",
    "        thisNumerator=sol[CPARPIndex,:] #cPARP\n",
    "        thisDenominatorTCs=sol[denominatorIndexes,:]\n",
    "        thisDenominator=sum(thisDenominatorTCs,dims=1) #other PARP species\n",
    "        parpPercentage=thisNumerator./thisDenominator'\n",
    "        plot!(plotT2D,parpPercentage.*100,label=\"cell: \"*string(i),legend=false,\n",
    "        xticks=(0:1000:8000))\n",
    "    else\n",
    "        continue\n",
    "    end\n",
    "end\n",
    "display(plotT2D)"
   ]
  },
  {
   "cell_type": "code",
   "execution_count": null,
   "id": "c7f8fada",
   "metadata": {},
   "outputs": [],
   "source": [
    "function calcT2D(mut_folder, cell_num)\n",
    "    cParray=zeros(1,Int(maxTimeTC)+1)\n",
    "    sol = load(\"solutions/\"*mut_folder*\"/cell_\"*string(cell_num)*\".jld2\", \"solution\")\n",
    "    thisNumerator=sol[varIndex,:] #cPARP\n",
    "    thisDenominatorTCs=sol[denominatorIndexes,:]\n",
    "    thisDenominator=sum(thisDenominatorTCs,dims=1) #other PARP species\n",
    "    parpPercentage=thisNumerator./thisDenominator'\n",
    "    cParray=[cParray;parpPercentage']\n",
    "    T2D_death = findfirst(x->x>0.01, cParray)\n",
    "    #T2D_t = T2D_death[1]\n",
    "    return T2D_death\n",
    "end"
   ]
  },
  {
   "cell_type": "code",
   "execution_count": null,
   "id": "acdff60f",
   "metadata": {},
   "outputs": [],
   "source": [
    "cParray=zeros(1,Int(maxTimeTC)+1)\n",
    "thisNumerator=sol[varIndex,:] #cPARP\n",
    "thisDenominatorTCs=sol[denominatorIndexes,:]\n",
    "thisDenominator=sum(thisDenominatorTCs,dims=1) #other PARP species\n",
    "parpPercentage=thisNumerator./thisDenominator'\n",
    "cParray=[cParray;parpPercentage']\n",
    "T2D_death = findfirst(x->x>0.01, cParray)"
   ]
  },
  {
   "cell_type": "code",
   "execution_count": null,
   "id": "8aeea2f1",
   "metadata": {
    "scrolled": true
   },
   "outputs": [],
   "source": [
    "#plotly()\n",
    "CPARPIndex=findfirst(isequal(\"CPARP\"),syms)\n",
    "\n",
    "plotVar_mut=Plots.plot(title=\"all cells cparp percentage Bcl2t x1.5\")\n",
    "for i in first_cell:last_cell\n",
    "    sol = load(\"solutions/\"*mut_folder*\"/cell_\"*string(i)*\".jld2\", \"solution\")\n",
    "\n",
    "    #calculate cleaved parp as a percentage of total and store in the array.\n",
    "    thisNumerator=sol[CPARPIndex,:] #cPARP\n",
    "    thisDenominatorTCs=sol[denominatorIndexes,:]\n",
    "    thisDenominator=sum(thisDenominatorTCs,dims=1) #other PARP species\n",
    "    parpPercentage=thisNumerator./thisDenominator'\n",
    "    plot!(plotVar_mut,parpPercentage.*100,label=\"cell: \"*string(i), legend=false,\n",
    "    xticks=(0:1000:8000))\n",
    "end"
   ]
  },
  {
   "cell_type": "code",
   "execution_count": null,
   "id": "90abdf6a",
   "metadata": {},
   "outputs": [],
   "source": [
    "function res_mod(res,mut)\n",
    "    rowNumberList=rownumber.(eachrow(res))\n",
    "    res.Cell_id=\"cell_\".*string.(rowNumberList)\n",
    "    rename!(res, :x1 => mut)\n",
    "    sort!(res, [mut], rev=true)\n",
    "    return(res)\n",
    "end"
   ]
  },
  {
   "cell_type": "code",
   "execution_count": null,
   "id": "c442b8bf",
   "metadata": {
    "scrolled": true
   },
   "outputs": [],
   "source": [
    "WT_res_mod = res_mod(T2D_res_WT, \"WT\")"
   ]
  },
  {
   "cell_type": "code",
   "execution_count": null,
   "id": "29ed360f",
   "metadata": {
    "scrolled": true
   },
   "outputs": [],
   "source": [
    "Bcl2mut_res_mod = res_mod(T2D_res_bcl2mut, \"Bcl2_mut\")"
   ]
  },
  {
   "cell_type": "code",
   "execution_count": null,
   "id": "9c7f219e",
   "metadata": {},
   "outputs": [],
   "source": [
    "CSV.write(\"WT_res_mod.csv\", WT_res_mod)\n",
    "CSV.write(\"Bcl2_res_mod.csv\", Bcl2mut_res_mod)"
   ]
  },
  {
   "cell_type": "code",
   "execution_count": null,
   "id": "fc7e86f3",
   "metadata": {
    "scrolled": true
   },
   "outputs": [],
   "source": [
    "WT_res_mod = DataFrame(CSV.File(\"WT_res_mod.csv\"))"
   ]
  },
  {
   "cell_type": "code",
   "execution_count": null,
   "id": "09353247",
   "metadata": {
    "scrolled": true
   },
   "outputs": [],
   "source": [
    "Bcl2mut_res_mod = DataFrame(CSV.File(\"Bcl2_res_mod.csv\"))"
   ]
  },
  {
   "cell_type": "code",
   "execution_count": null,
   "id": "07e833a9",
   "metadata": {
    "scrolled": true
   },
   "outputs": [],
   "source": [
    "WT_Bcl2_res = innerjoin(WT_res_mod, Bcl2mut_res_mod, on = :Cell_id)"
   ]
  },
  {
   "cell_type": "code",
   "execution_count": null,
   "id": "7c82fcb6",
   "metadata": {},
   "outputs": [],
   "source": [
    "plotb1=plot(ylim = (0,1000))\n",
    "        for row in eachrow(WT_res)\n",
    "            plot!(plotb1,[0,row[\"T2D\"]],color=:green,legend = false,lw=0.5)\n",
    "        end   "
   ]
  },
  {
   "cell_type": "code",
   "execution_count": null,
   "id": "c9e4afd1",
   "metadata": {},
   "outputs": [],
   "source": [
    "bar(WT_Bcl2_res.Bcl2_mut, orientation=:h, size=(750,750), linewidth = 0, color=:green, alpha=0.5, xlim=(1500,6000), label=\"Bcl2 x1.5\")\n",
    "bar!(WT_Bcl2_res.WT, orientation=:h, size=(750,750), linewidth = 0, color=:black, alpha=0.5, xlim=(1500,6000), label=\"WT\")"
   ]
  },
  {
   "cell_type": "code",
   "execution_count": null,
   "id": "96c4aa29",
   "metadata": {},
   "outputs": [],
   "source": [
    "TTD_array=[]"
   ]
  },
  {
   "cell_type": "code",
   "execution_count": null,
   "id": "977d4d68",
   "metadata": {},
   "outputs": [],
   "source": [
    "first_cell=1\n",
    "last_cell=100"
   ]
  },
  {
   "cell_type": "code",
   "execution_count": null,
   "id": "666cb47d",
   "metadata": {},
   "outputs": [],
   "source": [
    "#now lets get the time to death\n",
    "#filesInDir=readdir(\"outputFiles/apoptosis_ave_Bcl2/\")\n",
    "for i in first_cell:last_cell\n",
    "    sol = load(\"solutions/WT/cell_\"*string(i)*\".jld2\", \"solution\")\n",
    "    cPARPArray=zeros(1,Int(maxTimeTC)+1)\n",
    "    #calculate cleaved parp as a percentage of total and store in the array.\n",
    "    thisNumerator=sol[varIndex,:] #cPARP\n",
    "    thisDenominatorTCs=sol[denominatorIndexes,:]\n",
    "    thisDenominator=sum(thisDenominatorTCs,dims=1) #other PARP species\n",
    "    parpPercentage=thisNumerator./thisDenominator'\n",
    "    cPARPArray=[cPARPArray;parpPercentage']\n",
    "    time_point = findfirst(x->x>0.1, cPARPArray)\n",
    "    TTD = sol.t[time_point[2]]\n",
    "    append!(TTD_array, TTD)\n",
    "end"
   ]
  },
  {
   "cell_type": "code",
   "execution_count": null,
   "id": "a221b993",
   "metadata": {},
   "outputs": [],
   "source": []
  }
 ],
 "metadata": {
  "@webio": {
   "lastCommId": null,
   "lastKernelId": null
  },
  "kernelspec": {
   "display_name": "Julia 32 threads 1.7.3",
   "language": "julia",
   "name": "julia-32-threads-1.7"
  },
  "language_info": {
   "file_extension": ".jl",
   "mimetype": "application/julia",
   "name": "julia",
   "version": "1.7.3"
  }
 },
 "nbformat": 4,
 "nbformat_minor": 5
}
